{
 "cells": [
  {
   "cell_type": "markdown",
   "metadata": {},
   "source": [
    "# Merging Notebook\n",
    "\n",
    "This notebook contains scripts for merging the articles from different websites\n"
   ]
  },
  {
   "cell_type": "code",
   "execution_count": 1,
   "metadata": {},
   "outputs": [],
   "source": [
    "import pandas as pd\n",
    "import numpy as np\n",
    "import warnings\n",
    "warnings.filterwarnings('ignore')"
   ]
  },
  {
   "cell_type": "markdown",
   "metadata": {},
   "source": [
    "### Merge avilagtitkai.com articles"
   ]
  },
  {
   "cell_type": "code",
   "execution_count": 2,
   "metadata": {},
   "outputs": [],
   "source": [
    "vilag_titkai1 = pd.read_csv(\"C:/Users/molna/Desktop/Szakdolgozat/AvilágTitkai/avilagtitkai_articles.csv\", sep=\"%%\", encoding=\"utf-8\", header=0)"
   ]
  },
  {
   "cell_type": "code",
   "execution_count": 3,
   "metadata": {},
   "outputs": [
    {
     "data": {
      "text/plain": [
       "216"
      ]
     },
     "execution_count": 3,
     "metadata": {},
     "output_type": "execute_result"
    }
   ],
   "source": [
    "vilag_titkai1.head(2)\n",
    "len(vilag_titkai1)"
   ]
  },
  {
   "cell_type": "code",
   "execution_count": 4,
   "metadata": {},
   "outputs": [],
   "source": [
    "vilag_titkai2 = pd.read_csv(\"C:/Users/molna/Desktop/Szakdolgozat/AvilágTitkai/avilagtitkai_articles1.csv\", sep=\"%%\", encoding=\"utf-8\", header=0)"
   ]
  },
  {
   "cell_type": "code",
   "execution_count": 5,
   "metadata": {},
   "outputs": [
    {
     "data": {
      "text/plain": [
       "548"
      ]
     },
     "execution_count": 5,
     "metadata": {},
     "output_type": "execute_result"
    }
   ],
   "source": [
    "vilag_titkai2.head(2)\n",
    "len(vilag_titkai2)"
   ]
  },
  {
   "cell_type": "code",
   "execution_count": 6,
   "metadata": {},
   "outputs": [
    {
     "data": {
      "text/plain": [
       "764"
      ]
     },
     "execution_count": 6,
     "metadata": {},
     "output_type": "execute_result"
    }
   ],
   "source": [
    "vilagtitkai_all = vilag_titkai1.append(vilag_titkai2)\n",
    "len(vilagtitkai_all)"
   ]
  },
  {
   "cell_type": "code",
   "execution_count": 7,
   "metadata": {},
   "outputs": [],
   "source": [
    "vilagtitkai_all['source'] = 'avilagtitkai.com'"
   ]
  },
  {
   "cell_type": "markdown",
   "metadata": {},
   "source": [
    "## Merge alternativhirek.com articles"
   ]
  },
  {
   "cell_type": "code",
   "execution_count": 8,
   "metadata": {},
   "outputs": [],
   "source": [
    "alt_hirek1 = pd.read_csv(\"C:/Users/molna/Desktop/Szakdolgozat/Alternatívhírek/alternativhirek_articles1.csv\", sep=\"%%\", encoding=\"utf-8\", header=0)"
   ]
  },
  {
   "cell_type": "code",
   "execution_count": 9,
   "metadata": {},
   "outputs": [],
   "source": [
    "alt_hirek1 = alt_hirek1[alt_hirek1['\"link\"'].notnull()]"
   ]
  },
  {
   "cell_type": "code",
   "execution_count": 10,
   "metadata": {},
   "outputs": [
    {
     "data": {
      "text/html": [
       "<div>\n",
       "<style scoped>\n",
       "    .dataframe tbody tr th:only-of-type {\n",
       "        vertical-align: middle;\n",
       "    }\n",
       "\n",
       "    .dataframe tbody tr th {\n",
       "        vertical-align: top;\n",
       "    }\n",
       "\n",
       "    .dataframe thead th {\n",
       "        text-align: right;\n",
       "    }\n",
       "</style>\n",
       "<table border=\"1\" class=\"dataframe\">\n",
       "  <thead>\n",
       "    <tr style=\"text-align: right;\">\n",
       "      <th></th>\n",
       "      <th>\"link\"</th>\n",
       "      <th>\"title\"</th>\n",
       "      <th>\"date\"</th>\n",
       "      <th>\"text\"</th>\n",
       "    </tr>\n",
       "  </thead>\n",
       "  <tbody>\n",
       "    <tr>\n",
       "      <th>\"1\"</th>\n",
       "      <td>\"https://www.alternativhirek.com/2020/04/a-who...</td>\n",
       "      <td>\"\\\"A WHO felelőtlen viselkedése vitathatatlan!...</td>\n",
       "      <td>\"2020-04-01\"</td>\n",
       "      <td>\"Japán alelnöke nagyon komoly bírálattal döngö...</td>\n",
       "    </tr>\n",
       "    <tr>\n",
       "      <th>\"2\"</th>\n",
       "      <td>\"https://www.alternativhirek.com/2020/03/a-kap...</td>\n",
       "      <td>\"A kapitalizmus és az egész Európai Unió megbu...</td>\n",
       "      <td>\"2020-03-30\"</td>\n",
       "      <td>\"A kapitalizmus és az egész Európai Unió megbu...</td>\n",
       "    </tr>\n",
       "    <tr>\n",
       "      <th>\"3\"</th>\n",
       "      <td>\"https://www.alternativhirek.com/2020/11/natur...</td>\n",
       "      <td>\"NATURE: \\\"Nincs bizonyíték arra, hogy a tünet...</td>\n",
       "      <td>\"2020-11-21\"</td>\n",
       "      <td>\"Nincs bizonyíték arra, hogy a tünetmentes Cov...</td>\n",
       "    </tr>\n",
       "    <tr>\n",
       "      <th>\"4\"</th>\n",
       "      <td>\"https://www.alternativhirek.com/2020/11/menge...</td>\n",
       "      <td>\"Mengeléhez hasonlítják a Pfizer zsidó igazgat...</td>\n",
       "      <td>\"2020-11-14\"</td>\n",
       "      <td>\"  A meghökkentő montázsról  A lap a héten két...</td>\n",
       "    </tr>\n",
       "  </tbody>\n",
       "</table>\n",
       "</div>"
      ],
      "text/plain": [
       "                                                \"link\"  \\\n",
       "\"1\"  \"https://www.alternativhirek.com/2020/04/a-who...   \n",
       "\"2\"  \"https://www.alternativhirek.com/2020/03/a-kap...   \n",
       "\"3\"  \"https://www.alternativhirek.com/2020/11/natur...   \n",
       "\"4\"  \"https://www.alternativhirek.com/2020/11/menge...   \n",
       "\n",
       "                                               \"title\"        \"date\"  \\\n",
       "\"1\"  \"\\\"A WHO felelőtlen viselkedése vitathatatlan!...  \"2020-04-01\"   \n",
       "\"2\"  \"A kapitalizmus és az egész Európai Unió megbu...  \"2020-03-30\"   \n",
       "\"3\"  \"NATURE: \\\"Nincs bizonyíték arra, hogy a tünet...  \"2020-11-21\"   \n",
       "\"4\"  \"Mengeléhez hasonlítják a Pfizer zsidó igazgat...  \"2020-11-14\"   \n",
       "\n",
       "                                                \"text\"  \n",
       "\"1\"  \"Japán alelnöke nagyon komoly bírálattal döngö...  \n",
       "\"2\"  \"A kapitalizmus és az egész Európai Unió megbu...  \n",
       "\"3\"  \"Nincs bizonyíték arra, hogy a tünetmentes Cov...  \n",
       "\"4\"  \"  A meghökkentő montázsról  A lap a héten két...  "
      ]
     },
     "execution_count": 10,
     "metadata": {},
     "output_type": "execute_result"
    }
   ],
   "source": [
    "len(alt_hirek1)\n",
    "alt_hirek1.head(4)"
   ]
  },
  {
   "cell_type": "code",
   "execution_count": 11,
   "metadata": {},
   "outputs": [],
   "source": [
    "alt_hirek2 = pd.read_csv(\"C:/Users/molna/Desktop/Szakdolgozat/Alternatívhírek/alternativhirek_articles.csv\", sep=\"%%\", encoding=\"utf-8\", header=0)"
   ]
  },
  {
   "cell_type": "code",
   "execution_count": 12,
   "metadata": {},
   "outputs": [],
   "source": [
    "alt_hirek2 = alt_hirek2[alt_hirek2['\"link\"'].notnull()]"
   ]
  },
  {
   "cell_type": "code",
   "execution_count": 13,
   "metadata": {},
   "outputs": [
    {
     "data": {
      "text/html": [
       "<div>\n",
       "<style scoped>\n",
       "    .dataframe tbody tr th:only-of-type {\n",
       "        vertical-align: middle;\n",
       "    }\n",
       "\n",
       "    .dataframe tbody tr th {\n",
       "        vertical-align: top;\n",
       "    }\n",
       "\n",
       "    .dataframe thead th {\n",
       "        text-align: right;\n",
       "    }\n",
       "</style>\n",
       "<table border=\"1\" class=\"dataframe\">\n",
       "  <thead>\n",
       "    <tr style=\"text-align: right;\">\n",
       "      <th></th>\n",
       "      <th>\"link\"</th>\n",
       "      <th>\"title\"</th>\n",
       "      <th>\"date\"</th>\n",
       "      <th>\"text\"</th>\n",
       "    </tr>\n",
       "  </thead>\n",
       "  <tbody>\n",
       "    <tr>\n",
       "      <th>\"1\"</th>\n",
       "      <td>\"https://www.alternativhirek.com/2021/05/a-bbc...</td>\n",
       "      <td>\"A BBC bemondója belehalt a vérrögképződésbe, ...</td>\n",
       "      <td>\"2021-05-28\"</td>\n",
       "      <td>\"A BBC rádió műsorvezetője fejfájástól szenved...</td>\n",
       "    </tr>\n",
       "    <tr>\n",
       "      <th>\"2\"</th>\n",
       "      <td>\"https://www.alternativhirek.com/2020/05/halal...</td>\n",
       "      <td>\"Halálosabb, mint a Covid? A bezártság hatásár...</td>\n",
       "      <td>\"2020-05-23\"</td>\n",
       "      <td>\"Halálosabb, mint a Covid? Az egyik kalifornia...</td>\n",
       "    </tr>\n",
       "    <tr>\n",
       "      <th>\"3\"</th>\n",
       "      <td>\"https://www.alternativhirek.com/2020/11/fonto...</td>\n",
       "      <td>\"FONTOS: Bírósági döntés mondta ki, hogy a PCR...</td>\n",
       "      <td>\"2020-11-28\"</td>\n",
       "      <td>\"Viszont úgy éreztem fontos, hogy a hír Magyar...</td>\n",
       "    </tr>\n",
       "    <tr>\n",
       "      <th>\"4\"</th>\n",
       "      <td>\"https://www.alternativhirek.com/2021/01/a-tel...</td>\n",
       "      <td>\"\\\"A tél felénél járva a halandósági mutatók m...</td>\n",
       "      <td>\"2021-01-21\"</td>\n",
       "      <td>\" -  Bár az Egyesült Királyságban a vírusnak t...</td>\n",
       "    </tr>\n",
       "  </tbody>\n",
       "</table>\n",
       "</div>"
      ],
      "text/plain": [
       "                                                \"link\"  \\\n",
       "\"1\"  \"https://www.alternativhirek.com/2021/05/a-bbc...   \n",
       "\"2\"  \"https://www.alternativhirek.com/2020/05/halal...   \n",
       "\"3\"  \"https://www.alternativhirek.com/2020/11/fonto...   \n",
       "\"4\"  \"https://www.alternativhirek.com/2021/01/a-tel...   \n",
       "\n",
       "                                               \"title\"        \"date\"  \\\n",
       "\"1\"  \"A BBC bemondója belehalt a vérrögképződésbe, ...  \"2021-05-28\"   \n",
       "\"2\"  \"Halálosabb, mint a Covid? A bezártság hatásár...  \"2020-05-23\"   \n",
       "\"3\"  \"FONTOS: Bírósági döntés mondta ki, hogy a PCR...  \"2020-11-28\"   \n",
       "\"4\"  \"\\\"A tél felénél járva a halandósági mutatók m...  \"2021-01-21\"   \n",
       "\n",
       "                                                \"text\"  \n",
       "\"1\"  \"A BBC rádió műsorvezetője fejfájástól szenved...  \n",
       "\"2\"  \"Halálosabb, mint a Covid? Az egyik kalifornia...  \n",
       "\"3\"  \"Viszont úgy éreztem fontos, hogy a hír Magyar...  \n",
       "\"4\"  \" -  Bár az Egyesült Királyságban a vírusnak t...  "
      ]
     },
     "execution_count": 13,
     "metadata": {},
     "output_type": "execute_result"
    }
   ],
   "source": [
    "len(alt_hirek2)\n",
    "alt_hirek2.head(4)"
   ]
  },
  {
   "cell_type": "code",
   "execution_count": 14,
   "metadata": {},
   "outputs": [
    {
     "data": {
      "text/plain": [
       "1508"
      ]
     },
     "execution_count": 14,
     "metadata": {},
     "output_type": "execute_result"
    }
   ],
   "source": [
    "alt_hirek_all = alt_hirek1.append(alt_hirek2)\n",
    "len(alt_hirek_all)"
   ]
  },
  {
   "cell_type": "code",
   "execution_count": 15,
   "metadata": {},
   "outputs": [],
   "source": [
    "alt_hirek_all['source'] = 'alternativhirek.com'"
   ]
  },
  {
   "cell_type": "markdown",
   "metadata": {},
   "source": [
    "## Merge kimondottigazsagok.com articles"
   ]
  },
  {
   "cell_type": "code",
   "execution_count": 16,
   "metadata": {},
   "outputs": [],
   "source": [
    "kim_igaz1 = pd.read_csv(\"C:/Users/molna/Desktop/Szakdolgozat/KimondottIgazságok/kimondottigazsagok_articles.csv\", sep=\"%%\", encoding=\"utf-8\", header=0)"
   ]
  },
  {
   "cell_type": "code",
   "execution_count": 17,
   "metadata": {},
   "outputs": [
    {
     "data": {
      "text/plain": [
       "5749"
      ]
     },
     "execution_count": 17,
     "metadata": {},
     "output_type": "execute_result"
    }
   ],
   "source": [
    "kim_igaz1.head(4)\n",
    "len(kim_igaz1)"
   ]
  },
  {
   "cell_type": "code",
   "execution_count": 18,
   "metadata": {},
   "outputs": [],
   "source": [
    "kim_igaz2 = pd.read_csv(\"C:/Users/molna/Desktop/Szakdolgozat/KimondottIgazságok/kimondottigazsagok_articles1.csv\", sep=\"%%\", encoding=\"utf-8\", header=0)"
   ]
  },
  {
   "cell_type": "code",
   "execution_count": 19,
   "metadata": {},
   "outputs": [
    {
     "data": {
      "text/plain": [
       "2853"
      ]
     },
     "execution_count": 19,
     "metadata": {},
     "output_type": "execute_result"
    }
   ],
   "source": [
    "kim_igaz2.head(4)\n",
    "len(kim_igaz2)"
   ]
  },
  {
   "cell_type": "code",
   "execution_count": 20,
   "metadata": {},
   "outputs": [
    {
     "data": {
      "text/plain": [
       "8602"
      ]
     },
     "execution_count": 20,
     "metadata": {},
     "output_type": "execute_result"
    }
   ],
   "source": [
    "kimondott_igaz_all = kim_igaz1.append(kim_igaz2)\n",
    "len(kimondott_igaz_all)"
   ]
  },
  {
   "cell_type": "code",
   "execution_count": 21,
   "metadata": {},
   "outputs": [],
   "source": [
    "kimondott_igaz_all['source'] = 'kimondottigazsagok.com'"
   ]
  },
  {
   "cell_type": "markdown",
   "metadata": {},
   "source": [
    "## Merge eztnezdmeg.com articles"
   ]
  },
  {
   "cell_type": "code",
   "execution_count": 22,
   "metadata": {},
   "outputs": [],
   "source": [
    "eztnezd1 = pd.read_csv(\"C:/Users/molna/Desktop/Szakdolgozat/Eztnézdmeg/eztnezdmeg_articles.csv\", sep=\"%%\", encoding=\"utf-8\", header=0)"
   ]
  },
  {
   "cell_type": "code",
   "execution_count": 23,
   "metadata": {},
   "outputs": [
    {
     "data": {
      "text/plain": [
       "15401"
      ]
     },
     "execution_count": 23,
     "metadata": {},
     "output_type": "execute_result"
    }
   ],
   "source": [
    "eztnezd1.head(4)\n",
    "len(eztnezd1)"
   ]
  },
  {
   "cell_type": "code",
   "execution_count": 24,
   "metadata": {},
   "outputs": [],
   "source": [
    "eztnezd2 = pd.read_csv(\"C:/Users/molna/Desktop/Szakdolgozat/Eztnézdmeg/eztnezdmeg_articles1.csv\", sep=\"%%\", encoding=\"utf-8\", header=0)"
   ]
  },
  {
   "cell_type": "code",
   "execution_count": 25,
   "metadata": {},
   "outputs": [
    {
     "data": {
      "text/plain": [
       "6370"
      ]
     },
     "execution_count": 25,
     "metadata": {},
     "output_type": "execute_result"
    }
   ],
   "source": [
    "eztnezd2.head(4)\n",
    "len(eztnezd2)"
   ]
  },
  {
   "cell_type": "code",
   "execution_count": 26,
   "metadata": {},
   "outputs": [
    {
     "data": {
      "text/plain": [
       "21771"
      ]
     },
     "execution_count": 26,
     "metadata": {},
     "output_type": "execute_result"
    }
   ],
   "source": [
    "eznezdmeg_all = eztnezd1.append(eztnezd2)\n",
    "len(eznezdmeg_all)"
   ]
  },
  {
   "cell_type": "code",
   "execution_count": 27,
   "metadata": {},
   "outputs": [],
   "source": [
    "eznezdmeg_all['source'] = 'eztnezdmeg.com'"
   ]
  },
  {
   "cell_type": "markdown",
   "metadata": {},
   "source": [
    "## Merge titkokszigete.com articles"
   ]
  },
  {
   "cell_type": "code",
   "execution_count": 28,
   "metadata": {},
   "outputs": [],
   "source": [
    "titok_sziget1 = pd.read_csv(\"C:/Users/molna/Desktop/Szakdolgozat/TitkokSzigete/titkokszigete_articles.csv\", sep=\"%%\", encoding=\"utf-8\", header=0)"
   ]
  },
  {
   "cell_type": "code",
   "execution_count": 29,
   "metadata": {},
   "outputs": [
    {
     "data": {
      "text/plain": [
       "4480"
      ]
     },
     "execution_count": 29,
     "metadata": {},
     "output_type": "execute_result"
    }
   ],
   "source": [
    "titok_sziget1.head(4)\n",
    "len(titok_sziget1)"
   ]
  },
  {
   "cell_type": "code",
   "execution_count": 30,
   "metadata": {},
   "outputs": [],
   "source": [
    "titok_sziget2 = pd.read_csv(\"C:/Users/molna/Desktop/Szakdolgozat/TitkokSzigete/titkokszigete_articles1.csv\", sep=\"%%\", encoding=\"utf-8\", header=0)"
   ]
  },
  {
   "cell_type": "code",
   "execution_count": 31,
   "metadata": {},
   "outputs": [
    {
     "data": {
      "text/plain": [
       "2029"
      ]
     },
     "execution_count": 31,
     "metadata": {},
     "output_type": "execute_result"
    }
   ],
   "source": [
    "titok_sziget2.head(4)\n",
    "len(titok_sziget2)"
   ]
  },
  {
   "cell_type": "code",
   "execution_count": 32,
   "metadata": {},
   "outputs": [
    {
     "data": {
      "text/plain": [
       "6509"
      ]
     },
     "execution_count": 32,
     "metadata": {},
     "output_type": "execute_result"
    }
   ],
   "source": [
    "titkok_szigete_all = titok_sziget1.append(titok_sziget2)\n",
    "len(titkok_szigete_all)"
   ]
  },
  {
   "cell_type": "code",
   "execution_count": 33,
   "metadata": {},
   "outputs": [],
   "source": [
    "titkok_szigete_all['source'] = 'titkokszigete.hu'"
   ]
  },
  {
   "cell_type": "markdown",
   "metadata": {},
   "source": [
    "## Merge tudasfaja.com articles"
   ]
  },
  {
   "cell_type": "code",
   "execution_count": 34,
   "metadata": {},
   "outputs": [],
   "source": [
    "tudas_faja1 = pd.read_csv(\"C:/Users/molna/Desktop/Szakdolgozat/TudásFája/tudasfaja_articles.csv\", sep=\"%%\", encoding=\"utf-8\", header=0)"
   ]
  },
  {
   "cell_type": "code",
   "execution_count": 35,
   "metadata": {},
   "outputs": [
    {
     "data": {
      "text/plain": [
       "5086"
      ]
     },
     "execution_count": 35,
     "metadata": {},
     "output_type": "execute_result"
    }
   ],
   "source": [
    "tudas_faja1.head(4)\n",
    "len(tudas_faja1)"
   ]
  },
  {
   "cell_type": "code",
   "execution_count": 36,
   "metadata": {},
   "outputs": [],
   "source": [
    "tudas_faja2 = pd.read_csv(\"C:/Users/molna/Desktop/Szakdolgozat/TudásFája/tudasfaja_articles1.csv\", sep=\"%%\", encoding=\"utf-8\", header=0)"
   ]
  },
  {
   "cell_type": "code",
   "execution_count": 37,
   "metadata": {},
   "outputs": [
    {
     "data": {
      "text/plain": [
       "2841"
      ]
     },
     "execution_count": 37,
     "metadata": {},
     "output_type": "execute_result"
    }
   ],
   "source": [
    "tudas_faja2.head(4)\n",
    "len(tudas_faja2)"
   ]
  },
  {
   "cell_type": "code",
   "execution_count": 38,
   "metadata": {},
   "outputs": [
    {
     "data": {
      "text/plain": [
       "7927"
      ]
     },
     "execution_count": 38,
     "metadata": {},
     "output_type": "execute_result"
    }
   ],
   "source": [
    "tudas_faja_all = tudas_faja1.append(tudas_faja2)\n",
    "len(tudas_faja_all)"
   ]
  },
  {
   "cell_type": "code",
   "execution_count": 39,
   "metadata": {},
   "outputs": [],
   "source": [
    "tudas_faja_all.drop(['\"num_adv\"'], axis=1, inplace=True)"
   ]
  },
  {
   "cell_type": "code",
   "execution_count": 40,
   "metadata": {},
   "outputs": [],
   "source": [
    "tudas_faja_all['source'] = 'tudasfaja.com'"
   ]
  },
  {
   "cell_type": "markdown",
   "metadata": {},
   "source": [
    "## Merge vilagfigyelo.com articles"
   ]
  },
  {
   "cell_type": "code",
   "execution_count": 41,
   "metadata": {},
   "outputs": [
    {
     "data": {
      "text/plain": [
       "173"
      ]
     },
     "execution_count": 41,
     "metadata": {},
     "output_type": "execute_result"
    }
   ],
   "source": [
    "vilagfigyelo1 = pd.read_csv(\"C:/Users/molna/Desktop/Szakdolgozat/Világfigyelő/vilagfigyelo_articles1.csv\", sep=\"%%\", encoding=\"utf-8\", header=0)\n",
    "len(vilagfigyelo1)"
   ]
  },
  {
   "cell_type": "code",
   "execution_count": 42,
   "metadata": {},
   "outputs": [
    {
     "data": {
      "text/html": [
       "<div>\n",
       "<style scoped>\n",
       "    .dataframe tbody tr th:only-of-type {\n",
       "        vertical-align: middle;\n",
       "    }\n",
       "\n",
       "    .dataframe tbody tr th {\n",
       "        vertical-align: top;\n",
       "    }\n",
       "\n",
       "    .dataframe thead th {\n",
       "        text-align: right;\n",
       "    }\n",
       "</style>\n",
       "<table border=\"1\" class=\"dataframe\">\n",
       "  <thead>\n",
       "    <tr style=\"text-align: right;\">\n",
       "      <th></th>\n",
       "      <th>\"link\"</th>\n",
       "      <th>\"title\"</th>\n",
       "      <th>\"date\"</th>\n",
       "      <th>\"text\"</th>\n",
       "    </tr>\n",
       "  </thead>\n",
       "  <tbody>\n",
       "    <tr>\n",
       "      <th>\"1\"</th>\n",
       "      <td>\"https://vilagfigyelo.com/otthon-harcoljatok-a...</td>\n",
       "      <td>\"\\\"Otthon harcoljatok a Covid-19 ellen!\\\" Amer...</td>\n",
       "      <td>\"2020-05-07\"</td>\n",
       "      <td>\"Amerikai hadihajót hajtott ki a kínai tengeri...</td>\n",
       "    </tr>\n",
       "    <tr>\n",
       "      <th>\"2\"</th>\n",
       "      <td>\"https://vilagfigyelo.com/a-legrosszabb-hogy-m...</td>\n",
       "      <td>\"A legrosszabb, hogy mind egyedül halnak meg –...</td>\n",
       "      <td>\"2020-04-01\"</td>\n",
       "      <td>\"Daniela J. Lamas egy bostoni kórház intenzív ...</td>\n",
       "    </tr>\n",
       "    <tr>\n",
       "      <th>\"3\"</th>\n",
       "      <td>\"https://vilagfigyelo.com/a-mesterseges-korona...</td>\n",
       "      <td>\"A mesterséges koronavírust, már 2015-ben lele...</td>\n",
       "      <td>\"2020-04-12\"</td>\n",
       "      <td>\"A RAI, olasz állami televízió, már egy 2015-b...</td>\n",
       "    </tr>\n",
       "    <tr>\n",
       "      <th>\"4\"</th>\n",
       "      <td>\"https://vilagfigyelo.com/a-tunetek-megszunese...</td>\n",
       "      <td>\"A tünetek megszűnése után is fertőzhetnek még...</td>\n",
       "      <td>\"2020-03-28\"</td>\n",
       "      <td>\"A szerzők szerint az enyhe tüneteket produkál...</td>\n",
       "    </tr>\n",
       "  </tbody>\n",
       "</table>\n",
       "</div>"
      ],
      "text/plain": [
       "                                                \"link\"  \\\n",
       "\"1\"  \"https://vilagfigyelo.com/otthon-harcoljatok-a...   \n",
       "\"2\"  \"https://vilagfigyelo.com/a-legrosszabb-hogy-m...   \n",
       "\"3\"  \"https://vilagfigyelo.com/a-mesterseges-korona...   \n",
       "\"4\"  \"https://vilagfigyelo.com/a-tunetek-megszunese...   \n",
       "\n",
       "                                               \"title\"        \"date\"  \\\n",
       "\"1\"  \"\\\"Otthon harcoljatok a Covid-19 ellen!\\\" Amer...  \"2020-05-07\"   \n",
       "\"2\"  \"A legrosszabb, hogy mind egyedül halnak meg –...  \"2020-04-01\"   \n",
       "\"3\"  \"A mesterséges koronavírust, már 2015-ben lele...  \"2020-04-12\"   \n",
       "\"4\"  \"A tünetek megszűnése után is fertőzhetnek még...  \"2020-03-28\"   \n",
       "\n",
       "                                                \"text\"  \n",
       "\"1\"  \"Amerikai hadihajót hajtott ki a kínai tengeri...  \n",
       "\"2\"  \"Daniela J. Lamas egy bostoni kórház intenzív ...  \n",
       "\"3\"  \"A RAI, olasz állami televízió, már egy 2015-b...  \n",
       "\"4\"  \"A szerzők szerint az enyhe tüneteket produkál...  "
      ]
     },
     "execution_count": 42,
     "metadata": {},
     "output_type": "execute_result"
    }
   ],
   "source": [
    "vilagfigyelo1.head(4)"
   ]
  },
  {
   "cell_type": "code",
   "execution_count": 43,
   "metadata": {},
   "outputs": [
    {
     "data": {
      "text/plain": [
       "62"
      ]
     },
     "execution_count": 43,
     "metadata": {},
     "output_type": "execute_result"
    }
   ],
   "source": [
    "vilagfigyelo = pd.read_csv(\"C:/Users/molna/Desktop/Szakdolgozat/Világfigyelő/vilagfigyelo_articles.csv\", sep=\"%%\", encoding=\"utf-8\", header=0)\n",
    "len(vilagfigyelo)"
   ]
  },
  {
   "cell_type": "code",
   "execution_count": 44,
   "metadata": {},
   "outputs": [],
   "source": [
    "vilagfigyelo = vilagfigyelo[vilagfigyelo['\"link\"'].notnull()]"
   ]
  },
  {
   "cell_type": "code",
   "execution_count": 45,
   "metadata": {},
   "outputs": [
    {
     "data": {
      "text/html": [
       "<div>\n",
       "<style scoped>\n",
       "    .dataframe tbody tr th:only-of-type {\n",
       "        vertical-align: middle;\n",
       "    }\n",
       "\n",
       "    .dataframe tbody tr th {\n",
       "        vertical-align: top;\n",
       "    }\n",
       "\n",
       "    .dataframe thead th {\n",
       "        text-align: right;\n",
       "    }\n",
       "</style>\n",
       "<table border=\"1\" class=\"dataframe\">\n",
       "  <thead>\n",
       "    <tr style=\"text-align: right;\">\n",
       "      <th></th>\n",
       "      <th>\"link\"</th>\n",
       "      <th>\"title\"</th>\n",
       "      <th>\"date\"</th>\n",
       "      <th>\"text\"</th>\n",
       "    </tr>\n",
       "  </thead>\n",
       "  <tbody>\n",
       "    <tr>\n",
       "      <th>\"1\"</th>\n",
       "      <td>\"https://vilagfigyelo.com/drabik-janos-mindenk...</td>\n",
       "      <td>\"A COVID-19, biológiai világháború Kína ellen ...</td>\n",
       "      <td>\"2020.05.17.\"</td>\n",
       "      <td>\"  Drábik János leleplező kutatásai szerint eg...</td>\n",
       "    </tr>\n",
       "    <tr>\n",
       "      <th>\"2\"</th>\n",
       "      <td>\"https://vilagfigyelo.com/a-virusra-hivatkozva...</td>\n",
       "      <td>\"A vírusra hivatkozva, új digitális-rabszolgas...</td>\n",
       "      <td>\"2021.05.09.\"</td>\n",
       "      <td>\"  Amikor a globalisták megfogalmazták terveik...</td>\n",
       "    </tr>\n",
       "    <tr>\n",
       "      <th>\"3\"</th>\n",
       "      <td>\"https://vilagfigyelo.com/aids-spanyolnatha-va...</td>\n",
       "      <td>\"AIDS, spanyolnátha vagy pestis? Mennyire halá...</td>\n",
       "      <td>\"2020.10.10.\"</td>\n",
       "      <td>\"  Ahogy az új koronavírus fertőzési és halálo...</td>\n",
       "    </tr>\n",
       "    <tr>\n",
       "      <th>\"4\"</th>\n",
       "      <td>\"https://vilagfigyelo.com/alapjovedelem-a-legu...</td>\n",
       "      <td>\"Alapjövedelem: a legújabb ballib társadalomgy...</td>\n",
       "      <td>\"2020.04.24.\"</td>\n",
       "      <td>\"  A balliberális szféra időnként előveszi az ...</td>\n",
       "    </tr>\n",
       "  </tbody>\n",
       "</table>\n",
       "</div>"
      ],
      "text/plain": [
       "                                                \"link\"  \\\n",
       "\"1\"  \"https://vilagfigyelo.com/drabik-janos-mindenk...   \n",
       "\"2\"  \"https://vilagfigyelo.com/a-virusra-hivatkozva...   \n",
       "\"3\"  \"https://vilagfigyelo.com/aids-spanyolnatha-va...   \n",
       "\"4\"  \"https://vilagfigyelo.com/alapjovedelem-a-legu...   \n",
       "\n",
       "                                               \"title\"         \"date\"  \\\n",
       "\"1\"  \"A COVID-19, biológiai világháború Kína ellen ...  \"2020.05.17.\"   \n",
       "\"2\"  \"A vírusra hivatkozva, új digitális-rabszolgas...  \"2021.05.09.\"   \n",
       "\"3\"  \"AIDS, spanyolnátha vagy pestis? Mennyire halá...  \"2020.10.10.\"   \n",
       "\"4\"  \"Alapjövedelem: a legújabb ballib társadalomgy...  \"2020.04.24.\"   \n",
       "\n",
       "                                                \"text\"  \n",
       "\"1\"  \"  Drábik János leleplező kutatásai szerint eg...  \n",
       "\"2\"  \"  Amikor a globalisták megfogalmazták terveik...  \n",
       "\"3\"  \"  Ahogy az új koronavírus fertőzési és halálo...  \n",
       "\"4\"  \"  A balliberális szféra időnként előveszi az ...  "
      ]
     },
     "execution_count": 45,
     "metadata": {},
     "output_type": "execute_result"
    }
   ],
   "source": [
    "vilagfigyelo.head(4)"
   ]
  },
  {
   "cell_type": "code",
   "execution_count": 46,
   "metadata": {},
   "outputs": [
    {
     "data": {
      "text/plain": [
       "203"
      ]
     },
     "execution_count": 46,
     "metadata": {},
     "output_type": "execute_result"
    }
   ],
   "source": [
    "vilagfigyelo_all = vilagfigyelo1.append(vilagfigyelo)\n",
    "len(vilagfigyelo_all)"
   ]
  },
  {
   "cell_type": "code",
   "execution_count": 47,
   "metadata": {},
   "outputs": [],
   "source": [
    "vilagfigyelo_all['source'] = 'vilagfigyelo.com'"
   ]
  },
  {
   "cell_type": "markdown",
   "metadata": {},
   "source": [
    "## Merge fokuszonline.com articles"
   ]
  },
  {
   "cell_type": "code",
   "execution_count": 48,
   "metadata": {},
   "outputs": [],
   "source": [
    "fokusz_online = pd.read_csv(\"C:/Users/molna/Desktop/Szakdolgozat/FókuszOnline/fokuszonline_articles.csv\", sep=\"%%\", encoding=\"utf-8\", header=0)"
   ]
  },
  {
   "cell_type": "code",
   "execution_count": 49,
   "metadata": {},
   "outputs": [
    {
     "data": {
      "text/plain": [
       "219"
      ]
     },
     "execution_count": 49,
     "metadata": {},
     "output_type": "execute_result"
    }
   ],
   "source": [
    "fokusz_online.head(4)\n",
    "len(fokusz_online)"
   ]
  },
  {
   "cell_type": "code",
   "execution_count": 50,
   "metadata": {},
   "outputs": [],
   "source": [
    "fokusz_online['source'] = 'fokusz.online'"
   ]
  },
  {
   "cell_type": "markdown",
   "metadata": {},
   "source": [
    "## Merge mindenegybenblog.com articles"
   ]
  },
  {
   "cell_type": "code",
   "execution_count": 51,
   "metadata": {},
   "outputs": [],
   "source": [
    "mindenegyben_all = pd.read_csv(\"C:/Users/molna/Desktop/Szakdolgozat/Mindenegyben.Blog/mindenegyben_articles.csv\", sep=\"%%\", encoding=\"utf-8\", header=0)"
   ]
  },
  {
   "cell_type": "code",
   "execution_count": 52,
   "metadata": {},
   "outputs": [
    {
     "data": {
      "text/plain": [
       "7364"
      ]
     },
     "execution_count": 52,
     "metadata": {},
     "output_type": "execute_result"
    }
   ],
   "source": [
    "mindenegyben_all.head(2)\n",
    "len(mindenegyben_all)"
   ]
  },
  {
   "cell_type": "code",
   "execution_count": 54,
   "metadata": {},
   "outputs": [],
   "source": [
    "mindenegyben_all['source'] = 'minden-egyben.com'"
   ]
  },
  {
   "cell_type": "markdown",
   "metadata": {},
   "source": [
    "## Select commun columns"
   ]
  },
  {
   "cell_type": "code",
   "execution_count": 55,
   "metadata": {},
   "outputs": [
    {
     "data": {
      "text/plain": [
       "Index(['\"link\"', '\"title\"', '\"date\"', '\"text\"', 'source'], dtype='object')"
      ]
     },
     "execution_count": 55,
     "metadata": {},
     "output_type": "execute_result"
    }
   ],
   "source": [
    "vilagtitkai_all.columns"
   ]
  },
  {
   "cell_type": "code",
   "execution_count": 56,
   "metadata": {},
   "outputs": [
    {
     "data": {
      "text/plain": [
       "Index(['\"link\"', '\"title\"', '\"date\"', '\"text\"', 'source'], dtype='object')"
      ]
     },
     "execution_count": 56,
     "metadata": {},
     "output_type": "execute_result"
    }
   ],
   "source": [
    "alt_hirek_all.columns"
   ]
  },
  {
   "cell_type": "code",
   "execution_count": 57,
   "metadata": {},
   "outputs": [
    {
     "data": {
      "text/plain": [
       "Index(['\"link\"', '\"title\"', '\"date\"', '\"text\"', 'source'], dtype='object')"
      ]
     },
     "execution_count": 57,
     "metadata": {},
     "output_type": "execute_result"
    }
   ],
   "source": [
    "kimondott_igaz_all.columns"
   ]
  },
  {
   "cell_type": "code",
   "execution_count": 58,
   "metadata": {},
   "outputs": [
    {
     "data": {
      "text/plain": [
       "Index(['\"link\"', '\"title\"', '\"date\"', '\"text\"', 'source'], dtype='object')"
      ]
     },
     "execution_count": 58,
     "metadata": {},
     "output_type": "execute_result"
    }
   ],
   "source": [
    "eznezdmeg_all.columns"
   ]
  },
  {
   "cell_type": "code",
   "execution_count": 59,
   "metadata": {},
   "outputs": [
    {
     "data": {
      "text/plain": [
       "Index(['\"link\"', '\"title\"', '\"date\"', '\"text\"', 'source'], dtype='object')"
      ]
     },
     "execution_count": 59,
     "metadata": {},
     "output_type": "execute_result"
    }
   ],
   "source": [
    "titkok_szigete_all.columns"
   ]
  },
  {
   "cell_type": "code",
   "execution_count": 60,
   "metadata": {},
   "outputs": [
    {
     "data": {
      "text/plain": [
       "Index(['\"link\"', '\"title\"', '\"date\"', '\"text\"', 'source'], dtype='object')"
      ]
     },
     "execution_count": 60,
     "metadata": {},
     "output_type": "execute_result"
    }
   ],
   "source": [
    "tudas_faja_all.columns"
   ]
  },
  {
   "cell_type": "code",
   "execution_count": 61,
   "metadata": {},
   "outputs": [
    {
     "data": {
      "text/plain": [
       "Index(['\"link\"', '\"title\"', '\"date\"', '\"text\"', 'source'], dtype='object')"
      ]
     },
     "execution_count": 61,
     "metadata": {},
     "output_type": "execute_result"
    }
   ],
   "source": [
    "vilagfigyelo_all.columns"
   ]
  },
  {
   "cell_type": "code",
   "execution_count": 62,
   "metadata": {},
   "outputs": [
    {
     "data": {
      "text/plain": [
       "Index(['\"link\"', '\"title\"', '\"date\"', '\"text\"', 'source'], dtype='object')"
      ]
     },
     "execution_count": 62,
     "metadata": {},
     "output_type": "execute_result"
    }
   ],
   "source": [
    "fokusz_online.columns"
   ]
  },
  {
   "cell_type": "code",
   "execution_count": 63,
   "metadata": {},
   "outputs": [
    {
     "data": {
      "text/plain": [
       "Index(['\"link\"', '\"title\"', '\"date\"', '\"text\"', 'source'], dtype='object')"
      ]
     },
     "execution_count": 63,
     "metadata": {},
     "output_type": "execute_result"
    }
   ],
   "source": [
    "mindenegyben_all.columns"
   ]
  },
  {
   "cell_type": "code",
   "execution_count": 65,
   "metadata": {},
   "outputs": [],
   "source": [
    "df_all = vilagtitkai_all.append([alt_hirek_all, kimondott_igaz_all, eznezdmeg_all, titkok_szigete_all,\n",
    "                                 tudas_faja_all, vilagfigyelo_all, fokusz_online, mindenegyben_all])"
   ]
  },
  {
   "cell_type": "code",
   "execution_count": 66,
   "metadata": {},
   "outputs": [
    {
     "data": {
      "text/plain": [
       "54867"
      ]
     },
     "execution_count": 66,
     "metadata": {},
     "output_type": "execute_result"
    }
   ],
   "source": [
    "len(df_all)"
   ]
  },
  {
   "cell_type": "code",
   "execution_count": 67,
   "metadata": {},
   "outputs": [],
   "source": [
    "df_all.to_pickle('all_fake_merged.pkl')"
   ]
  },
  {
   "cell_type": "code",
   "execution_count": 70,
   "metadata": {},
   "outputs": [],
   "source": [
    "df_all.to_csv(\"all_fake_merged.csv\", sep=\";\")"
   ]
  }
 ],
 "metadata": {
  "kernelspec": {
   "display_name": "Python 3",
   "language": "python",
   "name": "python3"
  },
  "language_info": {
   "codemirror_mode": {
    "name": "ipython",
    "version": 3
   },
   "file_extension": ".py",
   "mimetype": "text/x-python",
   "name": "python",
   "nbconvert_exporter": "python",
   "pygments_lexer": "ipython3",
   "version": "3.7.6"
  }
 },
 "nbformat": 4,
 "nbformat_minor": 4
}
