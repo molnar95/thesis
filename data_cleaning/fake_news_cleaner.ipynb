{
 "cells": [
  {
   "cell_type": "markdown",
   "metadata": {},
   "source": [
    "### Import packages"
   ]
  },
  {
   "cell_type": "code",
   "execution_count": 1,
   "metadata": {},
   "outputs": [],
   "source": [
    "import pandas as pd\n",
    "import numpy as np\n",
    "import warnings\n",
    "import re \n",
    "\n",
    "warnings.filterwarnings('ignore')"
   ]
  },
  {
   "cell_type": "markdown",
   "metadata": {},
   "source": [
    "### Import pickle file"
   ]
  },
  {
   "cell_type": "code",
   "execution_count": 5,
   "metadata": {},
   "outputs": [
    {
     "data": {
      "text/plain": [
       "54867"
      ]
     },
     "execution_count": 5,
     "metadata": {},
     "output_type": "execute_result"
    }
   ],
   "source": [
    "df_all = pd.read_pickle('C:/Users/molna/Desktop/Szakdolgozat/adatok/all_fake_merged.pkl')\n",
    "len(df_all)"
   ]
  },
  {
   "cell_type": "markdown",
   "metadata": {},
   "source": [
    "#### Drop duplicated rows \n",
    "(Generated during the web scraping)"
   ]
  },
  {
   "cell_type": "code",
   "execution_count": 6,
   "metadata": {},
   "outputs": [
    {
     "data": {
      "text/plain": [
       "13316"
      ]
     },
     "execution_count": 6,
     "metadata": {},
     "output_type": "execute_result"
    }
   ],
   "source": [
    "df_all = df_all.drop_duplicates()\n",
    "len(df_all)"
   ]
  },
  {
   "cell_type": "markdown",
   "metadata": {},
   "source": [
    "### Basic Data Cleanings"
   ]
  },
  {
   "cell_type": "markdown",
   "metadata": {},
   "source": [
    "#### 1. Remove double qoutes from column names"
   ]
  },
  {
   "cell_type": "code",
   "execution_count": 7,
   "metadata": {},
   "outputs": [
    {
     "data": {
      "text/plain": [
       "Index(['\"link\"', '\"title\"', '\"date\"', '\"text\"', 'source'], dtype='object')"
      ]
     },
     "execution_count": 7,
     "metadata": {},
     "output_type": "execute_result"
    }
   ],
   "source": [
    "df_all.columns"
   ]
  },
  {
   "cell_type": "code",
   "execution_count": 8,
   "metadata": {},
   "outputs": [],
   "source": [
    "df_all.columns = df_all.columns.str.replace('\"', '')"
   ]
  },
  {
   "cell_type": "code",
   "execution_count": 9,
   "metadata": {},
   "outputs": [
    {
     "data": {
      "text/plain": [
       "Index(['link', 'title', 'date', 'text', 'source'], dtype='object')"
      ]
     },
     "execution_count": 9,
     "metadata": {},
     "output_type": "execute_result"
    }
   ],
   "source": [
    "df_all.columns"
   ]
  },
  {
   "cell_type": "code",
   "execution_count": 10,
   "metadata": {},
   "outputs": [
    {
     "data": {
      "text/html": [
       "<div>\n",
       "<style scoped>\n",
       "    .dataframe tbody tr th:only-of-type {\n",
       "        vertical-align: middle;\n",
       "    }\n",
       "\n",
       "    .dataframe tbody tr th {\n",
       "        vertical-align: top;\n",
       "    }\n",
       "\n",
       "    .dataframe thead th {\n",
       "        text-align: right;\n",
       "    }\n",
       "</style>\n",
       "<table border=\"1\" class=\"dataframe\">\n",
       "  <thead>\n",
       "    <tr style=\"text-align: right;\">\n",
       "      <th></th>\n",
       "      <th>link</th>\n",
       "      <th>title</th>\n",
       "      <th>date</th>\n",
       "      <th>text</th>\n",
       "      <th>source</th>\n",
       "    </tr>\n",
       "  </thead>\n",
       "  <tbody>\n",
       "    <tr>\n",
       "      <th>\"1\"</th>\n",
       "      <td>\"https://avilagtitkai.com/articles/view/ezt-te...</td>\n",
       "      <td>\"&lt;U+200B&gt;Ezt tedd, ha nem jött meg a vakcinaig...</td>\n",
       "      <td>\"2021. május 17.\"</td>\n",
       "      <td>\"Fontos! Szombattól a védettségi kártyával ren...</td>\n",
       "      <td>avilagtitkai.com</td>\n",
       "    </tr>\n",
       "    <tr>\n",
       "      <th>\"2\"</th>\n",
       "      <td>\"https://avilagtitkai.com/articles/view/korona...</td>\n",
       "      <td>\"Koronavírus: nem mindenki fertőzőképes, akine...</td>\n",
       "      <td>\"2021. április 27.\"</td>\n",
       "      <td>\"Az orvosok fontos információt tettek közzé. K...</td>\n",
       "      <td>avilagtitkai.com</td>\n",
       "    </tr>\n",
       "    <tr>\n",
       "      <th>\"3\"</th>\n",
       "      <td>\"https://avilagtitkai.com/articles/view/figyel...</td>\n",
       "      <td>\"Figyelem: ezekben a városokban emelkedik a ko...</td>\n",
       "      <td>\"2020. december 22.\"</td>\n",
       "      <td>\"Fontos, tudjon róla mindenki! A 51. heti adat...</td>\n",
       "      <td>avilagtitkai.com</td>\n",
       "    </tr>\n",
       "    <tr>\n",
       "      <th>\"4\"</th>\n",
       "      <td>\"https://avilagtitkai.com/articles/view/megint...</td>\n",
       "      <td>\"Megint megugrott a beazonosított koronavírus-...</td>\n",
       "      <td>\"2021. február 24.\"</td>\n",
       "      <td>\"Újra 100 felett a halottak száma! 2855 újabb ...</td>\n",
       "      <td>avilagtitkai.com</td>\n",
       "    </tr>\n",
       "    <tr>\n",
       "      <th>\"5\"</th>\n",
       "      <td>\"https://avilagtitkai.com/articles/view/megjot...</td>\n",
       "      <td>\"&lt;U+200B&gt;Megjöttek a legfrissebb adatok: az el...</td>\n",
       "      <td>\"2020. december 14.\"</td>\n",
       "      <td>\"Tovább nőtt a fertőzöttek és elhunytak száma ...</td>\n",
       "      <td>avilagtitkai.com</td>\n",
       "    </tr>\n",
       "  </tbody>\n",
       "</table>\n",
       "</div>"
      ],
      "text/plain": [
       "                                                  link  \\\n",
       "\"1\"  \"https://avilagtitkai.com/articles/view/ezt-te...   \n",
       "\"2\"  \"https://avilagtitkai.com/articles/view/korona...   \n",
       "\"3\"  \"https://avilagtitkai.com/articles/view/figyel...   \n",
       "\"4\"  \"https://avilagtitkai.com/articles/view/megint...   \n",
       "\"5\"  \"https://avilagtitkai.com/articles/view/megjot...   \n",
       "\n",
       "                                                 title                  date  \\\n",
       "\"1\"  \"<U+200B>Ezt tedd, ha nem jött meg a vakcinaig...     \"2021. május 17.\"   \n",
       "\"2\"  \"Koronavírus: nem mindenki fertőzőképes, akine...   \"2021. április 27.\"   \n",
       "\"3\"  \"Figyelem: ezekben a városokban emelkedik a ko...  \"2020. december 22.\"   \n",
       "\"4\"  \"Megint megugrott a beazonosított koronavírus-...   \"2021. február 24.\"   \n",
       "\"5\"  \"<U+200B>Megjöttek a legfrissebb adatok: az el...  \"2020. december 14.\"   \n",
       "\n",
       "                                                  text            source  \n",
       "\"1\"  \"Fontos! Szombattól a védettségi kártyával ren...  avilagtitkai.com  \n",
       "\"2\"  \"Az orvosok fontos információt tettek közzé. K...  avilagtitkai.com  \n",
       "\"3\"  \"Fontos, tudjon róla mindenki! A 51. heti adat...  avilagtitkai.com  \n",
       "\"4\"  \"Újra 100 felett a halottak száma! 2855 újabb ...  avilagtitkai.com  \n",
       "\"5\"  \"Tovább nőtt a fertőzöttek és elhunytak száma ...  avilagtitkai.com  "
      ]
     },
     "execution_count": 10,
     "metadata": {},
     "output_type": "execute_result"
    }
   ],
   "source": [
    "df_all.head()"
   ]
  },
  {
   "cell_type": "markdown",
   "metadata": {},
   "source": [
    "#### 2. Remove double qoutes from some column values"
   ]
  },
  {
   "cell_type": "code",
   "execution_count": 11,
   "metadata": {},
   "outputs": [],
   "source": [
    "df_all['link'] = df_all['link'].apply(lambda x: re.sub(r'^\"|\"$', '', str(x), flags=re.DOTALL))"
   ]
  },
  {
   "cell_type": "code",
   "execution_count": 12,
   "metadata": {},
   "outputs": [],
   "source": [
    "df_all['title'] = df_all['title'].apply(lambda x: re.sub(r'^\"|\"$', '', str(x), flags=re.DOTALL))"
   ]
  },
  {
   "cell_type": "code",
   "execution_count": 13,
   "metadata": {},
   "outputs": [],
   "source": [
    "df_all['date'] = df_all['date'].apply(lambda x: re.sub(r'^\"|\"$', '', str(x), flags=re.DOTALL))"
   ]
  },
  {
   "cell_type": "code",
   "execution_count": 14,
   "metadata": {},
   "outputs": [],
   "source": [
    "df_all['text'] = df_all['text'].apply(lambda x: re.sub(r'^\"|\"$', '', str(x), flags=re.DOTALL))"
   ]
  },
  {
   "cell_type": "code",
   "execution_count": 15,
   "metadata": {},
   "outputs": [
    {
     "data": {
      "text/html": [
       "<div>\n",
       "<style scoped>\n",
       "    .dataframe tbody tr th:only-of-type {\n",
       "        vertical-align: middle;\n",
       "    }\n",
       "\n",
       "    .dataframe tbody tr th {\n",
       "        vertical-align: top;\n",
       "    }\n",
       "\n",
       "    .dataframe thead th {\n",
       "        text-align: right;\n",
       "    }\n",
       "</style>\n",
       "<table border=\"1\" class=\"dataframe\">\n",
       "  <thead>\n",
       "    <tr style=\"text-align: right;\">\n",
       "      <th></th>\n",
       "      <th>link</th>\n",
       "      <th>title</th>\n",
       "      <th>date</th>\n",
       "      <th>text</th>\n",
       "      <th>source</th>\n",
       "    </tr>\n",
       "  </thead>\n",
       "  <tbody>\n",
       "    <tr>\n",
       "      <th>\"1\"</th>\n",
       "      <td>https://avilagtitkai.com/articles/view/ezt-ted...</td>\n",
       "      <td>&lt;U+200B&gt;Ezt tedd, ha nem jött meg a vakcinaiga...</td>\n",
       "      <td>2021. május 17.</td>\n",
       "      <td>Fontos! Szombattól a védettségi kártyával rend...</td>\n",
       "      <td>avilagtitkai.com</td>\n",
       "    </tr>\n",
       "    <tr>\n",
       "      <th>\"2\"</th>\n",
       "      <td>https://avilagtitkai.com/articles/view/koronav...</td>\n",
       "      <td>Koronavírus: nem mindenki fertőzőképes, akinek...</td>\n",
       "      <td>2021. április 27.</td>\n",
       "      <td>Az orvosok fontos információt tettek közzé. Ki...</td>\n",
       "      <td>avilagtitkai.com</td>\n",
       "    </tr>\n",
       "    <tr>\n",
       "      <th>\"3\"</th>\n",
       "      <td>https://avilagtitkai.com/articles/view/figyele...</td>\n",
       "      <td>Figyelem: ezekben a városokban emelkedik a kor...</td>\n",
       "      <td>2020. december 22.</td>\n",
       "      <td>Fontos, tudjon róla mindenki! A 51. heti adato...</td>\n",
       "      <td>avilagtitkai.com</td>\n",
       "    </tr>\n",
       "    <tr>\n",
       "      <th>\"4\"</th>\n",
       "      <td>https://avilagtitkai.com/articles/view/megint-...</td>\n",
       "      <td>Megint megugrott a beazonosított koronavírus-f...</td>\n",
       "      <td>2021. február 24.</td>\n",
       "      <td>Újra 100 felett a halottak száma! 2855 újabb m...</td>\n",
       "      <td>avilagtitkai.com</td>\n",
       "    </tr>\n",
       "    <tr>\n",
       "      <th>\"5\"</th>\n",
       "      <td>https://avilagtitkai.com/articles/view/megjott...</td>\n",
       "      <td>&lt;U+200B&gt;Megjöttek a legfrissebb adatok: az elm...</td>\n",
       "      <td>2020. december 14.</td>\n",
       "      <td>Tovább nőtt a fertőzöttek és elhunytak száma M...</td>\n",
       "      <td>avilagtitkai.com</td>\n",
       "    </tr>\n",
       "  </tbody>\n",
       "</table>\n",
       "</div>"
      ],
      "text/plain": [
       "                                                  link  \\\n",
       "\"1\"  https://avilagtitkai.com/articles/view/ezt-ted...   \n",
       "\"2\"  https://avilagtitkai.com/articles/view/koronav...   \n",
       "\"3\"  https://avilagtitkai.com/articles/view/figyele...   \n",
       "\"4\"  https://avilagtitkai.com/articles/view/megint-...   \n",
       "\"5\"  https://avilagtitkai.com/articles/view/megjott...   \n",
       "\n",
       "                                                 title                date  \\\n",
       "\"1\"  <U+200B>Ezt tedd, ha nem jött meg a vakcinaiga...     2021. május 17.   \n",
       "\"2\"  Koronavírus: nem mindenki fertőzőképes, akinek...   2021. április 27.   \n",
       "\"3\"  Figyelem: ezekben a városokban emelkedik a kor...  2020. december 22.   \n",
       "\"4\"  Megint megugrott a beazonosított koronavírus-f...   2021. február 24.   \n",
       "\"5\"  <U+200B>Megjöttek a legfrissebb adatok: az elm...  2020. december 14.   \n",
       "\n",
       "                                                  text            source  \n",
       "\"1\"  Fontos! Szombattól a védettségi kártyával rend...  avilagtitkai.com  \n",
       "\"2\"  Az orvosok fontos információt tettek közzé. Ki...  avilagtitkai.com  \n",
       "\"3\"  Fontos, tudjon róla mindenki! A 51. heti adato...  avilagtitkai.com  \n",
       "\"4\"  Újra 100 felett a halottak száma! 2855 újabb m...  avilagtitkai.com  \n",
       "\"5\"  Tovább nőtt a fertőzöttek és elhunytak száma M...  avilagtitkai.com  "
      ]
     },
     "execution_count": 15,
     "metadata": {},
     "output_type": "execute_result"
    }
   ],
   "source": [
    "df_all.head()"
   ]
  },
  {
   "cell_type": "markdown",
   "metadata": {},
   "source": [
    "#### 3. Remove unwanted elements from text and title"
   ]
  },
  {
   "cell_type": "code",
   "execution_count": 16,
   "metadata": {},
   "outputs": [],
   "source": [
    "def title_cleaner(df: pd.DataFrame) -> pd.DataFrame:\n",
    "    df['title'] = df['title'].str.replace('<U\\+200B>', '')\n",
    "    \n",
    "    return df"
   ]
  },
  {
   "cell_type": "code",
   "execution_count": 17,
   "metadata": {},
   "outputs": [],
   "source": [
    "def text_cleaner(df: pd.DataFrame) -> pd.DataFrame:\n",
    "    df['text'] = df['text'].str.replace(\"\\xa0\", ' ')\n",
    "    df['text']= df['text'].str.replace(\"OSZD MEG másokkal is!\", '')\n",
    "    \n",
    "    df['text'] = df['text'].str.replace('<U\\+FE0F>', '')\n",
    "    \n",
    "    \n",
    "    return df\n",
    "    "
   ]
  },
  {
   "cell_type": "code",
   "execution_count": 18,
   "metadata": {},
   "outputs": [],
   "source": [
    "df_all = title_cleaner(df_all)"
   ]
  },
  {
   "cell_type": "code",
   "execution_count": 19,
   "metadata": {},
   "outputs": [],
   "source": [
    "df_all = text_cleaner(df_all)"
   ]
  },
  {
   "cell_type": "code",
   "execution_count": 20,
   "metadata": {},
   "outputs": [
    {
     "data": {
      "text/html": [
       "<div>\n",
       "<style scoped>\n",
       "    .dataframe tbody tr th:only-of-type {\n",
       "        vertical-align: middle;\n",
       "    }\n",
       "\n",
       "    .dataframe tbody tr th {\n",
       "        vertical-align: top;\n",
       "    }\n",
       "\n",
       "    .dataframe thead th {\n",
       "        text-align: right;\n",
       "    }\n",
       "</style>\n",
       "<table border=\"1\" class=\"dataframe\">\n",
       "  <thead>\n",
       "    <tr style=\"text-align: right;\">\n",
       "      <th></th>\n",
       "      <th>link</th>\n",
       "      <th>title</th>\n",
       "      <th>date</th>\n",
       "      <th>text</th>\n",
       "      <th>source</th>\n",
       "    </tr>\n",
       "  </thead>\n",
       "  <tbody>\n",
       "    <tr>\n",
       "      <th>\"1\"</th>\n",
       "      <td>https://avilagtitkai.com/articles/view/ezt-ted...</td>\n",
       "      <td>Ezt tedd, ha nem jött meg a vakcinaigazolvány</td>\n",
       "      <td>2021. május 17.</td>\n",
       "      <td>Fontos! Szombattól a védettségi kártyával rend...</td>\n",
       "      <td>avilagtitkai.com</td>\n",
       "    </tr>\n",
       "    <tr>\n",
       "      <th>\"2\"</th>\n",
       "      <td>https://avilagtitkai.com/articles/view/koronav...</td>\n",
       "      <td>Koronavírus: nem mindenki fertőzőképes, akinek...</td>\n",
       "      <td>2021. április 27.</td>\n",
       "      <td>Az orvosok fontos információt tettek közzé. Ki...</td>\n",
       "      <td>avilagtitkai.com</td>\n",
       "    </tr>\n",
       "    <tr>\n",
       "      <th>\"3\"</th>\n",
       "      <td>https://avilagtitkai.com/articles/view/figyele...</td>\n",
       "      <td>Figyelem: ezekben a városokban emelkedik a kor...</td>\n",
       "      <td>2020. december 22.</td>\n",
       "      <td>Fontos, tudjon róla mindenki! A 51. heti adato...</td>\n",
       "      <td>avilagtitkai.com</td>\n",
       "    </tr>\n",
       "    <tr>\n",
       "      <th>\"4\"</th>\n",
       "      <td>https://avilagtitkai.com/articles/view/megint-...</td>\n",
       "      <td>Megint megugrott a beazonosított koronavírus-f...</td>\n",
       "      <td>2021. február 24.</td>\n",
       "      <td>Újra 100 felett a halottak száma! 2855 újabb m...</td>\n",
       "      <td>avilagtitkai.com</td>\n",
       "    </tr>\n",
       "    <tr>\n",
       "      <th>\"5\"</th>\n",
       "      <td>https://avilagtitkai.com/articles/view/megjott...</td>\n",
       "      <td>Megjöttek a legfrissebb adatok: az elmúlt idős...</td>\n",
       "      <td>2020. december 14.</td>\n",
       "      <td>Tovább nőtt a fertőzöttek és elhunytak száma M...</td>\n",
       "      <td>avilagtitkai.com</td>\n",
       "    </tr>\n",
       "  </tbody>\n",
       "</table>\n",
       "</div>"
      ],
      "text/plain": [
       "                                                  link  \\\n",
       "\"1\"  https://avilagtitkai.com/articles/view/ezt-ted...   \n",
       "\"2\"  https://avilagtitkai.com/articles/view/koronav...   \n",
       "\"3\"  https://avilagtitkai.com/articles/view/figyele...   \n",
       "\"4\"  https://avilagtitkai.com/articles/view/megint-...   \n",
       "\"5\"  https://avilagtitkai.com/articles/view/megjott...   \n",
       "\n",
       "                                                 title                date  \\\n",
       "\"1\"      Ezt tedd, ha nem jött meg a vakcinaigazolvány     2021. május 17.   \n",
       "\"2\"  Koronavírus: nem mindenki fertőzőképes, akinek...   2021. április 27.   \n",
       "\"3\"  Figyelem: ezekben a városokban emelkedik a kor...  2020. december 22.   \n",
       "\"4\"  Megint megugrott a beazonosított koronavírus-f...   2021. február 24.   \n",
       "\"5\"  Megjöttek a legfrissebb adatok: az elmúlt idős...  2020. december 14.   \n",
       "\n",
       "                                                  text            source  \n",
       "\"1\"  Fontos! Szombattól a védettségi kártyával rend...  avilagtitkai.com  \n",
       "\"2\"  Az orvosok fontos információt tettek közzé. Ki...  avilagtitkai.com  \n",
       "\"3\"  Fontos, tudjon róla mindenki! A 51. heti adato...  avilagtitkai.com  \n",
       "\"4\"  Újra 100 felett a halottak száma! 2855 újabb m...  avilagtitkai.com  \n",
       "\"5\"  Tovább nőtt a fertőzöttek és elhunytak száma M...  avilagtitkai.com  "
      ]
     },
     "execution_count": 20,
     "metadata": {},
     "output_type": "execute_result"
    }
   ],
   "source": [
    "df_all.head()"
   ]
  },
  {
   "cell_type": "markdown",
   "metadata": {},
   "source": [
    "### Export cleaned dataframe"
   ]
  },
  {
   "cell_type": "code",
   "execution_count": 21,
   "metadata": {},
   "outputs": [],
   "source": [
    "df_all.to_pickle('C:/Users/molna/Desktop/Szakdolgozat/adatok/all_fake_merged_cleaned.pkl')"
   ]
  },
  {
   "cell_type": "code",
   "execution_count": 2,
   "metadata": {},
   "outputs": [],
   "source": [
    "df_all_fake = pd.read_pickle('C:/Users/molna/Desktop/Szakdolgozat/adatok/all_fake_merged_cleaned.pkl')"
   ]
  },
  {
   "cell_type": "code",
   "execution_count": 3,
   "metadata": {},
   "outputs": [
    {
     "data": {
      "text/html": [
       "<div>\n",
       "<style scoped>\n",
       "    .dataframe tbody tr th:only-of-type {\n",
       "        vertical-align: middle;\n",
       "    }\n",
       "\n",
       "    .dataframe tbody tr th {\n",
       "        vertical-align: top;\n",
       "    }\n",
       "\n",
       "    .dataframe thead th {\n",
       "        text-align: right;\n",
       "    }\n",
       "</style>\n",
       "<table border=\"1\" class=\"dataframe\">\n",
       "  <thead>\n",
       "    <tr style=\"text-align: right;\">\n",
       "      <th></th>\n",
       "      <th>link</th>\n",
       "      <th>title</th>\n",
       "      <th>date</th>\n",
       "      <th>text</th>\n",
       "      <th>source</th>\n",
       "    </tr>\n",
       "  </thead>\n",
       "  <tbody>\n",
       "    <tr>\n",
       "      <th>\"1\"</th>\n",
       "      <td>https://avilagtitkai.com/articles/view/ezt-ted...</td>\n",
       "      <td>Ezt tedd, ha nem jött meg a vakcinaigazolvány</td>\n",
       "      <td>2021. május 17.</td>\n",
       "      <td>Fontos! Szombattól a védettségi kártyával rend...</td>\n",
       "      <td>avilagtitkai.com</td>\n",
       "    </tr>\n",
       "    <tr>\n",
       "      <th>\"2\"</th>\n",
       "      <td>https://avilagtitkai.com/articles/view/koronav...</td>\n",
       "      <td>Koronavírus: nem mindenki fertőzőképes, akinek...</td>\n",
       "      <td>2021. április 27.</td>\n",
       "      <td>Az orvosok fontos információt tettek közzé. Ki...</td>\n",
       "      <td>avilagtitkai.com</td>\n",
       "    </tr>\n",
       "    <tr>\n",
       "      <th>\"3\"</th>\n",
       "      <td>https://avilagtitkai.com/articles/view/figyele...</td>\n",
       "      <td>Figyelem: ezekben a városokban emelkedik a kor...</td>\n",
       "      <td>2020. december 22.</td>\n",
       "      <td>Fontos, tudjon róla mindenki! A 51. heti adato...</td>\n",
       "      <td>avilagtitkai.com</td>\n",
       "    </tr>\n",
       "    <tr>\n",
       "      <th>\"4\"</th>\n",
       "      <td>https://avilagtitkai.com/articles/view/megint-...</td>\n",
       "      <td>Megint megugrott a beazonosított koronavírus-f...</td>\n",
       "      <td>2021. február 24.</td>\n",
       "      <td>Újra 100 felett a halottak száma! 2855 újabb m...</td>\n",
       "      <td>avilagtitkai.com</td>\n",
       "    </tr>\n",
       "    <tr>\n",
       "      <th>\"5\"</th>\n",
       "      <td>https://avilagtitkai.com/articles/view/megjott...</td>\n",
       "      <td>Megjöttek a legfrissebb adatok: az elmúlt idős...</td>\n",
       "      <td>2020. december 14.</td>\n",
       "      <td>Tovább nőtt a fertőzöttek és elhunytak száma M...</td>\n",
       "      <td>avilagtitkai.com</td>\n",
       "    </tr>\n",
       "  </tbody>\n",
       "</table>\n",
       "</div>"
      ],
      "text/plain": [
       "                                                  link  \\\n",
       "\"1\"  https://avilagtitkai.com/articles/view/ezt-ted...   \n",
       "\"2\"  https://avilagtitkai.com/articles/view/koronav...   \n",
       "\"3\"  https://avilagtitkai.com/articles/view/figyele...   \n",
       "\"4\"  https://avilagtitkai.com/articles/view/megint-...   \n",
       "\"5\"  https://avilagtitkai.com/articles/view/megjott...   \n",
       "\n",
       "                                                 title                date  \\\n",
       "\"1\"      Ezt tedd, ha nem jött meg a vakcinaigazolvány     2021. május 17.   \n",
       "\"2\"  Koronavírus: nem mindenki fertőzőképes, akinek...   2021. április 27.   \n",
       "\"3\"  Figyelem: ezekben a városokban emelkedik a kor...  2020. december 22.   \n",
       "\"4\"  Megint megugrott a beazonosított koronavírus-f...   2021. február 24.   \n",
       "\"5\"  Megjöttek a legfrissebb adatok: az elmúlt idős...  2020. december 14.   \n",
       "\n",
       "                                                  text            source  \n",
       "\"1\"  Fontos! Szombattól a védettségi kártyával rend...  avilagtitkai.com  \n",
       "\"2\"  Az orvosok fontos információt tettek közzé. Ki...  avilagtitkai.com  \n",
       "\"3\"  Fontos, tudjon róla mindenki! A 51. heti adato...  avilagtitkai.com  \n",
       "\"4\"  Újra 100 felett a halottak száma! 2855 újabb m...  avilagtitkai.com  \n",
       "\"5\"  Tovább nőtt a fertőzöttek és elhunytak száma M...  avilagtitkai.com  "
      ]
     },
     "execution_count": 3,
     "metadata": {},
     "output_type": "execute_result"
    }
   ],
   "source": [
    "df_all_fake.head()"
   ]
  },
  {
   "cell_type": "code",
   "execution_count": 5,
   "metadata": {},
   "outputs": [],
   "source": [
    "df_all_fake = df_all_fake[[\"title\", \"date\", \"text\", \"source\"]]"
   ]
  },
  {
   "cell_type": "code",
   "execution_count": 6,
   "metadata": {},
   "outputs": [],
   "source": [
    "df_all_fake[\"dezinf\"] = 1"
   ]
  },
  {
   "cell_type": "code",
   "execution_count": 7,
   "metadata": {},
   "outputs": [
    {
     "data": {
      "text/html": [
       "<div>\n",
       "<style scoped>\n",
       "    .dataframe tbody tr th:only-of-type {\n",
       "        vertical-align: middle;\n",
       "    }\n",
       "\n",
       "    .dataframe tbody tr th {\n",
       "        vertical-align: top;\n",
       "    }\n",
       "\n",
       "    .dataframe thead th {\n",
       "        text-align: right;\n",
       "    }\n",
       "</style>\n",
       "<table border=\"1\" class=\"dataframe\">\n",
       "  <thead>\n",
       "    <tr style=\"text-align: right;\">\n",
       "      <th></th>\n",
       "      <th>title</th>\n",
       "      <th>date</th>\n",
       "      <th>text</th>\n",
       "      <th>source</th>\n",
       "      <th>dezinf</th>\n",
       "    </tr>\n",
       "  </thead>\n",
       "  <tbody>\n",
       "    <tr>\n",
       "      <th>\"1\"</th>\n",
       "      <td>Ezt tedd, ha nem jött meg a vakcinaigazolvány</td>\n",
       "      <td>2021. május 17.</td>\n",
       "      <td>Fontos! Szombattól a védettségi kártyával rend...</td>\n",
       "      <td>avilagtitkai.com</td>\n",
       "      <td>1</td>\n",
       "    </tr>\n",
       "    <tr>\n",
       "      <th>\"2\"</th>\n",
       "      <td>Koronavírus: nem mindenki fertőzőképes, akinek...</td>\n",
       "      <td>2021. április 27.</td>\n",
       "      <td>Az orvosok fontos információt tettek közzé. Ki...</td>\n",
       "      <td>avilagtitkai.com</td>\n",
       "      <td>1</td>\n",
       "    </tr>\n",
       "    <tr>\n",
       "      <th>\"3\"</th>\n",
       "      <td>Figyelem: ezekben a városokban emelkedik a kor...</td>\n",
       "      <td>2020. december 22.</td>\n",
       "      <td>Fontos, tudjon róla mindenki! A 51. heti adato...</td>\n",
       "      <td>avilagtitkai.com</td>\n",
       "      <td>1</td>\n",
       "    </tr>\n",
       "    <tr>\n",
       "      <th>\"4\"</th>\n",
       "      <td>Megint megugrott a beazonosított koronavírus-f...</td>\n",
       "      <td>2021. február 24.</td>\n",
       "      <td>Újra 100 felett a halottak száma! 2855 újabb m...</td>\n",
       "      <td>avilagtitkai.com</td>\n",
       "      <td>1</td>\n",
       "    </tr>\n",
       "    <tr>\n",
       "      <th>\"5\"</th>\n",
       "      <td>Megjöttek a legfrissebb adatok: az elmúlt idős...</td>\n",
       "      <td>2020. december 14.</td>\n",
       "      <td>Tovább nőtt a fertőzöttek és elhunytak száma M...</td>\n",
       "      <td>avilagtitkai.com</td>\n",
       "      <td>1</td>\n",
       "    </tr>\n",
       "  </tbody>\n",
       "</table>\n",
       "</div>"
      ],
      "text/plain": [
       "                                                 title                date  \\\n",
       "\"1\"      Ezt tedd, ha nem jött meg a vakcinaigazolvány     2021. május 17.   \n",
       "\"2\"  Koronavírus: nem mindenki fertőzőképes, akinek...   2021. április 27.   \n",
       "\"3\"  Figyelem: ezekben a városokban emelkedik a kor...  2020. december 22.   \n",
       "\"4\"  Megint megugrott a beazonosított koronavírus-f...   2021. február 24.   \n",
       "\"5\"  Megjöttek a legfrissebb adatok: az elmúlt idős...  2020. december 14.   \n",
       "\n",
       "                                                  text            source  \\\n",
       "\"1\"  Fontos! Szombattól a védettségi kártyával rend...  avilagtitkai.com   \n",
       "\"2\"  Az orvosok fontos információt tettek közzé. Ki...  avilagtitkai.com   \n",
       "\"3\"  Fontos, tudjon róla mindenki! A 51. heti adato...  avilagtitkai.com   \n",
       "\"4\"  Újra 100 felett a halottak száma! 2855 újabb m...  avilagtitkai.com   \n",
       "\"5\"  Tovább nőtt a fertőzöttek és elhunytak száma M...  avilagtitkai.com   \n",
       "\n",
       "     dezinf  \n",
       "\"1\"       1  \n",
       "\"2\"       1  \n",
       "\"3\"       1  \n",
       "\"4\"       1  \n",
       "\"5\"       1  "
      ]
     },
     "execution_count": 7,
     "metadata": {},
     "output_type": "execute_result"
    }
   ],
   "source": [
    "df_all_fake.head()"
   ]
  },
  {
   "cell_type": "code",
   "execution_count": 10,
   "metadata": {},
   "outputs": [],
   "source": [
    "df_all_fake.to_pickle('C:/Users/molna/Desktop/Szakdolgozat/adatok/all_fake_merged_cleaned.pkl')"
   ]
  }
 ],
 "metadata": {
  "kernelspec": {
   "display_name": "Python 3",
   "language": "python",
   "name": "python3"
  },
  "language_info": {
   "codemirror_mode": {
    "name": "ipython",
    "version": 3
   },
   "file_extension": ".py",
   "mimetype": "text/x-python",
   "name": "python",
   "nbconvert_exporter": "python",
   "pygments_lexer": "ipython3",
   "version": "3.7.6"
  }
 },
 "nbformat": 4,
 "nbformat_minor": 4
}
