{
 "cells": [
  {
   "cell_type": "markdown",
   "metadata": {},
   "source": [
    "## Import required packages\n"
   ]
  },
  {
   "cell_type": "code",
   "execution_count": 2,
   "metadata": {},
   "outputs": [],
   "source": [
    "import pandas as pd\n",
    "import numpy as np\n",
    "\n",
    "# data manipulating:\n",
    "import unicodedata\n",
    "import re ## Import required packages\n",
    "from datetime import datetime"
   ]
  },
  {
   "cell_type": "code",
   "execution_count": 3,
   "metadata": {},
   "outputs": [],
   "source": [
    "import warnings\n",
    "warnings.filterwarnings('ignore')"
   ]
  },
  {
   "cell_type": "markdown",
   "metadata": {},
   "source": [
    "## Import files"
   ]
  },
  {
   "cell_type": "code",
   "execution_count": 4,
   "metadata": {},
   "outputs": [],
   "source": [
    "df_index_korona = pd.read_pickle('C:/Users/molna/Desktop/Szakdolgozat/adatok/all_index_cleaned.pkl')"
   ]
  },
  {
   "cell_type": "code",
   "execution_count": 5,
   "metadata": {},
   "outputs": [],
   "source": [
    "df_origo_korona = pd.read_pickle('C:/Users/molna/Desktop/Szakdolgozat/adatok/all_origo_cleaned.pkl')"
   ]
  },
  {
   "cell_type": "code",
   "execution_count": 6,
   "metadata": {},
   "outputs": [],
   "source": [
    "df_all_fake_korona = pd.read_pickle('C:/Users/molna/Desktop/Szakdolgozat/adatok/all_fake_merged_cleaned.pkl')"
   ]
  },
  {
   "cell_type": "code",
   "execution_count": 7,
   "metadata": {},
   "outputs": [
    {
     "data": {
      "text/html": [
       "<div>\n",
       "<style scoped>\n",
       "    .dataframe tbody tr th:only-of-type {\n",
       "        vertical-align: middle;\n",
       "    }\n",
       "\n",
       "    .dataframe tbody tr th {\n",
       "        vertical-align: top;\n",
       "    }\n",
       "\n",
       "    .dataframe thead th {\n",
       "        text-align: right;\n",
       "    }\n",
       "</style>\n",
       "<table border=\"1\" class=\"dataframe\">\n",
       "  <thead>\n",
       "    <tr style=\"text-align: right;\">\n",
       "      <th></th>\n",
       "      <th>title</th>\n",
       "      <th>date</th>\n",
       "      <th>text</th>\n",
       "      <th>source</th>\n",
       "      <th>dezinf</th>\n",
       "    </tr>\n",
       "  </thead>\n",
       "  <tbody>\n",
       "    <tr>\n",
       "      <th>\"56\"</th>\n",
       "      <td>4000 szexstreamer adatai kerültek nyilvánosságra</td>\n",
       "      <td>2020-01-21</td>\n",
       "      <td>A vpnMentor biztonságtechnikai kutatói 875 ez...</td>\n",
       "      <td>index.hu</td>\n",
       "      <td>0</td>\n",
       "    </tr>\n",
       "    <tr>\n",
       "      <th>\"70\"</th>\n",
       "      <td>Ukrán állampolgárok adatai szivárogtak ki egy ...</td>\n",
       "      <td>2020-01-21</td>\n",
       "      <td>Újabb kiberbiztonsági probléma Ukrajnában: a ...</td>\n",
       "      <td>index.hu</td>\n",
       "      <td>0</td>\n",
       "    </tr>\n",
       "    <tr>\n",
       "      <th>\"132\"</th>\n",
       "      <td>Kell-e rettegnünk az új kínai tüdőgyulladástól?</td>\n",
       "      <td>2020-01-21</td>\n",
       "      <td>Bár egy rövid ideig úgy tűnt, hogy a kínaiakna...</td>\n",
       "      <td>index.hu</td>\n",
       "      <td>0</td>\n",
       "    </tr>\n",
       "    <tr>\n",
       "      <th>\"135\"</th>\n",
       "      <td>Hamarosan bejelenthetik a halálos kínai tüdőgy...</td>\n",
       "      <td>2020-01-21</td>\n",
       "      <td>Szövetségi források szerint helyi idő szerint...</td>\n",
       "      <td>index.hu</td>\n",
       "      <td>0</td>\n",
       "    </tr>\n",
       "    <tr>\n",
       "      <th>\"141\"</th>\n",
       "      <td>Schobert: Roppant büszke vagyok a beszédemre, ...</td>\n",
       "      <td>2020-01-21</td>\n",
       "      <td>Az ATV Egyenes Beszéd című műsorának keddi ve...</td>\n",
       "      <td>index.hu</td>\n",
       "      <td>0</td>\n",
       "    </tr>\n",
       "  </tbody>\n",
       "</table>\n",
       "</div>"
      ],
      "text/plain": [
       "                                                   title        date  \\\n",
       "\"56\"    4000 szexstreamer adatai kerültek nyilvánosságra  2020-01-21   \n",
       "\"70\"   Ukrán állampolgárok adatai szivárogtak ki egy ...  2020-01-21   \n",
       "\"132\"    Kell-e rettegnünk az új kínai tüdőgyulladástól?  2020-01-21   \n",
       "\"135\"  Hamarosan bejelenthetik a halálos kínai tüdőgy...  2020-01-21   \n",
       "\"141\"  Schobert: Roppant büszke vagyok a beszédemre, ...  2020-01-21   \n",
       "\n",
       "                                                    text    source  dezinf  \n",
       "\"56\"    A vpnMentor biztonságtechnikai kutatói 875 ez...  index.hu       0  \n",
       "\"70\"    Újabb kiberbiztonsági probléma Ukrajnában: a ...  index.hu       0  \n",
       "\"132\"  Bár egy rövid ideig úgy tűnt, hogy a kínaiakna...  index.hu       0  \n",
       "\"135\"   Szövetségi források szerint helyi idő szerint...  index.hu       0  \n",
       "\"141\"   Az ATV Egyenes Beszéd című műsorának keddi ve...  index.hu       0  "
      ]
     },
     "execution_count": 7,
     "metadata": {},
     "output_type": "execute_result"
    }
   ],
   "source": [
    "df_index_korona.head()"
   ]
  },
  {
   "cell_type": "code",
   "execution_count": 8,
   "metadata": {
    "scrolled": true
   },
   "outputs": [
    {
     "data": {
      "text/html": [
       "<div>\n",
       "<style scoped>\n",
       "    .dataframe tbody tr th:only-of-type {\n",
       "        vertical-align: middle;\n",
       "    }\n",
       "\n",
       "    .dataframe tbody tr th {\n",
       "        vertical-align: top;\n",
       "    }\n",
       "\n",
       "    .dataframe thead th {\n",
       "        text-align: right;\n",
       "    }\n",
       "</style>\n",
       "<table border=\"1\" class=\"dataframe\">\n",
       "  <thead>\n",
       "    <tr style=\"text-align: right;\">\n",
       "      <th></th>\n",
       "      <th>title</th>\n",
       "      <th>date</th>\n",
       "      <th>text</th>\n",
       "      <th>source</th>\n",
       "      <th>dezinf</th>\n",
       "    </tr>\n",
       "  </thead>\n",
       "  <tbody>\n",
       "    <tr>\n",
       "      <th>\"6\"</th>\n",
       "      <td>Március 19-én érkeznek az új Nokia mobilok</td>\n",
       "      <td>2020.03.06. 06:33</td>\n",
       "      <td>MWC nem volt, de a bejelentések nem maradnak e...</td>\n",
       "      <td>origo.hu</td>\n",
       "      <td>0</td>\n",
       "    </tr>\n",
       "    <tr>\n",
       "      <th>\"13\"</th>\n",
       "      <td>Pizsamában fejlesztik a Destiny 2-t</td>\n",
       "      <td>2020.03.06. 18:06</td>\n",
       "      <td>Otthonról dolgoznak a Bungie munkatársai.Terje...</td>\n",
       "      <td>origo.hu</td>\n",
       "      <td>0</td>\n",
       "    </tr>\n",
       "    <tr>\n",
       "      <th>\"22\"</th>\n",
       "      <td>Miért olyan nehéz megállni, hogy megérintsük a...</td>\n",
       "      <td>2020.03.06. 14:15</td>\n",
       "      <td>Gyakori kézmosás, zsebkendőbe (nem tenyérbe) t...</td>\n",
       "      <td>origo.hu</td>\n",
       "      <td>0</td>\n",
       "    </tr>\n",
       "    <tr>\n",
       "      <th>\"31\"</th>\n",
       "      <td>Drasztikusan csökkenti járatait a United ameri...</td>\n",
       "      <td>2020.03.06. 07:01</td>\n",
       "      <td>Oscar Munoz, a United Airlines vezérigazgatója...</td>\n",
       "      <td>origo.hu</td>\n",
       "      <td>0</td>\n",
       "    </tr>\n",
       "    <tr>\n",
       "      <th>\"33\"</th>\n",
       "      <td>Kivonulhatnak a nagy techcégek Kínából</td>\n",
       "      <td>2020.03.06. 09:02</td>\n",
       "      <td>Tavaly az amerikai-kínai kereskedelemi háború,...</td>\n",
       "      <td>origo.hu</td>\n",
       "      <td>0</td>\n",
       "    </tr>\n",
       "  </tbody>\n",
       "</table>\n",
       "</div>"
      ],
      "text/plain": [
       "                                                  title               date  \\\n",
       "\"6\"          Március 19-én érkeznek az új Nokia mobilok  2020.03.06. 06:33   \n",
       "\"13\"                Pizsamában fejlesztik a Destiny 2-t  2020.03.06. 18:06   \n",
       "\"22\"  Miért olyan nehéz megállni, hogy megérintsük a...  2020.03.06. 14:15   \n",
       "\"31\"  Drasztikusan csökkenti járatait a United ameri...  2020.03.06. 07:01   \n",
       "\"33\"             Kivonulhatnak a nagy techcégek Kínából  2020.03.06. 09:02   \n",
       "\n",
       "                                                   text    source  dezinf  \n",
       "\"6\"   MWC nem volt, de a bejelentések nem maradnak e...  origo.hu       0  \n",
       "\"13\"  Otthonról dolgoznak a Bungie munkatársai.Terje...  origo.hu       0  \n",
       "\"22\"  Gyakori kézmosás, zsebkendőbe (nem tenyérbe) t...  origo.hu       0  \n",
       "\"31\"  Oscar Munoz, a United Airlines vezérigazgatója...  origo.hu       0  \n",
       "\"33\"  Tavaly az amerikai-kínai kereskedelemi háború,...  origo.hu       0  "
      ]
     },
     "execution_count": 8,
     "metadata": {},
     "output_type": "execute_result"
    }
   ],
   "source": [
    "df_origo_korona.head()"
   ]
  },
  {
   "cell_type": "code",
   "execution_count": 9,
   "metadata": {},
   "outputs": [
    {
     "data": {
      "text/html": [
       "<div>\n",
       "<style scoped>\n",
       "    .dataframe tbody tr th:only-of-type {\n",
       "        vertical-align: middle;\n",
       "    }\n",
       "\n",
       "    .dataframe tbody tr th {\n",
       "        vertical-align: top;\n",
       "    }\n",
       "\n",
       "    .dataframe thead th {\n",
       "        text-align: right;\n",
       "    }\n",
       "</style>\n",
       "<table border=\"1\" class=\"dataframe\">\n",
       "  <thead>\n",
       "    <tr style=\"text-align: right;\">\n",
       "      <th></th>\n",
       "      <th>title</th>\n",
       "      <th>date</th>\n",
       "      <th>text</th>\n",
       "      <th>source</th>\n",
       "      <th>dezinf</th>\n",
       "    </tr>\n",
       "  </thead>\n",
       "  <tbody>\n",
       "    <tr>\n",
       "      <th>\"1\"</th>\n",
       "      <td>Ezt tedd, ha nem jött meg a vakcinaigazolvány</td>\n",
       "      <td>2021. május 17.</td>\n",
       "      <td>Fontos! Szombattól a védettségi kártyával rend...</td>\n",
       "      <td>avilagtitkai.com</td>\n",
       "      <td>1</td>\n",
       "    </tr>\n",
       "    <tr>\n",
       "      <th>\"2\"</th>\n",
       "      <td>Koronavírus: nem mindenki fertőzőképes, akinek...</td>\n",
       "      <td>2021. április 27.</td>\n",
       "      <td>Az orvosok fontos információt tettek közzé. Ki...</td>\n",
       "      <td>avilagtitkai.com</td>\n",
       "      <td>1</td>\n",
       "    </tr>\n",
       "    <tr>\n",
       "      <th>\"3\"</th>\n",
       "      <td>Figyelem: ezekben a városokban emelkedik a kor...</td>\n",
       "      <td>2020. december 22.</td>\n",
       "      <td>Fontos, tudjon róla mindenki! A 51. heti adato...</td>\n",
       "      <td>avilagtitkai.com</td>\n",
       "      <td>1</td>\n",
       "    </tr>\n",
       "    <tr>\n",
       "      <th>\"4\"</th>\n",
       "      <td>Megint megugrott a beazonosított koronavírus-f...</td>\n",
       "      <td>2021. február 24.</td>\n",
       "      <td>Újra 100 felett a halottak száma! 2855 újabb m...</td>\n",
       "      <td>avilagtitkai.com</td>\n",
       "      <td>1</td>\n",
       "    </tr>\n",
       "    <tr>\n",
       "      <th>\"5\"</th>\n",
       "      <td>Megjöttek a legfrissebb adatok: az elmúlt idős...</td>\n",
       "      <td>2020. december 14.</td>\n",
       "      <td>Tovább nőtt a fertőzöttek és elhunytak száma M...</td>\n",
       "      <td>avilagtitkai.com</td>\n",
       "      <td>1</td>\n",
       "    </tr>\n",
       "  </tbody>\n",
       "</table>\n",
       "</div>"
      ],
      "text/plain": [
       "                                                 title                date  \\\n",
       "\"1\"      Ezt tedd, ha nem jött meg a vakcinaigazolvány     2021. május 17.   \n",
       "\"2\"  Koronavírus: nem mindenki fertőzőképes, akinek...   2021. április 27.   \n",
       "\"3\"  Figyelem: ezekben a városokban emelkedik a kor...  2020. december 22.   \n",
       "\"4\"  Megint megugrott a beazonosított koronavírus-f...   2021. február 24.   \n",
       "\"5\"  Megjöttek a legfrissebb adatok: az elmúlt idős...  2020. december 14.   \n",
       "\n",
       "                                                  text            source  \\\n",
       "\"1\"  Fontos! Szombattól a védettségi kártyával rend...  avilagtitkai.com   \n",
       "\"2\"  Az orvosok fontos információt tettek közzé. Ki...  avilagtitkai.com   \n",
       "\"3\"  Fontos, tudjon róla mindenki! A 51. heti adato...  avilagtitkai.com   \n",
       "\"4\"  Újra 100 felett a halottak száma! 2855 újabb m...  avilagtitkai.com   \n",
       "\"5\"  Tovább nőtt a fertőzöttek és elhunytak száma M...  avilagtitkai.com   \n",
       "\n",
       "     dezinf  \n",
       "\"1\"       1  \n",
       "\"2\"       1  \n",
       "\"3\"       1  \n",
       "\"4\"       1  \n",
       "\"5\"       1  "
      ]
     },
     "execution_count": 9,
     "metadata": {},
     "output_type": "execute_result"
    }
   ],
   "source": [
    "df_all_fake_korona.head()"
   ]
  },
  {
   "cell_type": "markdown",
   "metadata": {},
   "source": [
    "### Merge into one ABT"
   ]
  },
  {
   "cell_type": "code",
   "execution_count": 10,
   "metadata": {},
   "outputs": [],
   "source": [
    "frames = [df_index_korona, df_origo_korona, df_all_fake_korona]"
   ]
  },
  {
   "cell_type": "code",
   "execution_count": 11,
   "metadata": {},
   "outputs": [],
   "source": [
    "abt_covid = pd.concat(frames)"
   ]
  },
  {
   "cell_type": "code",
   "execution_count": 12,
   "metadata": {},
   "outputs": [
    {
     "data": {
      "text/plain": [
       "63674"
      ]
     },
     "execution_count": 12,
     "metadata": {},
     "output_type": "execute_result"
    }
   ],
   "source": [
    "len(abt_covid)"
   ]
  },
  {
   "cell_type": "markdown",
   "metadata": {},
   "source": [
    "### Save ABT to pickle "
   ]
  },
  {
   "cell_type": "code",
   "execution_count": 3,
   "metadata": {},
   "outputs": [
    {
     "ename": "NameError",
     "evalue": "name 'abt_covid' is not defined",
     "output_type": "error",
     "traceback": [
      "\u001b[1;31m---------------------------------------------------------------------------\u001b[0m",
      "\u001b[1;31mNameError\u001b[0m                                 Traceback (most recent call last)",
      "\u001b[1;32m<ipython-input-3-7e8a38aedb96>\u001b[0m in \u001b[0;36m<module>\u001b[1;34m\u001b[0m\n\u001b[1;32m----> 1\u001b[1;33m \u001b[0mabt_covid\u001b[0m\u001b[1;33m.\u001b[0m\u001b[0mto_pickle\u001b[0m\u001b[1;33m(\u001b[0m\u001b[1;34m'C:/Users/molna/Desktop/Szakdolgozat/adatok/abt_covid_base.pkl'\u001b[0m\u001b[1;33m)\u001b[0m\u001b[1;33m\u001b[0m\u001b[1;33m\u001b[0m\u001b[0m\n\u001b[0m",
      "\u001b[1;31mNameError\u001b[0m: name 'abt_covid' is not defined"
     ]
    }
   ],
   "source": [
    "abt_covid.to_pickle('C:/Users/molna/Desktop/Szakdolgozat/adatok/abt_covid_base.pkl')"
   ]
  }
 ],
 "metadata": {
  "kernelspec": {
   "display_name": "Python 3",
   "language": "python",
   "name": "python3"
  },
  "language_info": {
   "codemirror_mode": {
    "name": "ipython",
    "version": 3
   },
   "file_extension": ".py",
   "mimetype": "text/x-python",
   "name": "python",
   "nbconvert_exporter": "python",
   "pygments_lexer": "ipython3",
   "version": "3.7.6"
  }
 },
 "nbformat": 4,
 "nbformat_minor": 4
}
