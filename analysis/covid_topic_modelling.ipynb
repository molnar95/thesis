{
 "cells": [
  {
   "cell_type": "markdown",
   "metadata": {},
   "source": [
    "## Topic Modelling \n",
    "\n",
    "This notebook contains topic modelling script on the collected data.\n",
    "\n",
    "Table of Content:\n",
    "* **1. Import required packages**\n",
    "* **2. Import files**\n"
   ]
  },
  {
   "cell_type": "markdown",
   "metadata": {},
   "source": [
    "### 1. Import required packages"
   ]
  },
  {
   "cell_type": "code",
   "execution_count": 24,
   "metadata": {},
   "outputs": [],
   "source": [
    "import pickle\n",
    "import pandas as pd\n",
    "import numpy as np\n",
    "import matplotlib.pyplot as plt\n",
    "import seaborn as sns\n",
    "import pyLDAvis.sklearn\n",
    "\n",
    "from sklearn.feature_extraction.text import CountVectorizer\n",
    "from sklearn.feature_extraction.text import TfidfTransformer\n",
    "from sklearn.decomposition import NMF\n",
    "from sklearn.decomposition import LatentDirichletAllocation as LDA"
   ]
  },
  {
   "cell_type": "markdown",
   "metadata": {},
   "source": [
    "### 2. Import files"
   ]
  },
  {
   "cell_type": "code",
   "execution_count": 2,
   "metadata": {},
   "outputs": [
    {
     "name": "stdout",
     "output_type": "stream",
     "text": [
      "ABT table has 63633 rows and 50 columns\n"
     ]
    }
   ],
   "source": [
    "abt_covid = pd.read_pickle('C:/Users/molna/Desktop/Szakdolgozat/adatok/abt_covid_featured.pkl')\n",
    "\n",
    "print(\"ABT table has {} rows and {} columns\".format(len(abt_covid), len(abt_covid.columns)))"
   ]
  },
  {
   "cell_type": "markdown",
   "metadata": {},
   "source": [
    "### 2.1 Separate mainstream and dezinformational articles"
   ]
  },
  {
   "cell_type": "code",
   "execution_count": 3,
   "metadata": {},
   "outputs": [],
   "source": [
    "abt_covid_mainstream = abt_covid[abt_covid[\"dezinf\"] == 0]"
   ]
  },
  {
   "cell_type": "code",
   "execution_count": 4,
   "metadata": {},
   "outputs": [],
   "source": [
    "abt_covid_dezinf = abt_covid[abt_covid[\"dezinf\"] == 1]"
   ]
  },
  {
   "cell_type": "markdown",
   "metadata": {},
   "source": [
    "### 3. NMF on dezinformational articles"
   ]
  },
  {
   "cell_type": "code",
   "execution_count": 15,
   "metadata": {},
   "outputs": [
    {
     "name": "stderr",
     "output_type": "stream",
     "text": [
      "C:\\Users\\molna\\anaconda3\\lib\\site-packages\\sklearn\\utils\\deprecation.py:87: FutureWarning: Function get_feature_names is deprecated; get_feature_names is deprecated in 1.0 and will be removed in 1.2. Please use get_feature_names_out instead.\n",
      "  warnings.warn(msg, category=FutureWarning)\n"
     ]
    }
   ],
   "source": [
    "tfidf_vectorizer_dezinf = TfidfVectorizer(max_df=0.95, min_df=2, stop_words='english')\n",
    "tfidf_dezinf = tfidf_vectorizer.fit_transform(abt_covid_dezinf[\"text_lemmas\"].astype(str))\n",
    "tfidf_feature_names_dezinf = tfidf_vectorizer.get_feature_names()"
   ]
  },
  {
   "cell_type": "code",
   "execution_count": 16,
   "metadata": {},
   "outputs": [
    {
     "name": "stderr",
     "output_type": "stream",
     "text": [
      "C:\\Users\\molna\\anaconda3\\lib\\site-packages\\sklearn\\decomposition\\_nmf.py:1425: FutureWarning: `alpha` was deprecated in version 1.0 and will be removed in 1.2. Use `alpha_W` and `alpha_H` instead\n",
      "  FutureWarning,\n"
     ]
    }
   ],
   "source": [
    "# A Nonnegative Double Singular Value Decomposition metódussal a ritkán előforduló értékeket jobban figyelembe vesszük.\n",
    "# A l1_ratio egy normalizációs paraméter ami 0 és 1 közötti értéket vehet fel. A 0.5-ös érték a Frobenius norm értékének felel meg.\n",
    "# Az aplha paraméter egy konstans amivel megszorozzuk a normalizált értékeket. Ha 0, nincs normalizálás.\n",
    "nmf = NMF(n_components=5, random_state=45, alpha=.1, l1_ratio=.5, init='nndsvd').fit(tfidf_dezinf)"
   ]
  },
  {
   "cell_type": "code",
   "execution_count": 7,
   "metadata": {},
   "outputs": [],
   "source": [
    "#Függvény a topikok megjelenítéséhez.\n",
    "def display_topics(model, feature_names, no_top_words):\n",
    "    for topic_idx, topic in enumerate(model.components_):\n",
    "        print (\"\\nTopic #%d:\" % topic_idx)\n",
    "        print( \" \".join([feature_names[i]\n",
    "                        for i in topic.argsort()[:-no_top_words - 1:-1]]))"
   ]
  },
  {
   "cell_type": "code",
   "execution_count": 17,
   "metadata": {},
   "outputs": [
    {
     "name": "stdout",
     "output_type": "stream",
     "text": [
      "\n",
      "Topic #0:\n",
      "vírus koronavírus ember betegség tünet tud beteg járvány világ fertőzés százalék eset nap súlyos idő orvos ír covi kórház teszt\n",
      "\n",
      "Topic #1:\n",
      "szám fertőzött fő elhunytak aktív beteg beazonosított fertőzés nő en állampolgár idős haza elhunyt emelkedik gyógyul közül kórház koronavírus magyar\n",
      "\n",
      "Topic #2:\n",
      "oltás vakcina oltópont pfizer oltási oltóanyag dolgozó astrazenec védőoltás regisztrált gov moderna háziorvos adag érkezik megkap millió olt beolt hu\n",
      "\n",
      "Topic #3:\n",
      "tilalom kijárási továbbra óra dolgozó szabály este intézkedés egészségügyi szociális zárt ingyenes idős kötelező általános maszkviselés érvény ellátás fő tilos\n",
      "\n",
      "Topic #4:\n",
      "orbán viktor miniszterelnök kormány gulyás magyarország gergely magyar járvány ország operatív miniszter intézkedés törzs korlátozás döntés védekezés kormányfő szabály hullám\n"
     ]
    }
   ],
   "source": [
    "no_top_words = 20\n",
    "display_topics(nmf, tfidf_feature_names_dezinf, no_top_words)"
   ]
  },
  {
   "cell_type": "markdown",
   "metadata": {},
   "source": [
    "### 4. NMF on mainstream articles"
   ]
  },
  {
   "cell_type": "code",
   "execution_count": 18,
   "metadata": {},
   "outputs": [
    {
     "name": "stderr",
     "output_type": "stream",
     "text": [
      "C:\\Users\\molna\\anaconda3\\lib\\site-packages\\sklearn\\utils\\deprecation.py:87: FutureWarning: Function get_feature_names is deprecated; get_feature_names is deprecated in 1.0 and will be removed in 1.2. Please use get_feature_names_out instead.\n",
      "  warnings.warn(msg, category=FutureWarning)\n"
     ]
    }
   ],
   "source": [
    "tfidf_vectorizer_main = TfidfVectorizer(max_df=0.95, min_df=2, stop_words='english')\n",
    "tfidf_main = tfidf_vectorizer.fit_transform(abt_covid_mainstream[\"text_lemmas\"].astype(str))\n",
    "tfidf_feature_names_main = tfidf_vectorizer.get_feature_names()"
   ]
  },
  {
   "cell_type": "code",
   "execution_count": 19,
   "metadata": {},
   "outputs": [
    {
     "name": "stderr",
     "output_type": "stream",
     "text": [
      "C:\\Users\\molna\\anaconda3\\lib\\site-packages\\sklearn\\decomposition\\_nmf.py:1425: FutureWarning: `alpha` was deprecated in version 1.0 and will be removed in 1.2. Use `alpha_W` and `alpha_H` instead\n",
      "  FutureWarning,\n"
     ]
    }
   ],
   "source": [
    "# A Nonnegative Double Singular Value Decomposition metódussal a ritkán előforduló értékeket jobban figyelembe vesszük.\n",
    "# A l1_ratio egy normalizációs paraméter ami 0 és 1 közötti értéket vehet fel. A 0.5-ös érték a Frobenius norm értékének felel meg.\n",
    "# Az aplha paraméter egy konstans amivel megszorozzuk a normalizált értékeket. Ha 0, nincs normalizálás.\n",
    "nmf = NMF(n_components=5, random_state=45, alpha=.1, l1_ratio=.5, init='nndsvd').fit(tfidf_main)"
   ]
  },
  {
   "cell_type": "code",
   "execution_count": 11,
   "metadata": {},
   "outputs": [
    {
     "name": "stdout",
     "output_type": "stream",
     "text": [
      "\n",
      "Topic #0:\n",
      "szám beteg fertőzött kórház fő fertőzés nő nap koronavírus aktív egészségügyi koronavírusos közül müller járvány óra idős cecília en emelkedik\n",
      "\n",
      "Topic #1:\n",
      "fertőzött halálos áldozat szám gyógyult en halott nyilván regisztrál haláleset egyesült hal ra ország igazolt betegség tart eset nyilvántartás covi\n",
      "\n",
      "Topic #2:\n",
      "vakcina oltás oltóanyag pfizer adag oltási astrazenec orosz védőoltás szputnyik olt biontech millió moderna magyarország oltópont sinopharm beolt kínai megkap\n",
      "\n",
      "Topic #3:\n",
      "csapat játékos bajnokság mérkőzés fradi klub meccs válogatott szövetség labdarúgó liga ferencváros edző szezon bajnok támadó boys young magyar játszik\n",
      "\n",
      "Topic #4:\n",
      "magyar kormány százalék milliárd járvány forint európai ország magyarország koronavírus gazdaság orbán tud ember gazdasági cég támogatás viktor helyzet tesz\n"
     ]
    }
   ],
   "source": [
    "no_top_words = 20\n",
    "display_topics(nmf, tfidf_feature_names_main, no_top_words)"
   ]
  },
  {
   "cell_type": "markdown",
   "metadata": {},
   "source": [
    "### 5. LDA on dezinformational articles"
   ]
  },
  {
   "cell_type": "code",
   "execution_count": 14,
   "metadata": {},
   "outputs": [],
   "source": [
    "# number of topic\n",
    "number_topics = 5\n",
    "\n",
    "# Hány szót jelenítsen meg egy topikból:\n",
    "number_words = 20"
   ]
  },
  {
   "cell_type": "code",
   "execution_count": 21,
   "metadata": {},
   "outputs": [
    {
     "data": {
      "text/plain": [
       "LatentDirichletAllocation(n_components=5, n_jobs=-1, random_state=45)"
      ]
     },
     "execution_count": 21,
     "metadata": {},
     "output_type": "execute_result"
    }
   ],
   "source": [
    "# build tha modell and add hyperparameters:\n",
    "lda_dezinf = LDA(n_components=number_topics, n_jobs=-1, random_state=45)\n",
    "\n",
    "# fit the LDA modell\n",
    "lda_dezinf.fit(tfidf_dezinf)"
   ]
  },
  {
   "cell_type": "code",
   "execution_count": 26,
   "metadata": {},
   "outputs": [],
   "source": [
    "pickle.dump(lda_dezinf, open('C:/Users/molna/Desktop/Szakdolgozat/lda_dezinf.pk', 'wb'))"
   ]
  },
  {
   "cell_type": "code",
   "execution_count": 27,
   "metadata": {},
   "outputs": [
    {
     "name": "stdout",
     "output_type": "stream",
     "text": [
      "\n",
      "Topic #0:\n",
      "fecó hercegovina boszik koszovó kim montenegró vérrög boncolás macedónia rék timi hanks csontvelősejt korál ricsi öttel bkk lisziewicz tom bajnok\n",
      "\n",
      "Topic #1:\n",
      "fokhagyma víz gyömbér méz folt vércsoport tea fogyaszt hatás alkaloida hatóanyag gyógynövény bácsi kannabisz tudasfaj vitamin gyógyszer mézet kever hatású\n",
      "\n",
      "Topic #2:\n",
      "koronavírus szám oltás vakcina fertőzött járvány ember beteg vírus tud fertőzés magyarország magyar fő kórház ország nap kormány egészségügyi idős\n",
      "\n",
      "Topic #3:\n",
      "nyugdíj pápa havi forint nyugdíjas alapjövedelem asztrológus bd feri emelés megdöbbentő jani egyházfő futár georgica járadék nézőpont hisz nyugellátás visszaépítés\n",
      "\n",
      "Topic #4:\n",
      "rotavírus szájer operatőr síszezon sas zivatar elefánt kuncze apukám zápor csapadék berardelli drávaszerdahely intelligenciaszint nozokomiális nicole monoxid dúl cf ereszcsatorna\n"
     ]
    }
   ],
   "source": [
    "display_topics(lda_dezinf, tfidf_feature_names_dezinf, number_words)"
   ]
  },
  {
   "cell_type": "code",
   "execution_count": 17,
   "metadata": {},
   "outputs": [
    {
     "ename": "NameError",
     "evalue": "name 'small_document_term_matrix' is not defined",
     "output_type": "error",
     "traceback": [
      "\u001b[1;31m---------------------------------------------------------------------------\u001b[0m",
      "\u001b[1;31mNameError\u001b[0m                                 Traceback (most recent call last)",
      "\u001b[1;32m<ipython-input-17-0affdb6a2541>\u001b[0m in \u001b[0;36m<module>\u001b[1;34m\u001b[0m\n\u001b[0;32m      1\u001b[0m \u001b[0mpyLDAvis\u001b[0m\u001b[1;33m.\u001b[0m\u001b[0menable_notebook\u001b[0m\u001b[1;33m(\u001b[0m\u001b[1;33m)\u001b[0m\u001b[1;33m\u001b[0m\u001b[1;33m\u001b[0m\u001b[0m\n\u001b[1;32m----> 2\u001b[1;33m \u001b[0mpyLDAvis\u001b[0m\u001b[1;33m.\u001b[0m\u001b[0msklearn\u001b[0m\u001b[1;33m.\u001b[0m\u001b[0mprepare\u001b[0m\u001b[1;33m(\u001b[0m\u001b[0mnmf\u001b[0m\u001b[1;33m,\u001b[0m \u001b[0msmall_document_term_matrix\u001b[0m\u001b[1;33m,\u001b[0m\u001b[0msmall_count_vectorizer\u001b[0m\u001b[1;33m,\u001b[0m\u001b[0mmds\u001b[0m\u001b[1;33m=\u001b[0m\u001b[1;34m'tsne'\u001b[0m\u001b[1;33m)\u001b[0m\u001b[1;33m\u001b[0m\u001b[1;33m\u001b[0m\u001b[0m\n\u001b[0m",
      "\u001b[1;31mNameError\u001b[0m: name 'small_document_term_matrix' is not defined"
     ]
    }
   ],
   "source": [
    "pyLDAvis.enable_notebook()\n",
    "pyLDAvis.sklearn.prepare(nmf, small_document_term_matrix,small_count_vectorizer,mds='tsne')\n"
   ]
  }
 ],
 "metadata": {
  "kernelspec": {
   "display_name": "Python 3",
   "language": "python",
   "name": "python3"
  },
  "language_info": {
   "codemirror_mode": {
    "name": "ipython",
    "version": 3
   },
   "file_extension": ".py",
   "mimetype": "text/x-python",
   "name": "python",
   "nbconvert_exporter": "python",
   "pygments_lexer": "ipython3",
   "version": "3.7.6"
  }
 },
 "nbformat": 4,
 "nbformat_minor": 4
}
