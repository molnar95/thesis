{
 "cells": [
  {
   "cell_type": "markdown",
   "metadata": {},
   "source": [
    "## Support Vector Machines Classifier \n",
    "\n",
    "This notebook contains the SVN classifier on the collected data.\n",
    "\n",
    "Table of Content:\n",
    "* **1. Import required packages**\n",
    "* **2. Import files**\n",
    "* **3. Undersampling the majority class**\n",
    "* **4. Word Frequency**\n",
    "* 4.1 Bag of Words\n",
    "* 4.2 TF-IDF\n",
    "* **5. Support Vector Machines**\n",
    "* 5.1 Define the target and explanatory variable, cross validation\n",
    "* 5.2 Build the model with Sklearn pipeline\n",
    "* 5.3 Evaluation of the model \n",
    "* *5.3.1 Modell Accuracy*\n",
    "* *5.3.2 Confusion Matrix*\n",
    "* *5.3.3 ROC curve*"
   ]
  },
  {
   "cell_type": "markdown",
   "metadata": {},
   "source": [
    "### 1. Import required packages"
   ]
  },
  {
   "cell_type": "code",
   "execution_count": 21,
   "metadata": {},
   "outputs": [],
   "source": [
    "import pandas as pd\n",
    "import numpy as np\n",
    "import matplotlib.pyplot as plt\n",
    "import seaborn as sns\n",
    "\n",
    "from sklearn.pipeline import Pipeline\n",
    "from sklearn.feature_extraction.text import CountVectorizer\n",
    "from sklearn.feature_extraction.text import TfidfTransformer\n",
    "from sklearn.linear_model import SGDClassifier\n",
    "from sklearn.model_selection import train_test_split\n",
    "from sklearn.metrics import confusion_matrix\n",
    "from sklearn.metrics import plot_confusion_matrix\n",
    "from sklearn.metrics import roc_curve\n",
    "from sklearn.metrics import roc_auc_score"
   ]
  },
  {
   "cell_type": "markdown",
   "metadata": {},
   "source": [
    "### 2. Import files"
   ]
  },
  {
   "cell_type": "code",
   "execution_count": 2,
   "metadata": {},
   "outputs": [
    {
     "name": "stdout",
     "output_type": "stream",
     "text": [
      "ABT table has 63633 rows and 50 columns\n"
     ]
    }
   ],
   "source": [
    "abt_covid = pd.read_pickle('C:/Users/molna/Desktop/Szakdolgozat/adatok/abt_covid_featured.pkl')\n",
    "\n",
    "print(\"ABT table has {} rows and {} columns\".format(len(abt_covid), len(abt_covid.columns)))"
   ]
  },
  {
   "cell_type": "code",
   "execution_count": 4,
   "metadata": {},
   "outputs": [],
   "source": [
    "# select only the relevant features for the modelling\n",
    "data = abt_covid[[\"dezinf\", \"title_lemmas\", \"text_lemmas\"]]"
   ]
  },
  {
   "cell_type": "markdown",
   "metadata": {},
   "source": [
    "### 3. Undersampling the majority class"
   ]
  },
  {
   "cell_type": "code",
   "execution_count": 5,
   "metadata": {},
   "outputs": [],
   "source": [
    "class_count_0, class_count_1 = data['dezinf'].value_counts()"
   ]
  },
  {
   "cell_type": "code",
   "execution_count": 6,
   "metadata": {},
   "outputs": [
    {
     "name": "stdout",
     "output_type": "stream",
     "text": [
      "class 0: (50358, 3)\n",
      "class 1: (13275, 3)\n"
     ]
    }
   ],
   "source": [
    "class_0 = data[data['dezinf'] == 0]\n",
    "class_1 = data[data['dezinf'] == 1]\n",
    "print('class 0:', class_0.shape)\n",
    "print('class 1:', class_1.shape)"
   ]
  },
  {
   "cell_type": "code",
   "execution_count": 7,
   "metadata": {},
   "outputs": [
    {
     "data": {
      "text/plain": [
       "<matplotlib.axes._subplots.AxesSubplot at 0x26336e97f08>"
      ]
     },
     "execution_count": 7,
     "metadata": {},
     "output_type": "execute_result"
    },
    {
     "data": {
      "image/png": "[encoded data removed]",
      "text/plain": [
       "<Figure size 432x288 with 1 Axes>"
      ]
     },
     "metadata": {
      "needs_background": "light"
     },
     "output_type": "display_data"
    }
   ],
   "source": [
    "class_0_under = class_0.sample(class_count_1)\n",
    "\n",
    "data_under = pd.concat([class_0_under, class_1], axis=0)\n",
    "\n",
    "data_under['dezinf'].value_counts().plot(kind='bar', title='count (target)')"
   ]
  },
  {
   "cell_type": "markdown",
   "metadata": {},
   "source": [
    "### 4. Word Frequency"
   ]
  },
  {
   "cell_type": "code",
   "execution_count": 8,
   "metadata": {},
   "outputs": [],
   "source": [
    "def dummy(doc):\n",
    "    return doc"
   ]
  },
  {
   "cell_type": "markdown",
   "metadata": {},
   "source": [
    "#### 4.1 Bag of Words"
   ]
  },
  {
   "cell_type": "code",
   "execution_count": 9,
   "metadata": {},
   "outputs": [],
   "source": [
    "count_vect = CountVectorizer(tokenizer=dummy, preprocessor=dummy,)"
   ]
  },
  {
   "cell_type": "code",
   "execution_count": 10,
   "metadata": {},
   "outputs": [],
   "source": [
    "word_count_matrix = count_vect.fit_transform(data_under[\"text_lemmas\"])"
   ]
  },
  {
   "cell_type": "code",
   "execution_count": 11,
   "metadata": {},
   "outputs": [
    {
     "data": {
      "text/plain": [
       "<26550x192269 sparse matrix of type '<class 'numpy.int64'>'\n",
       "\twith 3960272 stored elements in Compressed Sparse Row format>"
      ]
     },
     "execution_count": 11,
     "metadata": {},
     "output_type": "execute_result"
    }
   ],
   "source": [
    "word_count_matrix"
   ]
  },
  {
   "cell_type": "markdown",
   "metadata": {},
   "source": [
    "#### 4.2 TF-IDF\n",
    "(i.e Term Frequency times inverse document frequency)"
   ]
  },
  {
   "cell_type": "code",
   "execution_count": 12,
   "metadata": {},
   "outputs": [
    {
     "data": {
      "text/plain": [
       "array([ 9.80052833,  6.72091457,  8.8842376 , ..., 10.49367551,\n",
       "       10.49367551, 10.49367551])"
      ]
     },
     "execution_count": 12,
     "metadata": {},
     "output_type": "execute_result"
    }
   ],
   "source": [
    "tf_idf = TfidfTransformer()\n",
    "tf_idf.fit(word_count_matrix)\n",
    "tf_idf.idf_"
   ]
  },
  {
   "cell_type": "code",
   "execution_count": 13,
   "metadata": {},
   "outputs": [
    {
     "data": {
      "text/html": [
       "<div>\n",
       "<style scoped>\n",
       "    .dataframe tbody tr th:only-of-type {\n",
       "        vertical-align: middle;\n",
       "    }\n",
       "\n",
       "    .dataframe tbody tr th {\n",
       "        vertical-align: top;\n",
       "    }\n",
       "\n",
       "    .dataframe thead th {\n",
       "        text-align: right;\n",
       "    }\n",
       "</style>\n",
       "<table border=\"1\" class=\"dataframe\">\n",
       "  <thead>\n",
       "    <tr style=\"text-align: right;\">\n",
       "      <th></th>\n",
       "      <th>idf_weight</th>\n",
       "    </tr>\n",
       "  </thead>\n",
       "  <tbody>\n",
       "    <tr>\n",
       "      <th>koronavírus</th>\n",
       "      <td>1.289806</td>\n",
       "    </tr>\n",
       "    <tr>\n",
       "      <th>járvány</th>\n",
       "      <td>1.507104</td>\n",
       "    </tr>\n",
       "    <tr>\n",
       "      <th>ember</th>\n",
       "      <td>1.891314</td>\n",
       "    </tr>\n",
       "    <tr>\n",
       "      <th>tud</th>\n",
       "      <td>1.927597</td>\n",
       "    </tr>\n",
       "    <tr>\n",
       "      <th>ország</th>\n",
       "      <td>2.056933</td>\n",
       "    </tr>\n",
       "    <tr>\n",
       "      <th>...</th>\n",
       "      <td>...</td>\n",
       "    </tr>\n",
       "    <tr>\n",
       "      <th>novikov</th>\n",
       "      <td>10.493676</td>\n",
       "    </tr>\n",
       "    <tr>\n",
       "      <th>fülöppel</th>\n",
       "      <td>10.493676</td>\n",
       "    </tr>\n",
       "    <tr>\n",
       "      <th>noviemb</th>\n",
       "      <td>10.493676</td>\n",
       "    </tr>\n",
       "    <tr>\n",
       "      <th>novomatic</th>\n",
       "      <td>10.493676</td>\n",
       "    </tr>\n",
       "    <tr>\n",
       "      <th>žižekforrás</th>\n",
       "      <td>10.493676</td>\n",
       "    </tr>\n",
       "  </tbody>\n",
       "</table>\n",
       "<p>192269 rows × 1 columns</p>\n",
       "</div>"
      ],
      "text/plain": [
       "             idf_weight\n",
       "koronavírus    1.289806\n",
       "járvány        1.507104\n",
       "ember          1.891314\n",
       "tud            1.927597\n",
       "ország         2.056933\n",
       "...                 ...\n",
       "novikov       10.493676\n",
       "fülöppel      10.493676\n",
       "noviemb       10.493676\n",
       "novomatic     10.493676\n",
       "žižekforrás   10.493676\n",
       "\n",
       "[192269 rows x 1 columns]"
      ]
     },
     "execution_count": 13,
     "metadata": {},
     "output_type": "execute_result"
    }
   ],
   "source": [
    "idf = pd.DataFrame(tf_idf.idf_, index=count_vect.get_feature_names(), columns=['idf_weight'])\n",
    "idf.sort_values(by='idf_weight')"
   ]
  },
  {
   "cell_type": "markdown",
   "metadata": {},
   "source": [
    "### 5.  Support Vector Machines (SVN)"
   ]
  },
  {
   "cell_type": "markdown",
   "metadata": {},
   "source": [
    "#### 5.1 Define the target and explanatory variable, cross validation"
   ]
  },
  {
   "cell_type": "code",
   "execution_count": 14,
   "metadata": {},
   "outputs": [],
   "source": [
    "X = data_under['text_lemmas']\n",
    "y = data_under['dezinf']"
   ]
  },
  {
   "cell_type": "code",
   "execution_count": 15,
   "metadata": {},
   "outputs": [],
   "source": [
    "# split data into 80% training and 20% test set\n",
    "X_train, X_test, y_train, y_test = train_test_split(X, y, test_size=0.2, random_state=42)"
   ]
  },
  {
   "cell_type": "markdown",
   "metadata": {},
   "source": [
    "#### 5.2 Build the model with Sklearn pipeline"
   ]
  },
  {
   "cell_type": "code",
   "execution_count": 16,
   "metadata": {},
   "outputs": [],
   "source": [
    "svm_pipe = Pipeline([('vector', CountVectorizer(tokenizer=dummy,\n",
    "                                                preprocessor=dummy)),\n",
    "                         ('tfidf', TfidfTransformer()),\n",
    "                         ('clf-svm', SGDClassifier(loss='hinge', \n",
    "                                                   #penalty='12',\n",
    "                                                   alpha=1e-3,\n",
    "                                                   #n_iter=5,\n",
    "                                                   random_state=42))\n",
    "                        ])"
   ]
  },
  {
   "cell_type": "code",
   "execution_count": 17,
   "metadata": {},
   "outputs": [],
   "source": [
    "svm_model = svm_pipe.fit(X_train, y_train)"
   ]
  },
  {
   "cell_type": "markdown",
   "metadata": {},
   "source": [
    "#### 5.3 Evaluation of the model"
   ]
  },
  {
   "cell_type": "markdown",
   "metadata": {},
   "source": [
    "#### 5.3.1 Modell Accuracy"
   ]
  },
  {
   "cell_type": "code",
   "execution_count": 19,
   "metadata": {},
   "outputs": [
    {
     "name": "stdout",
     "output_type": "stream",
     "text": [
      "The Accuracy of the naive bayes model on the article text is: 0.83 % with the balanced dataset\n"
     ]
    }
   ],
   "source": [
    "predicted = svm_model.predict(X_test)\n",
    "\n",
    "score = round(svm_model.score(X_test, y_test), 2)\n",
    "\n",
    "print(\"The Accuracy of the naive bayes model on the article text is: {} % with the balanced dataset\".format(score))"
   ]
  },
  {
   "cell_type": "markdown",
   "metadata": {},
   "source": [
    "#### 5.3.2 Confusion Matrix"
   ]
  },
  {
   "cell_type": "code",
   "execution_count": 22,
   "metadata": {},
   "outputs": [
    {
     "data": {
      "image/png": "[encoded data removed]",
      "text/plain": [
       "<Figure size 432x432 with 1 Axes>"
      ]
     },
     "metadata": {
      "needs_background": "light"
     },
     "output_type": "display_data"
    },
    {
     "name": "stdout",
     "output_type": "stream",
     "text": [
      "Failure first row (%):  24.79 %\n",
      "Failure second row (%):  15.49 %\n"
     ]
    }
   ],
   "source": [
    "cm = confusion_matrix(y_test, predicted)\n",
    "plt.figure(figsize = (6,6))\n",
    "sns.heatmap(cm, annot=True, cbar=False, fmt=\"g\")\n",
    "plt.title('Confusion matrix of the Support Vector Machine Classifier')\n",
    "plt.xlabel(\"predicted\")\n",
    "plt.ylabel(\"true\")\n",
    "\n",
    "plt.show()\n",
    "\n",
    "print(\"Failure first row (%): \", round(confusion_matrix(y_test, predicted)[0,1]/confusion_matrix(y_test, predicted)[0,0]*100,2),\"%\")\n",
    "print(\"Failure second row (%): \", round(confusion_matrix(y_test, predicted)[1,0]/confusion_matrix(y_test, predicted)[1,1]*100,2),\"%\")"
   ]
  },
  {
   "cell_type": "markdown",
   "metadata": {},
   "source": [
    "#### 5.3.3 ROC curve"
   ]
  },
  {
   "cell_type": "code",
   "execution_count": 23,
   "metadata": {},
   "outputs": [
    {
     "data": {
      "image/png": "[encoded data removed]",
      "text/plain": [
       "<Figure size 432x288 with 1 Axes>"
      ]
     },
     "metadata": {
      "needs_background": "light"
     },
     "output_type": "display_data"
    },
    {
     "name": "stdout",
     "output_type": "stream",
     "text": [
      "The AUC score of the Naive Bayes Classifier: 0.83\n"
     ]
    }
   ],
   "source": [
    "fpr, tpr, thresholds = roc_curve(y_test, predicted)\n",
    "\n",
    "# plot the diagonal line\n",
    "plt.plot([0,1],[0,1],'k--') \n",
    "# plot the ROC curve\n",
    "plt.plot(fpr, tpr, label='NB') \n",
    "plt.xlabel('false positive rate')\n",
    "plt.ylabel('true positive rate')\n",
    "plt.title('ROC Curve of the Naive Bayes Classifier')\n",
    "plt.show()\n",
    "\n",
    "print(\"The AUC score of the Naive Bayes Classifier: {}\".format(round(roc_auc_score(y_test, predicted), 2)))"
   ]
  },
  {
   "cell_type": "code",
   "execution_count": 25,
   "metadata": {},
   "outputs": [],
   "source": [
    "prediction = svm_model.predict(data_under['text_lemmas'])"
   ]
  },
  {
   "cell_type": "code",
   "execution_count": 26,
   "metadata": {},
   "outputs": [],
   "source": [
    "data_under[\"prediction\"] = prediction"
   ]
  },
  {
   "cell_type": "code",
   "execution_count": 27,
   "metadata": {},
   "outputs": [
    {
     "data": {
      "text/html": [
       "<div>\n",
       "<style scoped>\n",
       "    .dataframe tbody tr th:only-of-type {\n",
       "        vertical-align: middle;\n",
       "    }\n",
       "\n",
       "    .dataframe tbody tr th {\n",
       "        vertical-align: top;\n",
       "    }\n",
       "\n",
       "    .dataframe thead th {\n",
       "        text-align: right;\n",
       "    }\n",
       "</style>\n",
       "<table border=\"1\" class=\"dataframe\">\n",
       "  <thead>\n",
       "    <tr style=\"text-align: right;\">\n",
       "      <th></th>\n",
       "      <th>dezinf</th>\n",
       "      <th>title_lemmas</th>\n",
       "      <th>text_lemmas</th>\n",
       "      <th>prediction</th>\n",
       "    </tr>\n",
       "  </thead>\n",
       "  <tbody>\n",
       "    <tr>\n",
       "      <th>\"20342\"</th>\n",
       "      <td>0</td>\n",
       "      <td>[online, piactér, menthet, magyar, vállalkozás]</td>\n",
       "      <td>[pandémia, kkv, k, harmad, növel, eladás, onli...</td>\n",
       "      <td>0</td>\n",
       "    </tr>\n",
       "    <tr>\n",
       "      <th>\"14169\"</th>\n",
       "      <td>0</td>\n",
       "      <td>[polgárőr, segít, járvány, idő]</td>\n",
       "      <td>[polgárőr, segít, koronavírus, járvány, idő, n...</td>\n",
       "      <td>0</td>\n",
       "    </tr>\n",
       "    <tr>\n",
       "      <th>\"275\"</th>\n",
       "      <td>0</td>\n",
       "      <td>[év, ezelőtt, kiderül, brit, tud, megbirkózik,...</td>\n",
       "      <td>[komoly, nyomás, került, brit, kormány, utóbbi...</td>\n",
       "      <td>0</td>\n",
       "    </tr>\n",
       "    <tr>\n",
       "      <th>\"47365\"</th>\n",
       "      <td>0</td>\n",
       "      <td>[védőoltás, mellékhatás, szlovákia, eset, vizs...</td>\n",
       "      <td>[szlovákia, koronavírus, oltás, kapcsolat, ápr...</td>\n",
       "      <td>1</td>\n",
       "    </tr>\n",
       "    <tr>\n",
       "      <th>\"27221\"</th>\n",
       "      <td>0</td>\n",
       "      <td>[olaszország, meghosszabbít, vészhelyzet]</td>\n",
       "      <td>[megszavaz, koronavírus, járvány, elrendelt, v...</td>\n",
       "      <td>0</td>\n",
       "    </tr>\n",
       "  </tbody>\n",
       "</table>\n",
       "</div>"
      ],
      "text/plain": [
       "         dezinf                                       title_lemmas  \\\n",
       "\"20342\"       0    [online, piactér, menthet, magyar, vállalkozás]   \n",
       "\"14169\"       0                    [polgárőr, segít, járvány, idő]   \n",
       "\"275\"         0  [év, ezelőtt, kiderül, brit, tud, megbirkózik,...   \n",
       "\"47365\"       0  [védőoltás, mellékhatás, szlovákia, eset, vizs...   \n",
       "\"27221\"       0          [olaszország, meghosszabbít, vészhelyzet]   \n",
       "\n",
       "                                               text_lemmas  prediction  \n",
       "\"20342\"  [pandémia, kkv, k, harmad, növel, eladás, onli...           0  \n",
       "\"14169\"  [polgárőr, segít, koronavírus, járvány, idő, n...           0  \n",
       "\"275\"    [komoly, nyomás, került, brit, kormány, utóbbi...           0  \n",
       "\"47365\"  [szlovákia, koronavírus, oltás, kapcsolat, ápr...           1  \n",
       "\"27221\"  [megszavaz, koronavírus, járvány, elrendelt, v...           0  "
      ]
     },
     "execution_count": 27,
     "metadata": {},
     "output_type": "execute_result"
    }
   ],
   "source": [
    "data_under.head()"
   ]
  }
 ],
 "metadata": {
  "kernelspec": {
   "display_name": "Python 3",
   "language": "python",
   "name": "python3"
  },
  "language_info": {
   "codemirror_mode": {
    "name": "ipython",
    "version": 3
   },
   "file_extension": ".py",
   "mimetype": "text/x-python",
   "name": "python",
   "nbconvert_exporter": "python",
   "pygments_lexer": "ipython3",
   "version": "3.7.6"
  }
 },
 "nbformat": 4,
 "nbformat_minor": 4
}
