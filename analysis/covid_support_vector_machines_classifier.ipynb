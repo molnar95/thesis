{
 "cells": [
  {
   "cell_type": "markdown",
   "metadata": {},
   "source": [
    "## Support Vector Machines Classifier \n",
    "\n",
    "This notebook contains the SVN classifier on the collected data.\n",
    "\n",
    "Table of Content:\n",
    "* **1. Import required packages**\n",
    "* **2. Import files**\n",
    "* **3. Undersampling the majority class**\n",
    "* **4. Word Frequency**\n",
    "* 4.1 Bag of Words\n",
    "* 4.2 TF-IDF\n",
    "* **5. Support Vector Machines**\n",
    "* 5.1 Define the target and explanatory variable, cross validation\n",
    "* 5.2 Build the model with Sklearn pipeline\n",
    "* 5.3 Evaluation of the model \n",
    "* *5.3.1 Modell Accuracy*\n",
    "* *5.3.2 Confusion Matrix*\n",
    "* *5.3.3 ROC curve*\n",
    "* **6. Iterable modell building**"
   ]
  },
  {
   "cell_type": "markdown",
   "metadata": {},
   "source": [
    "### 1. Import required packages"
   ]
  },
  {
   "cell_type": "code",
   "execution_count": 32,
   "metadata": {},
   "outputs": [],
   "source": [
    "import pandas as pd\n",
    "import numpy as np\n",
    "import matplotlib.pyplot as plt\n",
    "import seaborn as sns\n",
    "\n",
    "from sklearn.pipeline import Pipeline\n",
    "from sklearn.feature_extraction.text import CountVectorizer\n",
    "from sklearn.feature_extraction.text import TfidfTransformer\n",
    "from sklearn.linear_model import SGDClassifier\n",
    "from sklearn.model_selection import train_test_split\n",
    "from sklearn.metrics import confusion_matrix, classification_report, plot_confusion_matrix, roc_curve, roc_auc_score"
   ]
  },
  {
   "cell_type": "markdown",
   "metadata": {},
   "source": [
    "### 2. Import files"
   ]
  },
  {
   "cell_type": "code",
   "execution_count": 2,
   "metadata": {},
   "outputs": [
    {
     "name": "stdout",
     "output_type": "stream",
     "text": [
      "ABT table has 63631 rows and 75 columns\n"
     ]
    }
   ],
   "source": [
    "abt_covid = pd.read_pickle('C:/Users/molna/Desktop/Szakdolgozat/adatok/abt_covid_featured.pkl')\n",
    "\n",
    "print(\"ABT table has {} rows and {} columns\".format(len(abt_covid), len(abt_covid.columns)))"
   ]
  },
  {
   "cell_type": "code",
   "execution_count": 4,
   "metadata": {},
   "outputs": [],
   "source": [
    "# select only the relevant features for the modelling\n",
    "data = abt_covid[[\"dezinf\", \"title_lemmas\", \"text_lemmas\"]]"
   ]
  },
  {
   "cell_type": "markdown",
   "metadata": {},
   "source": [
    "### 3. Undersampling the majority class"
   ]
  },
  {
   "cell_type": "code",
   "execution_count": 5,
   "metadata": {},
   "outputs": [],
   "source": [
    "class_count_0, class_count_1 = data['dezinf'].value_counts()"
   ]
  },
  {
   "cell_type": "code",
   "execution_count": 6,
   "metadata": {},
   "outputs": [
    {
     "name": "stdout",
     "output_type": "stream",
     "text": [
      "class 0: (50356, 3)\n",
      "class 1: (13275, 3)\n"
     ]
    }
   ],
   "source": [
    "class_0 = data[data['dezinf'] == 0]\n",
    "class_1 = data[data['dezinf'] == 1]\n",
    "print('class 0:', class_0.shape)\n",
    "print('class 1:', class_1.shape)"
   ]
  },
  {
   "cell_type": "code",
   "execution_count": 7,
   "metadata": {},
   "outputs": [
    {
     "data": {
      "text/plain": [
       "<matplotlib.axes._subplots.AxesSubplot at 0x22262b04188>"
      ]
     },
     "execution_count": 7,
     "metadata": {},
     "output_type": "execute_result"
    },
    {
     "data": {
      "image/png": "[encoded data removed]",
      "text/plain": [
       "<Figure size 432x288 with 1 Axes>"
      ]
     },
     "metadata": {
      "needs_background": "light"
     },
     "output_type": "display_data"
    }
   ],
   "source": [
    "class_0_under = class_0.sample(class_count_1)\n",
    "\n",
    "data_under = pd.concat([class_0_under, class_1], axis=0)\n",
    "\n",
    "data_under['dezinf'].value_counts().plot(kind='bar', title='count (target)')"
   ]
  },
  {
   "cell_type": "markdown",
   "metadata": {},
   "source": [
    "### 4. Word Frequency"
   ]
  },
  {
   "cell_type": "code",
   "execution_count": 8,
   "metadata": {},
   "outputs": [],
   "source": [
    "def dummy(doc):\n",
    "    return doc"
   ]
  },
  {
   "cell_type": "markdown",
   "metadata": {},
   "source": [
    "#### 4.1 Bag of Words"
   ]
  },
  {
   "cell_type": "code",
   "execution_count": 9,
   "metadata": {},
   "outputs": [],
   "source": [
    "count_vect = CountVectorizer(tokenizer=dummy, preprocessor=dummy,)"
   ]
  },
  {
   "cell_type": "code",
   "execution_count": 10,
   "metadata": {},
   "outputs": [],
   "source": [
    "word_count_matrix = count_vect.fit_transform(data_under[\"text_lemmas\"])"
   ]
  },
  {
   "cell_type": "code",
   "execution_count": 11,
   "metadata": {},
   "outputs": [
    {
     "data": {
      "text/plain": [
       "<26550x192724 sparse matrix of type '<class 'numpy.int64'>'\n",
       "\twith 3876166 stored elements in Compressed Sparse Row format>"
      ]
     },
     "execution_count": 11,
     "metadata": {},
     "output_type": "execute_result"
    }
   ],
   "source": [
    "word_count_matrix"
   ]
  },
  {
   "cell_type": "markdown",
   "metadata": {},
   "source": [
    "#### 4.2 TF-IDF\n",
    "(i.e Term Frequency times inverse document frequency)"
   ]
  },
  {
   "cell_type": "code",
   "execution_count": 12,
   "metadata": {},
   "outputs": [
    {
     "data": {
      "text/plain": [
       "array([10.49367551,  6.8827576 ,  9.10738115, ..., 10.49367551,\n",
       "       10.49367551, 10.49367551])"
      ]
     },
     "execution_count": 12,
     "metadata": {},
     "output_type": "execute_result"
    }
   ],
   "source": [
    "tf_idf = TfidfTransformer()\n",
    "tf_idf.fit(word_count_matrix)\n",
    "tf_idf.idf_"
   ]
  },
  {
   "cell_type": "code",
   "execution_count": 13,
   "metadata": {},
   "outputs": [
    {
     "name": "stderr",
     "output_type": "stream",
     "text": [
      "C:\\Users\\molna\\anaconda3\\lib\\site-packages\\sklearn\\utils\\deprecation.py:87: FutureWarning: Function get_feature_names is deprecated; get_feature_names is deprecated in 1.0 and will be removed in 1.2. Please use get_feature_names_out instead.\n",
      "  warnings.warn(msg, category=FutureWarning)\n"
     ]
    },
    {
     "data": {
      "text/html": [
       "<div>\n",
       "<style scoped>\n",
       "    .dataframe tbody tr th:only-of-type {\n",
       "        vertical-align: middle;\n",
       "    }\n",
       "\n",
       "    .dataframe tbody tr th {\n",
       "        vertical-align: top;\n",
       "    }\n",
       "\n",
       "    .dataframe thead th {\n",
       "        text-align: right;\n",
       "    }\n",
       "</style>\n",
       "<table border=\"1\" class=\"dataframe\">\n",
       "  <thead>\n",
       "    <tr style=\"text-align: right;\">\n",
       "      <th></th>\n",
       "      <th>idf_weight</th>\n",
       "    </tr>\n",
       "  </thead>\n",
       "  <tbody>\n",
       "    <tr>\n",
       "      <th>koronavírus</th>\n",
       "      <td>1.290460</td>\n",
       "    </tr>\n",
       "    <tr>\n",
       "      <th>járvány</th>\n",
       "      <td>1.503047</td>\n",
       "    </tr>\n",
       "    <tr>\n",
       "      <th>ember</th>\n",
       "      <td>1.894718</td>\n",
       "    </tr>\n",
       "    <tr>\n",
       "      <th>tud</th>\n",
       "      <td>1.928264</td>\n",
       "    </tr>\n",
       "    <tr>\n",
       "      <th>ország</th>\n",
       "      <td>2.066298</td>\n",
       "    </tr>\n",
       "    <tr>\n",
       "      <th>...</th>\n",
       "      <td>...</td>\n",
       "    </tr>\n",
       "    <tr>\n",
       "      <th>kj</th>\n",
       "      <td>10.493676</td>\n",
       "    </tr>\n",
       "    <tr>\n",
       "      <th>kiűzés</th>\n",
       "      <td>10.493676</td>\n",
       "    </tr>\n",
       "    <tr>\n",
       "      <th>kişin</th>\n",
       "      <td>10.493676</td>\n",
       "    </tr>\n",
       "    <tr>\n",
       "      <th>kladus</th>\n",
       "      <td>10.493676</td>\n",
       "    </tr>\n",
       "    <tr>\n",
       "      <th>živković</th>\n",
       "      <td>10.493676</td>\n",
       "    </tr>\n",
       "  </tbody>\n",
       "</table>\n",
       "<p>192724 rows × 1 columns</p>\n",
       "</div>"
      ],
      "text/plain": [
       "             idf_weight\n",
       "koronavírus    1.290460\n",
       "járvány        1.503047\n",
       "ember          1.894718\n",
       "tud            1.928264\n",
       "ország         2.066298\n",
       "...                 ...\n",
       "kj            10.493676\n",
       "kiűzés        10.493676\n",
       "kişin         10.493676\n",
       "kladus        10.493676\n",
       "živković      10.493676\n",
       "\n",
       "[192724 rows x 1 columns]"
      ]
     },
     "execution_count": 13,
     "metadata": {},
     "output_type": "execute_result"
    }
   ],
   "source": [
    "idf = pd.DataFrame(tf_idf.idf_, index=count_vect.get_feature_names(), columns=['idf_weight'])\n",
    "idf.sort_values(by='idf_weight')"
   ]
  },
  {
   "cell_type": "markdown",
   "metadata": {},
   "source": [
    "### 5.  Support Vector Machines (SVN)"
   ]
  },
  {
   "cell_type": "markdown",
   "metadata": {},
   "source": [
    "#### 5.1 Define the target and explanatory variable, cross validation"
   ]
  },
  {
   "cell_type": "code",
   "execution_count": 37,
   "metadata": {},
   "outputs": [],
   "source": [
    "X = data_under['text_lemmas']\n",
    "y = data_under['dezinf']"
   ]
  },
  {
   "cell_type": "code",
   "execution_count": 38,
   "metadata": {},
   "outputs": [],
   "source": [
    "# split data into 80% training and 20% test set\n",
    "X_train, X_test, y_train, y_test = train_test_split(X, y, test_size=0.2)"
   ]
  },
  {
   "cell_type": "markdown",
   "metadata": {},
   "source": [
    "#### 5.2 Build the model with Sklearn pipeline"
   ]
  },
  {
   "cell_type": "code",
   "execution_count": 43,
   "metadata": {},
   "outputs": [],
   "source": [
    "svm_pipe = Pipeline([('vector', CountVectorizer(tokenizer=dummy,\n",
    "                                                preprocessor=dummy)),\n",
    "                         ('tfidf', TfidfTransformer()),\n",
    "                         ('clf-svm', SGDClassifier(loss='hinge', \n",
    "                                                   alpha=1e-3))\n",
    "                        ])"
   ]
  },
  {
   "cell_type": "code",
   "execution_count": 44,
   "metadata": {},
   "outputs": [],
   "source": [
    "svm_model = svm_pipe.fit(X_train, y_train)"
   ]
  },
  {
   "cell_type": "markdown",
   "metadata": {},
   "source": [
    "#### 5.3 Evaluation of the model"
   ]
  },
  {
   "cell_type": "markdown",
   "metadata": {},
   "source": [
    "#### 5.3.1 Modell Accuracy"
   ]
  },
  {
   "cell_type": "code",
   "execution_count": 29,
   "metadata": {},
   "outputs": [
    {
     "name": "stdout",
     "output_type": "stream",
     "text": [
      "The Accuracy of the naive bayes model on the article text is: 0.83 % with the balanced dataset\n"
     ]
    }
   ],
   "source": [
    "predicted = svm_model.predict(X_test)\n",
    "\n",
    "score = round(svm_model.score(X_test, y_test), 2)\n",
    "\n",
    "print(\"The Accuracy of the naive bayes model on the article text is: {} % with the balanced dataset\".format(score))"
   ]
  },
  {
   "cell_type": "markdown",
   "metadata": {},
   "source": [
    "#### 5.3.2 Confusion Matrix"
   ]
  },
  {
   "cell_type": "code",
   "execution_count": 36,
   "metadata": {},
   "outputs": [
    {
     "name": "stdout",
     "output_type": "stream",
     "text": [
      "              precision    recall  f1-score   support\n",
      "\n",
      "           0       0.86      0.81      0.83      2689\n",
      "           1       0.81      0.86      0.84      2621\n",
      "\n",
      "    accuracy                           0.83      5310\n",
      "   macro avg       0.84      0.83      0.83      5310\n",
      "weighted avg       0.84      0.83      0.83      5310\n",
      "\n",
      "Failure first row (%):  24.03 %\n",
      "Failure second row (%):  15.92 %\n"
     ]
    },
    {
     "data": {
      "image/png": "[encoded data removed]",
      "text/plain": [
       "<Figure size 432x432 with 1 Axes>"
      ]
     },
     "metadata": {
      "needs_background": "light"
     },
     "output_type": "display_data"
    }
   ],
   "source": [
    "cm = confusion_matrix(y_test, predicted)\n",
    "plt.figure(figsize = (6,6))\n",
    "sns.heatmap(cm, annot=True, cbar=False, fmt=\"g\")\n",
    "plt.title('Confusion matrix of the Support Vector Machine Classifier')\n",
    "plt.xlabel(\"predicted\")\n",
    "plt.ylabel(\"true\")\n",
    "\n",
    "print(classification_report(y_test, predicted))\n",
    "\n",
    "print(\"Failure first row (%): \", round(confusion_matrix(y_test, predicted)[0,1]/confusion_matrix(y_test, predicted)[0,0]*100,2),\"%\")\n",
    "print(\"Failure second row (%): \", round(confusion_matrix(y_test, predicted)[1,0]/confusion_matrix(y_test, predicted)[1,1]*100,2),\"%\")\n",
    "\n",
    "plt.show()"
   ]
  },
  {
   "cell_type": "markdown",
   "metadata": {},
   "source": [
    "#### 5.3.3 ROC curve"
   ]
  },
  {
   "cell_type": "code",
   "execution_count": 24,
   "metadata": {},
   "outputs": [
    {
     "data": {
      "image/png": "[encoded data removed]",
      "text/plain": [
       "<Figure size 432x288 with 1 Axes>"
      ]
     },
     "metadata": {
      "needs_background": "light"
     },
     "output_type": "display_data"
    },
    {
     "name": "stdout",
     "output_type": "stream",
     "text": [
      "The AUC score of the Naive Bayes Classifier: 0.84\n"
     ]
    }
   ],
   "source": [
    "fpr, tpr, thresholds = roc_curve(y_test, predicted)\n",
    "\n",
    "# plot the diagonal line\n",
    "plt.plot([0,1],[0,1],'k--') \n",
    "# plot the ROC curve\n",
    "plt.plot(fpr, tpr, label='NB') \n",
    "plt.xlabel('false positive rate')\n",
    "plt.ylabel('true positive rate')\n",
    "plt.title('ROC Curve of the Naive Bayes Classifier')\n",
    "plt.show()\n",
    "\n",
    "print(\"The AUC score of the Naive Bayes Classifier: {}\".format(round(roc_auc_score(y_test, predicted), 2)))"
   ]
  },
  {
   "cell_type": "code",
   "execution_count": 21,
   "metadata": {},
   "outputs": [],
   "source": [
    "prediction = svm_model.predict(data_under['text_lemmas'])"
   ]
  },
  {
   "cell_type": "code",
   "execution_count": 22,
   "metadata": {},
   "outputs": [],
   "source": [
    "data_under[\"prediction\"] = prediction"
   ]
  },
  {
   "cell_type": "code",
   "execution_count": 23,
   "metadata": {
    "scrolled": true
   },
   "outputs": [
    {
     "data": {
      "text/html": [
       "<div>\n",
       "<style scoped>\n",
       "    .dataframe tbody tr th:only-of-type {\n",
       "        vertical-align: middle;\n",
       "    }\n",
       "\n",
       "    .dataframe tbody tr th {\n",
       "        vertical-align: top;\n",
       "    }\n",
       "\n",
       "    .dataframe thead th {\n",
       "        text-align: right;\n",
       "    }\n",
       "</style>\n",
       "<table border=\"1\" class=\"dataframe\">\n",
       "  <thead>\n",
       "    <tr style=\"text-align: right;\">\n",
       "      <th></th>\n",
       "      <th>dezinf</th>\n",
       "      <th>title_lemmas</th>\n",
       "      <th>text_lemmas</th>\n",
       "      <th>prediction</th>\n",
       "    </tr>\n",
       "  </thead>\n",
       "  <tbody>\n",
       "    <tr>\n",
       "      <th>\"44530\"</th>\n",
       "      <td>0</td>\n",
       "      <td>[odafigyel, rendszeres, vízfogyasztás, tél]</td>\n",
       "      <td>[víz, kulcsfontosságú, szerep, lát, szervezet,...</td>\n",
       "      <td>1</td>\n",
       "    </tr>\n",
       "    <tr>\n",
       "      <th>\"19096\"</th>\n",
       "      <td>0</td>\n",
       "      <td>[örmény, kormányfő, foglalkozik, álhírterjesztő]</td>\n",
       "      <td>[örmény, kormány, helyi, televízió, közvetítet...</td>\n",
       "      <td>0</td>\n",
       "    </tr>\n",
       "    <tr>\n",
       "      <th>\"44049\"</th>\n",
       "      <td>0</td>\n",
       "      <td>[meghalad, millió, európa, koronavírus, fertőz...</td>\n",
       "      <td>[megduplázódik, európa, koronavírus, fertőzött...</td>\n",
       "      <td>0</td>\n",
       "    </tr>\n",
       "    <tr>\n",
       "      <th>\"40577\"</th>\n",
       "      <td>0</td>\n",
       "      <td>[számos, európai, ország, an, astrazeneca]</td>\n",
       "      <td>[spanyolország, jövő, szerda, alkalmaz, astraz...</td>\n",
       "      <td>0</td>\n",
       "    </tr>\n",
       "    <tr>\n",
       "      <th>\"18611\"</th>\n",
       "      <td>0</td>\n",
       "      <td>[szijjártó, péter, megnyílik, magyar, horvát, ...</td>\n",
       "      <td>[megnyílhat, magyar, horvát, határ, karantén, ...</td>\n",
       "      <td>0</td>\n",
       "    </tr>\n",
       "  </tbody>\n",
       "</table>\n",
       "</div>"
      ],
      "text/plain": [
       "         dezinf                                       title_lemmas  \\\n",
       "\"44530\"       0        [odafigyel, rendszeres, vízfogyasztás, tél]   \n",
       "\"19096\"       0   [örmény, kormányfő, foglalkozik, álhírterjesztő]   \n",
       "\"44049\"       0  [meghalad, millió, európa, koronavírus, fertőz...   \n",
       "\"40577\"       0         [számos, európai, ország, an, astrazeneca]   \n",
       "\"18611\"       0  [szijjártó, péter, megnyílik, magyar, horvát, ...   \n",
       "\n",
       "                                               text_lemmas  prediction  \n",
       "\"44530\"  [víz, kulcsfontosságú, szerep, lát, szervezet,...           1  \n",
       "\"19096\"  [örmény, kormány, helyi, televízió, közvetítet...           0  \n",
       "\"44049\"  [megduplázódik, európa, koronavírus, fertőzött...           0  \n",
       "\"40577\"  [spanyolország, jövő, szerda, alkalmaz, astraz...           0  \n",
       "\"18611\"  [megnyílhat, magyar, horvát, határ, karantén, ...           0  "
      ]
     },
     "execution_count": 23,
     "metadata": {},
     "output_type": "execute_result"
    }
   ],
   "source": [
    "data_under.head()"
   ]
  },
  {
   "cell_type": "markdown",
   "metadata": {},
   "source": [
    "### 6. Iterable modell building"
   ]
  },
  {
   "cell_type": "code",
   "execution_count": 46,
   "metadata": {},
   "outputs": [],
   "source": [
    "iter = 20\n",
    "\n",
    "# Define a result table as a DataFrame\n",
    "result_table = pd.DataFrame(columns=['model_runs', 'fpr', 'tpr', 'acc', 'auc'])\n",
    "\n",
    "for i in range(0, iter): \n",
    "    \n",
    "    X_train, X_test, y_train, y_test = train_test_split(X, y, test_size=0.2) # , random_state=42\n",
    "    \n",
    "    svm_pipe = Pipeline([('vector', CountVectorizer(tokenizer=dummy,\n",
    "                                                preprocessor=dummy)),\n",
    "                         ('tfidf', TfidfTransformer()),\n",
    "                         ('clf-svm', SGDClassifier(loss='hinge', \n",
    "                                                   alpha=1e-3))\n",
    "                        ])\n",
    "    \n",
    "    svm_model = svm_pipe.fit(X_train, y_train)    \n",
    "    \n",
    "    predicted = svm_model.predict(X_test)\n",
    "    \n",
    "    #yproba = svm_model.predict_proba(X_test)[::,1]\n",
    "    \n",
    "    fpr, tpr, _ = roc_curve(y_test,  predicted)\n",
    "\n",
    "    acc = round(svm_pipe.score(X_test, y_test), 6)\n",
    "    \n",
    "    auc = round(roc_auc_score(y_test, predicted), 6)\n",
    "    \n",
    "    result_table = result_table.append({'model_runs': i,\n",
    "                                        'fpr': fpr, \n",
    "                                        'tpr': tpr, \n",
    "                                        'acc': acc,\n",
    "                                        'auc':auc},\n",
    "                                       ignore_index=True)\n",
    "\n",
    "\n",
    "# Set name of the classifiers as index labels\n",
    "result_table.set_index('model_runs', inplace=True)"
   ]
  },
  {
   "cell_type": "code",
   "execution_count": 52,
   "metadata": {},
   "outputs": [
    {
     "data": {
      "image/png": "[encoded data removed]",
      "text/plain": [
       "<Figure size 576x432 with 1 Axes>"
      ]
     },
     "metadata": {
      "needs_background": "light"
     },
     "output_type": "display_data"
    }
   ],
   "source": [
    "fig = plt.figure(figsize=(8,6))\n",
    "\n",
    "for i in result_table.index:\n",
    "    plt.plot(result_table.loc[i]['fpr'], \n",
    "             result_table.loc[i]['tpr'], \n",
    "             label=\"{}, AUC={:.3f}\".format(i, result_table.loc[i]['auc']))\n",
    "    \n",
    "plt.plot([0,1], [0,1], color='orange', linestyle='--')\n",
    "\n",
    "plt.xticks(np.arange(0.0, 1.1, step=0.1))\n",
    "plt.xlabel(\"Flase Positive Rate\", fontsize=15)\n",
    "\n",
    "plt.yticks(np.arange(0.0, 1.1, step=0.1))\n",
    "plt.ylabel(\"True Positive Rate\", fontsize=15)\n",
    "\n",
    "plt.title('ROC Curve Analysis', fontweight='bold', fontsize=15)\n",
    "plt.legend(prop={'size':13}, loc='lower right')\n",
    "\n",
    "plt.show()"
   ]
  },
  {
   "cell_type": "code",
   "execution_count": 53,
   "metadata": {},
   "outputs": [
    {
     "name": "stdout",
     "output_type": "stream",
     "text": [
      "0.8330257\n"
     ]
    }
   ],
   "source": [
    "# mean AUC score of 100 runs\n",
    "print(result_table['auc'].mean())"
   ]
  }
 ],
 "metadata": {
  "kernelspec": {
   "display_name": "Python 3",
   "language": "python",
   "name": "python3"
  },
  "language_info": {
   "codemirror_mode": {
    "name": "ipython",
    "version": 3
   },
   "file_extension": ".py",
   "mimetype": "text/x-python",
   "name": "python",
   "nbconvert_exporter": "python",
   "pygments_lexer": "ipython3",
   "version": "3.7.6"
  }
 },
 "nbformat": 4,
 "nbformat_minor": 4
}
