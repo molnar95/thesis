{
 "cells": [
  {
   "cell_type": "markdown",
   "metadata": {},
   "source": [
    "## Naive Bayes Classifier \n",
    "\n",
    "This notebook contains the naive bayes classifier on the collected data.\n",
    "\n",
    "Table of Content:\n",
    "* **1. Import required packages**\n",
    "* **2. Import files**\n",
    "* **3. Check the imbalance in the target feature**\n",
    "* 3.1 Undersampling the majority class\n",
    "* **4. Word Frequency**\n",
    "* 4.1 Bag of Words\n",
    "* 4.2 TF-IDF\n",
    "* **5. Naive Bayes Classifier**\n",
    "* 5.1 Define the target and explanatory variable, cross validation\n",
    "* 5.2 Build the model with Sklearn pipeline\n",
    "* 5.3 Evaluation of the model \n",
    "* *5.3.1 Modell Accuracy*\n",
    "* *5.3.2 Confusion Matrix*\n",
    "* *5.3.3 ROC curve*\n",
    "* **6. Iterable modell building**\n",
    "* 6.1 Visualization of the results"
   ]
  },
  {
   "cell_type": "markdown",
   "metadata": {},
   "source": [
    "### 1. Import required packages"
   ]
  },
  {
   "cell_type": "code",
   "execution_count": 1,
   "metadata": {},
   "outputs": [],
   "source": [
    "import pandas as pd\n",
    "import numpy as np\n",
    "import matplotlib.pyplot as plt\n",
    "import seaborn as sns\n",
    "\n",
    "from sklearn.pipeline import Pipeline\n",
    "from sklearn.feature_extraction.text import CountVectorizer\n",
    "from sklearn.feature_extraction.text import TfidfTransformer\n",
    "from sklearn.naive_bayes import MultinomialNB\n",
    "from sklearn.model_selection import train_test_split\n",
    "from sklearn.metrics import confusion_matrix\n",
    "from sklearn.metrics import plot_confusion_matrix\n",
    "from sklearn.metrics import roc_curve\n",
    "from sklearn.metrics import roc_auc_score"
   ]
  },
  {
   "cell_type": "markdown",
   "metadata": {},
   "source": [
    "### 2. Import files"
   ]
  },
  {
   "cell_type": "code",
   "execution_count": 2,
   "metadata": {
    "scrolled": true
   },
   "outputs": [
    {
     "name": "stdout",
     "output_type": "stream",
     "text": [
      "ABT table has 63633 rows and 50 columns\n"
     ]
    }
   ],
   "source": [
    "abt_covid = pd.read_pickle('C:/Users/molna/Desktop/Szakdolgozat/adatok/abt_covid_featured.pkl')\n",
    "\n",
    "print(\"ABT table has {} rows and {} columns\".format(len(abt_covid), len(abt_covid.columns)))"
   ]
  },
  {
   "cell_type": "code",
   "execution_count": 3,
   "metadata": {},
   "outputs": [],
   "source": [
    "# select only the relevant features for the modelling\n",
    "data = abt_covid[[\"dezinf\", \"title_lemmas\", \"text_lemmas\"]]"
   ]
  },
  {
   "cell_type": "markdown",
   "metadata": {},
   "source": [
    "### 3. Check the imbalance in the target feature"
   ]
  },
  {
   "cell_type": "code",
   "execution_count": 4,
   "metadata": {
    "scrolled": true
   },
   "outputs": [
    {
     "data": {
      "text/plain": [
       "<matplotlib.axes._subplots.AxesSubplot at 0x2a91b21f708>"
      ]
     },
     "execution_count": 4,
     "metadata": {},
     "output_type": "execute_result"
    },
    {
     "data": {
      "image/png": "[encoded data removed]",
      "text/plain": [
       "<Figure size 432x288 with 1 Axes>"
      ]
     },
     "metadata": {
      "needs_background": "light"
     },
     "output_type": "display_data"
    }
   ],
   "source": [
    "data['dezinf'].value_counts().plot(kind='bar', title='count (target)')"
   ]
  },
  {
   "cell_type": "markdown",
   "metadata": {},
   "source": [
    "### 3.1 Undersampling the majority class"
   ]
  },
  {
   "cell_type": "code",
   "execution_count": 5,
   "metadata": {},
   "outputs": [],
   "source": [
    "class_count_0, class_count_1 = data['dezinf'].value_counts()"
   ]
  },
  {
   "cell_type": "code",
   "execution_count": 6,
   "metadata": {},
   "outputs": [
    {
     "name": "stdout",
     "output_type": "stream",
     "text": [
      "class 0: (50358, 3)\n",
      "class 1: (13275, 3)\n"
     ]
    }
   ],
   "source": [
    "class_0 = data[data['dezinf'] == 0]\n",
    "class_1 = data[data['dezinf'] == 1]\n",
    "print('class 0:', class_0.shape)\n",
    "print('class 1:', class_1.shape)"
   ]
  },
  {
   "cell_type": "code",
   "execution_count": 7,
   "metadata": {},
   "outputs": [
    {
     "data": {
      "text/plain": [
       "<matplotlib.axes._subplots.AxesSubplot at 0x2a91c57c488>"
      ]
     },
     "execution_count": 7,
     "metadata": {},
     "output_type": "execute_result"
    },
    {
     "data": {
      "image/png": "[encoded data removed]",
      "text/plain": [
       "<Figure size 432x288 with 1 Axes>"
      ]
     },
     "metadata": {
      "needs_background": "light"
     },
     "output_type": "display_data"
    }
   ],
   "source": [
    "class_0_under = class_0.sample(class_count_1)\n",
    "\n",
    "data_under = pd.concat([class_0_under, class_1], axis=0)\n",
    "\n",
    "data_under['dezinf'].value_counts().plot(kind='bar', title='count (target)')"
   ]
  },
  {
   "cell_type": "code",
   "execution_count": 8,
   "metadata": {},
   "outputs": [],
   "source": [
    "data = data_under"
   ]
  },
  {
   "cell_type": "markdown",
   "metadata": {},
   "source": [
    "### 4. Word Frequency"
   ]
  },
  {
   "cell_type": "code",
   "execution_count": 9,
   "metadata": {},
   "outputs": [],
   "source": [
    "def dummy(doc):\n",
    "    return doc"
   ]
  },
  {
   "cell_type": "markdown",
   "metadata": {},
   "source": [
    "#### 4.1 Bag of Words"
   ]
  },
  {
   "cell_type": "code",
   "execution_count": 10,
   "metadata": {},
   "outputs": [],
   "source": [
    "count_vect = CountVectorizer(tokenizer=dummy, preprocessor=dummy,)"
   ]
  },
  {
   "cell_type": "code",
   "execution_count": 11,
   "metadata": {},
   "outputs": [],
   "source": [
    "word_count_matrix = count_vect.fit_transform(data_under[\"text_lemmas\"])"
   ]
  },
  {
   "cell_type": "code",
   "execution_count": 12,
   "metadata": {},
   "outputs": [
    {
     "data": {
      "text/plain": [
       "<26550x192321 sparse matrix of type '<class 'numpy.int64'>'\n",
       "\twith 3926512 stored elements in Compressed Sparse Row format>"
      ]
     },
     "execution_count": 12,
     "metadata": {},
     "output_type": "execute_result"
    }
   ],
   "source": [
    "word_count_matrix"
   ]
  },
  {
   "cell_type": "markdown",
   "metadata": {},
   "source": [
    "#### 4.2 TF-IDF\n",
    "(i.e Term Frequency times inverse document frequency)"
   ]
  },
  {
   "cell_type": "code",
   "execution_count": 13,
   "metadata": {},
   "outputs": [
    {
     "data": {
      "text/plain": [
       "array([ 9.39506322,  6.81737484,  8.8842376 , ..., 10.49367551,\n",
       "       10.49367551, 10.49367551])"
      ]
     },
     "execution_count": 13,
     "metadata": {},
     "output_type": "execute_result"
    }
   ],
   "source": [
    "tf_idf = TfidfTransformer()\n",
    "tf_idf.fit(word_count_matrix)\n",
    "tf_idf.idf_"
   ]
  },
  {
   "cell_type": "code",
   "execution_count": 14,
   "metadata": {},
   "outputs": [
    {
     "name": "stderr",
     "output_type": "stream",
     "text": [
      "C:\\Users\\molna\\anaconda3\\lib\\site-packages\\sklearn\\utils\\deprecation.py:87: FutureWarning: Function get_feature_names is deprecated; get_feature_names is deprecated in 1.0 and will be removed in 1.2. Please use get_feature_names_out instead.\n",
      "  warnings.warn(msg, category=FutureWarning)\n"
     ]
    },
    {
     "data": {
      "text/html": [
       "<div>\n",
       "<style scoped>\n",
       "    .dataframe tbody tr th:only-of-type {\n",
       "        vertical-align: middle;\n",
       "    }\n",
       "\n",
       "    .dataframe tbody tr th {\n",
       "        vertical-align: top;\n",
       "    }\n",
       "\n",
       "    .dataframe thead th {\n",
       "        text-align: right;\n",
       "    }\n",
       "</style>\n",
       "<table border=\"1\" class=\"dataframe\">\n",
       "  <thead>\n",
       "    <tr style=\"text-align: right;\">\n",
       "      <th></th>\n",
       "      <th>idf_weight</th>\n",
       "    </tr>\n",
       "  </thead>\n",
       "  <tbody>\n",
       "    <tr>\n",
       "      <th>koronavírus</th>\n",
       "      <td>1.290712</td>\n",
       "    </tr>\n",
       "    <tr>\n",
       "      <th>járvány</th>\n",
       "      <td>1.507667</td>\n",
       "    </tr>\n",
       "    <tr>\n",
       "      <th>ember</th>\n",
       "      <td>1.889846</td>\n",
       "    </tr>\n",
       "    <tr>\n",
       "      <th>tud</th>\n",
       "      <td>1.925314</td>\n",
       "    </tr>\n",
       "    <tr>\n",
       "      <th>ország</th>\n",
       "      <td>2.065641</td>\n",
       "    </tr>\n",
       "    <tr>\n",
       "      <th>...</th>\n",
       "      <td>...</td>\n",
       "    </tr>\n",
       "    <tr>\n",
       "      <th>kivéreztetné</th>\n",
       "      <td>10.493676</td>\n",
       "    </tr>\n",
       "    <tr>\n",
       "      <th>kivéreztetheti</th>\n",
       "      <td>10.493676</td>\n",
       "    </tr>\n",
       "    <tr>\n",
       "      <th>kivéreztethet</th>\n",
       "      <td>10.493676</td>\n",
       "    </tr>\n",
       "    <tr>\n",
       "      <th>kiválasztható</th>\n",
       "      <td>10.493676</td>\n",
       "    </tr>\n",
       "    <tr>\n",
       "      <th>žádost</th>\n",
       "      <td>10.493676</td>\n",
       "    </tr>\n",
       "  </tbody>\n",
       "</table>\n",
       "<p>192321 rows × 1 columns</p>\n",
       "</div>"
      ],
      "text/plain": [
       "                idf_weight\n",
       "koronavírus       1.290712\n",
       "járvány           1.507667\n",
       "ember             1.889846\n",
       "tud               1.925314\n",
       "ország            2.065641\n",
       "...                    ...\n",
       "kivéreztetné     10.493676\n",
       "kivéreztetheti   10.493676\n",
       "kivéreztethet    10.493676\n",
       "kiválasztható    10.493676\n",
       "žádost           10.493676\n",
       "\n",
       "[192321 rows x 1 columns]"
      ]
     },
     "execution_count": 14,
     "metadata": {},
     "output_type": "execute_result"
    }
   ],
   "source": [
    "idf = pd.DataFrame(tf_idf.idf_, index=count_vect.get_feature_names(), columns=['idf_weight'])\n",
    "idf.sort_values(by='idf_weight')"
   ]
  },
  {
   "cell_type": "markdown",
   "metadata": {},
   "source": [
    "### 5. Naive Bayes Classifier"
   ]
  },
  {
   "cell_type": "markdown",
   "metadata": {},
   "source": [
    "#### 5.1 Define the target and explanatory variable, cross validation"
   ]
  },
  {
   "cell_type": "code",
   "execution_count": 15,
   "metadata": {},
   "outputs": [],
   "source": [
    "X = data_under['text_lemmas']\n",
    "y = data_under['dezinf']"
   ]
  },
  {
   "cell_type": "code",
   "execution_count": 16,
   "metadata": {},
   "outputs": [],
   "source": [
    "# split data into 80% training and 20% test set\n",
    "X_train, X_test, y_train, y_test = train_test_split(X, y, test_size=0.2) # , random_state=42"
   ]
  },
  {
   "cell_type": "markdown",
   "metadata": {},
   "source": [
    "#### 5.2 Build the model with Sklearn pipeline"
   ]
  },
  {
   "cell_type": "code",
   "execution_count": 17,
   "metadata": {},
   "outputs": [],
   "source": [
    "pipe = Pipeline([\n",
    "    ('vector', CountVectorizer(tokenizer=dummy, preprocessor=dummy)), \n",
    "    ('tfidf', TfidfTransformer()), \n",
    "    ('mulNB', MultinomialNB(alpha=0.4))\n",
    "])"
   ]
  },
  {
   "cell_type": "code",
   "execution_count": 18,
   "metadata": {},
   "outputs": [],
   "source": [
    "bayes_model = pipe.fit(X_train, y_train)"
   ]
  },
  {
   "cell_type": "markdown",
   "metadata": {},
   "source": [
    "#### 5.3 Evaluation of the model"
   ]
  },
  {
   "cell_type": "markdown",
   "metadata": {},
   "source": [
    "#### 5.3.1 Modell Accuracy"
   ]
  },
  {
   "cell_type": "code",
   "execution_count": 19,
   "metadata": {
    "scrolled": true
   },
   "outputs": [
    {
     "name": "stdout",
     "output_type": "stream",
     "text": [
      "The Accuracy of the naive bayes model on the article text is: 0.83 % with the balanced dataset\n"
     ]
    }
   ],
   "source": [
    "predicted = bayes_model.predict(X_test)\n",
    "\n",
    "score = round(pipe.score(X_test, y_test), 2)\n",
    "\n",
    "print(\"The Accuracy of the naive bayes model on the article text is: {} % with the balanced dataset\".format(score))"
   ]
  },
  {
   "cell_type": "markdown",
   "metadata": {},
   "source": [
    "**The Accuracy of the naive bayes modell on the article text is 0.82% with the unbalances dataset.** "
   ]
  },
  {
   "cell_type": "markdown",
   "metadata": {},
   "source": [
    "#### 5.3.2 Confusion Matrix"
   ]
  },
  {
   "cell_type": "code",
   "execution_count": 20,
   "metadata": {},
   "outputs": [
    {
     "data": {
      "image/png": "[encoded data removed]",
      "text/plain": [
       "<Figure size 432x432 with 1 Axes>"
      ]
     },
     "metadata": {
      "needs_background": "light"
     },
     "output_type": "display_data"
    },
    {
     "name": "stdout",
     "output_type": "stream",
     "text": [
      "Failure first row (%):  22.44 %\n",
      "Failure second row (%):  17.89 %\n"
     ]
    }
   ],
   "source": [
    "cm = confusion_matrix(y_test, predicted)\n",
    "plt.figure(figsize = (6,6))\n",
    "sns.heatmap(cm, annot=True, cbar=False, fmt=\"g\")\n",
    "plt.title('Confusion matrix of the Naive Bayes Classifier')\n",
    "plt.xlabel(\"predicted\")\n",
    "plt.ylabel(\"true\")\n",
    "\n",
    "plt.show()\n",
    "\n",
    "print(\"Failure first row (%): \", round(confusion_matrix(y_test, predicted)[0,1]/confusion_matrix(y_test, predicted)[0,0]*100,2),\"%\")\n",
    "print(\"Failure second row (%): \", round(confusion_matrix(y_test, predicted)[1,0]/confusion_matrix(y_test, predicted)[1,1]*100,2),\"%\")"
   ]
  },
  {
   "cell_type": "markdown",
   "metadata": {},
   "source": [
    "The model classifies the 77,69% of the mainstream articles in the good place.\n",
    "And 84,2 % of the dezinformational articles in the good place."
   ]
  },
  {
   "cell_type": "markdown",
   "metadata": {},
   "source": [
    "#### 5.3.3 ROC curve"
   ]
  },
  {
   "cell_type": "code",
   "execution_count": 21,
   "metadata": {},
   "outputs": [
    {
     "data": {
      "image/png": "[encoded data removed]",
      "text/plain": [
       "<Figure size 432x288 with 1 Axes>"
      ]
     },
     "metadata": {
      "needs_background": "light"
     },
     "output_type": "display_data"
    },
    {
     "name": "stdout",
     "output_type": "stream",
     "text": [
      "The AUC score of the Naive Bayes Classifier: 0.83\n"
     ]
    }
   ],
   "source": [
    "fpr, tpr, thresholds = roc_curve(y_test, predicted)\n",
    "\n",
    "# plot the diagonal line\n",
    "plt.plot([0,1],[0,1],'k--') \n",
    "# plot the ROC curve\n",
    "plt.plot(fpr, tpr, label='NB') \n",
    "plt.xlabel('false positive rate')\n",
    "plt.ylabel('true positive rate')\n",
    "plt.title('ROC Curve of the Naive Bayes Classifier')\n",
    "plt.show()\n",
    "\n",
    "print(\"The AUC score of the Naive Bayes Classifier: {}\".format(round(roc_auc_score(y_test, predicted), 2)))"
   ]
  },
  {
   "cell_type": "code",
   "execution_count": 22,
   "metadata": {},
   "outputs": [],
   "source": [
    "prediction = pipe.predict(data_under['text_lemmas'])"
   ]
  },
  {
   "cell_type": "code",
   "execution_count": 23,
   "metadata": {},
   "outputs": [],
   "source": [
    "data_under[\"prediction\"] = prediction"
   ]
  },
  {
   "cell_type": "code",
   "execution_count": 24,
   "metadata": {},
   "outputs": [
    {
     "data": {
      "text/html": [
       "<div>\n",
       "<style scoped>\n",
       "    .dataframe tbody tr th:only-of-type {\n",
       "        vertical-align: middle;\n",
       "    }\n",
       "\n",
       "    .dataframe tbody tr th {\n",
       "        vertical-align: top;\n",
       "    }\n",
       "\n",
       "    .dataframe thead th {\n",
       "        text-align: right;\n",
       "    }\n",
       "</style>\n",
       "<table border=\"1\" class=\"dataframe\">\n",
       "  <thead>\n",
       "    <tr style=\"text-align: right;\">\n",
       "      <th></th>\n",
       "      <th>dezinf</th>\n",
       "      <th>title_lemmas</th>\n",
       "      <th>text_lemmas</th>\n",
       "      <th>prediction</th>\n",
       "    </tr>\n",
       "  </thead>\n",
       "  <tbody>\n",
       "    <tr>\n",
       "      <th>\"2728\"</th>\n",
       "      <td>0</td>\n",
       "      <td>[korcsolya, világbajnokság, töröl, koronavírus]</td>\n",
       "      <td>[szakág, elhalasztott, világbajnokság, végleg,...</td>\n",
       "      <td>0</td>\n",
       "    </tr>\n",
       "    <tr>\n",
       "      <th>\"81105\"</th>\n",
       "      <td>0</td>\n",
       "      <td>[kiüt, spanyol, szlovák, svéd, csoportelső]</td>\n",
       "      <td>[labdarúgó, európa, bajnokság, csoport, spanyo...</td>\n",
       "      <td>0</td>\n",
       "    </tr>\n",
       "    <tr>\n",
       "      <th>\"49096\"</th>\n",
       "      <td>0</td>\n",
       "      <td>[visszajár, szállás, fizetett, előleg, korláto...</td>\n",
       "      <td>[visszajár, előleg, érvényesíthető, kötbér, fo...</td>\n",
       "      <td>0</td>\n",
       "    </tr>\n",
       "    <tr>\n",
       "      <th>\"6034\"</th>\n",
       "      <td>0</td>\n",
       "      <td>[lakcímkártya, dönt, mehet, nyaraló]</td>\n",
       "      <td>[csütörtök, este, jelent, orbán, viktor, vidék...</td>\n",
       "      <td>1</td>\n",
       "    </tr>\n",
       "    <tr>\n",
       "      <th>\"16456\"</th>\n",
       "      <td>0</td>\n",
       "      <td>[újranyit, szálloda, fürdő, ausztria]</td>\n",
       "      <td>[szigorú, óvintézkedés, nyithat, szálloda, fit...</td>\n",
       "      <td>0</td>\n",
       "    </tr>\n",
       "  </tbody>\n",
       "</table>\n",
       "</div>"
      ],
      "text/plain": [
       "         dezinf                                       title_lemmas  \\\n",
       "\"2728\"        0    [korcsolya, világbajnokság, töröl, koronavírus]   \n",
       "\"81105\"       0        [kiüt, spanyol, szlovák, svéd, csoportelső]   \n",
       "\"49096\"       0  [visszajár, szállás, fizetett, előleg, korláto...   \n",
       "\"6034\"        0               [lakcímkártya, dönt, mehet, nyaraló]   \n",
       "\"16456\"       0              [újranyit, szálloda, fürdő, ausztria]   \n",
       "\n",
       "                                               text_lemmas  prediction  \n",
       "\"2728\"   [szakág, elhalasztott, világbajnokság, végleg,...           0  \n",
       "\"81105\"  [labdarúgó, európa, bajnokság, csoport, spanyo...           0  \n",
       "\"49096\"  [visszajár, előleg, érvényesíthető, kötbér, fo...           0  \n",
       "\"6034\"   [csütörtök, este, jelent, orbán, viktor, vidék...           1  \n",
       "\"16456\"  [szigorú, óvintézkedés, nyithat, szálloda, fit...           0  "
      ]
     },
     "execution_count": 24,
     "metadata": {},
     "output_type": "execute_result"
    }
   ],
   "source": [
    "data_under.head()"
   ]
  },
  {
   "cell_type": "markdown",
   "metadata": {},
   "source": [
    "### 6. Iterable modell building"
   ]
  },
  {
   "cell_type": "code",
   "execution_count": 34,
   "metadata": {},
   "outputs": [],
   "source": [
    "iter = 50\n",
    "\n",
    "# Define a result table as a DataFrame\n",
    "result_table = pd.DataFrame(columns=['model_runs', 'fpr', 'tpr', 'acc', 'auc'])\n",
    "\n",
    "for i in range(0, iter): \n",
    "    \n",
    "    X_train, X_test, y_train, y_test = train_test_split(X, y, test_size=0.2) # , random_state=42\n",
    "    \n",
    "    pipe = Pipeline([\n",
    "        ('vector', CountVectorizer(tokenizer=dummy, preprocessor=dummy)), \n",
    "        ('tfidf', TfidfTransformer()), \n",
    "        ('mulNB', MultinomialNB(alpha=0.4))\n",
    "        ])\n",
    "    \n",
    "    bayes_model = pipe.fit(X_train, y_train)\n",
    "        \n",
    "    predicted = bayes_model.predict(X_test)\n",
    "    \n",
    "    yproba = bayes_model.predict_proba(X_test)[::,1]\n",
    "    \n",
    "    fpr, tpr, _ = roc_curve(y_test,  yproba)\n",
    "\n",
    "    acc = round(pipe.score(X_test, y_test), 6)\n",
    "    \n",
    "    auc = round(roc_auc_score(y_test, predicted), 6)\n",
    "    \n",
    "    result_table = result_table.append({'model_runs': i,\n",
    "                                        'fpr': fpr, \n",
    "                                        'tpr': tpr, \n",
    "                                        'acc': acc,\n",
    "                                        'auc':auc},\n",
    "                                       ignore_index=True)\n",
    "\n",
    "\n",
    "# Set name of the classifiers as index labels\n",
    "result_table.set_index('model_runs', inplace=True)"
   ]
  },
  {
   "cell_type": "code",
   "execution_count": 41,
   "metadata": {},
   "outputs": [
    {
     "data": {
      "image/png": "[encoded data removed]",
      "text/plain": [
       "<Figure size 576x432 with 1 Axes>"
      ]
     },
     "metadata": {
      "needs_background": "light"
     },
     "output_type": "display_data"
    }
   ],
   "source": [
    "fig = plt.figure(figsize=(8,6))\n",
    "\n",
    "for i in result_table[20:30].index:\n",
    "    plt.plot(result_table.loc[i]['fpr'], \n",
    "             result_table.loc[i]['tpr'], \n",
    "             label=\"{}, AUC={:.3f}\".format(i, result_table.loc[i]['auc']))\n",
    "    \n",
    "plt.plot([0,1], [0,1], color='orange', linestyle='--')\n",
    "\n",
    "plt.xticks(np.arange(0.0, 1.1, step=0.1))\n",
    "plt.xlabel(\"Flase Positive Rate\", fontsize=15)\n",
    "\n",
    "plt.yticks(np.arange(0.0, 1.1, step=0.1))\n",
    "plt.ylabel(\"True Positive Rate\", fontsize=15)\n",
    "\n",
    "plt.title('ROC Curve Analysis', fontweight='bold', fontsize=15)\n",
    "plt.legend(prop={'size':13}, loc='lower right')\n",
    "\n",
    "plt.show()"
   ]
  },
  {
   "cell_type": "code",
   "execution_count": 42,
   "metadata": {},
   "outputs": [
    {
     "name": "stdout",
     "output_type": "stream",
     "text": [
      "0.83651662\n"
     ]
    }
   ],
   "source": [
    "# mean AUC score of 100 runs\n",
    "print(result_table['auc'].mean())"
   ]
  },
  {
   "cell_type": "markdown",
   "metadata": {},
   "source": [
    "#### 6.1 Visualization of the results"
   ]
  },
  {
   "cell_type": "code",
   "execution_count": 35,
   "metadata": {},
   "outputs": [
    {
     "data": {
      "image/png": "[encoded data removed]",
      "text/plain": [
       "<Figure size 432x288 with 1 Axes>"
      ]
     },
     "metadata": {
      "needs_background": "light"
     },
     "output_type": "display_data"
    }
   ],
   "source": [
    "\n",
    "plt.hist(result_table['auc'])\n",
    "plt.xlabel('auc scores') \n",
    "plt.ylabel('count') \n",
    "  \n",
    "# displaying the title\n",
    "plt.title(\"Distribution of AUC score of 50 models\")\n",
    "plt.show() \n"
   ]
  }
 ],
 "metadata": {
  "kernelspec": {
   "display_name": "Python 3",
   "language": "python",
   "name": "python3"
  },
  "language_info": {
   "codemirror_mode": {
    "name": "ipython",
    "version": 3
   },
   "file_extension": ".py",
   "mimetype": "text/x-python",
   "name": "python",
   "nbconvert_exporter": "python",
   "pygments_lexer": "ipython3",
   "version": "3.7.6"
  }
 },
 "nbformat": 4,
 "nbformat_minor": 4
}
