{
 "cells": [
  {
   "cell_type": "markdown",
   "metadata": {},
   "source": [
    "## Naive Bayes Classifier \n",
    "\n",
    "This notebook contains the naive bayes classifier on the collected data.\n",
    "\n",
    "Table of Content:\n",
    "* **1. Import required packages**\n",
    "* **2. Import files**\n",
    "* **3. Check the imbalance in the target feature**\n",
    "* 3.1 Undersampling the majority class\n",
    "* **4. Word Frequency**\n",
    "* 4.1 Bag of Words\n",
    "* 4.2 TF-IDF\n",
    "* **5. Naive Bayes Classifier**\n",
    "* 5.1 Define the target and explanatory variable, cross validation\n",
    "* 5.2 Build the model with Sklearn pipeline\n",
    "* 5.3 Evaluation of the model \n",
    "* *5.3.1 Modell Accuracy*\n",
    "* *5.3.2 Confusion Matrix*\n",
    "* *5.3.3 ROC curve*"
   ]
  },
  {
   "cell_type": "markdown",
   "metadata": {},
   "source": [
    "### 1. Import required packages"
   ]
  },
  {
   "cell_type": "code",
   "execution_count": 193,
   "metadata": {},
   "outputs": [],
   "source": [
    "import pandas as pd\n",
    "import numpy as np\n",
    "import matplotlib.pyplot as plt\n",
    "\n",
    "from sklearn.pipeline import Pipeline\n",
    "from sklearn.feature_extraction.text import CountVectorizer\n",
    "from sklearn.feature_extraction.text import TfidfTransformer\n",
    "from sklearn.naive_bayes import MultinomialNB\n",
    "from sklearn.model_selection import train_test_split\n",
    "from sklearn.metrics import confusion_matrix\n",
    "from sklearn.metrics import plot_confusion_matrix\n",
    "from sklearn.metrics import roc_curve\n",
    "from sklearn.metrics import roc_auc_score"
   ]
  },
  {
   "cell_type": "markdown",
   "metadata": {},
   "source": [
    "### 2. Import files"
   ]
  },
  {
   "cell_type": "code",
   "execution_count": 2,
   "metadata": {
    "scrolled": true
   },
   "outputs": [
    {
     "name": "stdout",
     "output_type": "stream",
     "text": [
      "ABT table has 63633 rows and 50 columns\n"
     ]
    }
   ],
   "source": [
    "abt_covid = pd.read_pickle('C:/Users/molna/Desktop/Szakdolgozat/adatok/abt_covid_featured.pkl')\n",
    "\n",
    "print(\"ABT table has {} rows and {} columns\".format(len(abt_covid), len(abt_covid.columns)))"
   ]
  },
  {
   "cell_type": "code",
   "execution_count": 158,
   "metadata": {},
   "outputs": [],
   "source": [
    "# select only the relevant features for the modelling\n",
    "data = abt_covid[[\"dezinf\", \"title_lemmas\", \"text_lemmas\"]]"
   ]
  },
  {
   "cell_type": "markdown",
   "metadata": {},
   "source": [
    "### 3. Check the imbalance in the target feature"
   ]
  },
  {
   "cell_type": "code",
   "execution_count": 159,
   "metadata": {
    "scrolled": true
   },
   "outputs": [
    {
     "data": {
      "text/plain": [
       "<matplotlib.axes._subplots.AxesSubplot at 0x1761b231a48>"
      ]
     },
     "execution_count": 159,
     "metadata": {},
     "output_type": "execute_result"
    },
    {
     "data": {
      "image/png": "[encoded data removed]",
      "text/plain": [
       "<Figure size 432x288 with 1 Axes>"
      ]
     },
     "metadata": {
      "needs_background": "light"
     },
     "output_type": "display_data"
    }
   ],
   "source": [
    "data['dezinf'].value_counts().plot(kind='bar', title='count (target)')"
   ]
  },
  {
   "cell_type": "markdown",
   "metadata": {},
   "source": [
    "### 3.1 Undersampling the majority class"
   ]
  },
  {
   "cell_type": "code",
   "execution_count": 160,
   "metadata": {},
   "outputs": [],
   "source": [
    "class_count_0, class_count_1 = data['dezinf'].value_counts()"
   ]
  },
  {
   "cell_type": "code",
   "execution_count": 161,
   "metadata": {},
   "outputs": [
    {
     "name": "stdout",
     "output_type": "stream",
     "text": [
      "class 0: (50358, 3)\n",
      "class 1: (13275, 3)\n"
     ]
    }
   ],
   "source": [
    "class_0 = data[data['dezinf'] == 0]\n",
    "class_1 = data[data['dezinf'] == 1]\n",
    "print('class 0:', class_0.shape)\n",
    "print('class 1:', class_1.shape)"
   ]
  },
  {
   "cell_type": "code",
   "execution_count": 162,
   "metadata": {},
   "outputs": [
    {
     "name": "stdout",
     "output_type": "stream",
     "text": [
      "total class of 1 and0: 1    13275\n",
      "0    13275\n",
      "Name: dezinf, dtype: int64\n"
     ]
    },
    {
     "data": {
      "text/plain": [
       "<matplotlib.axes._subplots.AxesSubplot at 0x1761b2a8e88>"
      ]
     },
     "execution_count": 162,
     "metadata": {},
     "output_type": "execute_result"
    },
    {
     "data": {
      "image/png": "[encoded data removed]",
      "text/plain": [
       "<Figure size 432x288 with 1 Axes>"
      ]
     },
     "metadata": {
      "needs_background": "light"
     },
     "output_type": "display_data"
    }
   ],
   "source": [
    "class_0_under = class_0.sample(class_count_1)\n",
    "\n",
    "data_under = pd.concat([class_0_under, class_1], axis=0)\n",
    "\n",
    "print(\"total class of 1 and0:\",test_under['dezinf'].value_counts())\n",
    "data_under['dezinf'].value_counts().plot(kind='bar', title='count (target)')"
   ]
  },
  {
   "cell_type": "code",
   "execution_count": 139,
   "metadata": {},
   "outputs": [],
   "source": [
    "data = data_under"
   ]
  },
  {
   "cell_type": "markdown",
   "metadata": {},
   "source": [
    "### 4. Word Frequency"
   ]
  },
  {
   "cell_type": "code",
   "execution_count": 163,
   "metadata": {},
   "outputs": [],
   "source": [
    "def dummy(doc):\n",
    "    return doc"
   ]
  },
  {
   "cell_type": "markdown",
   "metadata": {},
   "source": [
    "#### 4.1 Bag of Words"
   ]
  },
  {
   "cell_type": "code",
   "execution_count": 178,
   "metadata": {},
   "outputs": [],
   "source": [
    "count_vect = CountVectorizer(tokenizer=dummy, preprocessor=dummy,)"
   ]
  },
  {
   "cell_type": "code",
   "execution_count": 179,
   "metadata": {},
   "outputs": [],
   "source": [
    "word_count_matrix = count_vect.fit_transform(data_under[\"text_lemmas\"])"
   ]
  },
  {
   "cell_type": "code",
   "execution_count": 180,
   "metadata": {},
   "outputs": [
    {
     "data": {
      "text/plain": [
       "<26550x192940 sparse matrix of type '<class 'numpy.int64'>'\n",
       "\twith 3906052 stored elements in Compressed Sparse Row format>"
      ]
     },
     "execution_count": 180,
     "metadata": {},
     "output_type": "execute_result"
    }
   ],
   "source": [
    "word_count_matrix"
   ]
  },
  {
   "cell_type": "markdown",
   "metadata": {},
   "source": [
    "#### 4.2 TF-IDF\n",
    "(i.e Term Frequency times inverse document frequency)"
   ]
  },
  {
   "cell_type": "code",
   "execution_count": 181,
   "metadata": {},
   "outputs": [
    {
     "data": {
      "text/plain": [
       "array([ 9.80052833,  6.93832745,  8.98959811, ..., 10.49367551,\n",
       "       10.49367551, 10.49367551])"
      ]
     },
     "execution_count": 181,
     "metadata": {},
     "output_type": "execute_result"
    }
   ],
   "source": [
    "tf_idf = TfidfTransformer()\n",
    "tf_idf.fit(word_count_matrix)\n",
    "tf_idf.idf_"
   ]
  },
  {
   "cell_type": "code",
   "execution_count": 182,
   "metadata": {},
   "outputs": [
    {
     "data": {
      "text/html": [
       "<div>\n",
       "<style scoped>\n",
       "    .dataframe tbody tr th:only-of-type {\n",
       "        vertical-align: middle;\n",
       "    }\n",
       "\n",
       "    .dataframe tbody tr th {\n",
       "        vertical-align: top;\n",
       "    }\n",
       "\n",
       "    .dataframe thead th {\n",
       "        text-align: right;\n",
       "    }\n",
       "</style>\n",
       "<table border=\"1\" class=\"dataframe\">\n",
       "  <thead>\n",
       "    <tr style=\"text-align: right;\">\n",
       "      <th></th>\n",
       "      <th>idf_weight</th>\n",
       "    </tr>\n",
       "  </thead>\n",
       "  <tbody>\n",
       "    <tr>\n",
       "      <th>koronavírus</th>\n",
       "      <td>1.289202</td>\n",
       "    </tr>\n",
       "    <tr>\n",
       "      <th>járvány</th>\n",
       "      <td>1.504980</td>\n",
       "    </tr>\n",
       "    <tr>\n",
       "      <th>ember</th>\n",
       "      <td>1.890488</td>\n",
       "    </tr>\n",
       "    <tr>\n",
       "      <th>tud</th>\n",
       "      <td>1.931891</td>\n",
       "    </tr>\n",
       "    <tr>\n",
       "      <th>ország</th>\n",
       "      <td>2.053579</td>\n",
       "    </tr>\n",
       "    <tr>\n",
       "      <th>...</th>\n",
       "      <td>...</td>\n",
       "    </tr>\n",
       "    <tr>\n",
       "      <th>kiutazta</th>\n",
       "      <td>10.493676</td>\n",
       "    </tr>\n",
       "    <tr>\n",
       "      <th>kiutazott</th>\n",
       "      <td>10.493676</td>\n",
       "    </tr>\n",
       "    <tr>\n",
       "      <th>kiutazon</th>\n",
       "      <td>10.493676</td>\n",
       "    </tr>\n",
       "    <tr>\n",
       "      <th>kivezényeljék</th>\n",
       "      <td>10.493676</td>\n",
       "    </tr>\n",
       "    <tr>\n",
       "      <th>ˇ</th>\n",
       "      <td>10.493676</td>\n",
       "    </tr>\n",
       "  </tbody>\n",
       "</table>\n",
       "<p>192940 rows × 1 columns</p>\n",
       "</div>"
      ],
      "text/plain": [
       "               idf_weight\n",
       "koronavírus      1.289202\n",
       "járvány          1.504980\n",
       "ember            1.890488\n",
       "tud              1.931891\n",
       "ország           2.053579\n",
       "...                   ...\n",
       "kiutazta        10.493676\n",
       "kiutazott       10.493676\n",
       "kiutazon        10.493676\n",
       "kivezényeljék   10.493676\n",
       "ˇ               10.493676\n",
       "\n",
       "[192940 rows x 1 columns]"
      ]
     },
     "execution_count": 182,
     "metadata": {},
     "output_type": "execute_result"
    }
   ],
   "source": [
    "idf = pd.DataFrame(tf_idf.idf_, index=count_vect.get_feature_names(), columns=['idf_weight'])\n",
    "idf.sort_values(by='idf_weight')"
   ]
  },
  {
   "cell_type": "markdown",
   "metadata": {},
   "source": [
    "### 5. Naive Bayes Classifier"
   ]
  },
  {
   "cell_type": "markdown",
   "metadata": {},
   "source": [
    "#### 5.1 Define the target and explanatory variable, cross validation"
   ]
  },
  {
   "cell_type": "code",
   "execution_count": 183,
   "metadata": {},
   "outputs": [],
   "source": [
    "X = data_under['text_lemmas']\n",
    "y = data_under['dezinf']"
   ]
  },
  {
   "cell_type": "code",
   "execution_count": 184,
   "metadata": {},
   "outputs": [],
   "source": [
    "# split data into 80% training and 20% test set\n",
    "X_train, X_test, y_train, y_test = train_test_split(X, y, test_size=0.2, random_state=42)"
   ]
  },
  {
   "cell_type": "markdown",
   "metadata": {},
   "source": [
    "#### 5.2 Build the model with Sklearn pipeline"
   ]
  },
  {
   "cell_type": "code",
   "execution_count": 185,
   "metadata": {},
   "outputs": [],
   "source": [
    "pipe = Pipeline([\n",
    "    ('vector', CountVectorizer(tokenizer=dummy, preprocessor=dummy)), \n",
    "    ('tfidf', TfidfTransformer()), \n",
    "    ('mulNB', MultinomialNB(alpha=0.4))\n",
    "])"
   ]
  },
  {
   "cell_type": "code",
   "execution_count": 186,
   "metadata": {},
   "outputs": [],
   "source": [
    "bayes_model = pipe.fit(X_train, y_train)"
   ]
  },
  {
   "cell_type": "markdown",
   "metadata": {},
   "source": [
    "#### 5.3 Evaluation of the model"
   ]
  },
  {
   "cell_type": "markdown",
   "metadata": {},
   "source": [
    "#### 5.3.1 Modell Accuracy"
   ]
  },
  {
   "cell_type": "code",
   "execution_count": 187,
   "metadata": {
    "scrolled": true
   },
   "outputs": [
    {
     "name": "stdout",
     "output_type": "stream",
     "text": [
      "The Accuracy of the naive bayes model on the article text is: 0.84 % with the balanced dataset\n"
     ]
    }
   ],
   "source": [
    "predicted = bayes_model.predict(X_test)\n",
    "\n",
    "score = round(pipe.score(X_test, y_test), 2)\n",
    "\n",
    "print(\"The Accuracy of the naive bayes model on the article text is: {} % with the balanced dataset\".format(score))"
   ]
  },
  {
   "cell_type": "markdown",
   "metadata": {},
   "source": [
    "**The Accuracy of the naive bayes modell on the article text is 0.82% with the unbalances dataset.** "
   ]
  },
  {
   "cell_type": "markdown",
   "metadata": {},
   "source": [
    "#### 5.3.2 Confusion Matrix"
   ]
  },
  {
   "cell_type": "code",
   "execution_count": 194,
   "metadata": {},
   "outputs": [
    {
     "data": {
      "image/png": "[encoded data removed]",
      "text/plain": [
       "<Figure size 432x432 with 1 Axes>"
      ]
     },
     "metadata": {
      "needs_background": "light"
     },
     "output_type": "display_data"
    },
    {
     "name": "stdout",
     "output_type": "stream",
     "text": [
      "Failure first row (%):  22.31 %\n",
      "Failure second row (%):  15.8 %\n"
     ]
    }
   ],
   "source": [
    "cm = confusion_matrix(y_test, predicted)\n",
    "plt.figure(figsize = (6,6))\n",
    "sns.heatmap(cm, annot=True, cbar=False, fmt=\"g\")\n",
    "plt.title('Confusion matrix of the Naive Bayes Classifier')\n",
    "plt.xlabel(\"predicted\")\n",
    "plt.ylabel(\"true\")\n",
    "\n",
    "plt.show()\n",
    "\n",
    "print(\"Failure first row (%): \", round(confusion_matrix(y_test, predicted)[0,1]/confusion_matrix(y_test, predicted)[0,0]*100,2),\"%\")\n",
    "print(\"Failure second row (%): \", round(confusion_matrix(y_test, predicted)[1,0]/confusion_matrix(y_test, predicted)[1,1]*100,2),\"%\")"
   ]
  },
  {
   "cell_type": "markdown",
   "metadata": {},
   "source": [
    "The model classifies the 77,69% of the mainstream articles in the good place.\n",
    "And 84,2 % of the dezinformational articles in the good place."
   ]
  },
  {
   "cell_type": "markdown",
   "metadata": {},
   "source": [
    "#### 5.3.3 ROC curve"
   ]
  },
  {
   "cell_type": "code",
   "execution_count": 195,
   "metadata": {},
   "outputs": [
    {
     "data": {
      "image/png": "[encoded data removed]",
      "text/plain": [
       "<Figure size 432x288 with 1 Axes>"
      ]
     },
     "metadata": {
      "needs_background": "light"
     },
     "output_type": "display_data"
    },
    {
     "name": "stdout",
     "output_type": "stream",
     "text": [
      "The AUC score of the Naive Bayes Classifier: 0.84\n"
     ]
    }
   ],
   "source": [
    "fpr, tpr, thresholds = roc_curve(y_test, predicted)\n",
    "\n",
    "# plot the diagonal line\n",
    "plt.plot([0,1],[0,1],'k--') \n",
    "# plot the ROC curve\n",
    "plt.plot(fpr, tpr, label='NB') \n",
    "plt.xlabel('false positive rate')\n",
    "plt.ylabel('true positive rate')\n",
    "plt.title('ROC Curve of the Naive Bayes Classifier')\n",
    "plt.show()\n",
    "\n",
    "print(\"The AUC score of the Naive Bayes Classifier: {}\".format(round(roc_auc_score(y_test, predicted), 2)))"
   ]
  },
  {
   "cell_type": "code",
   "execution_count": 196,
   "metadata": {},
   "outputs": [],
   "source": [
    "prediction = pipe.predict(data_under['text_lemmas'])"
   ]
  },
  {
   "cell_type": "code",
   "execution_count": 197,
   "metadata": {},
   "outputs": [],
   "source": [
    "data_under[\"prediction\"] = prediction"
   ]
  },
  {
   "cell_type": "code",
   "execution_count": 198,
   "metadata": {},
   "outputs": [
    {
     "data": {
      "text/html": [
       "<div>\n",
       "<style scoped>\n",
       "    .dataframe tbody tr th:only-of-type {\n",
       "        vertical-align: middle;\n",
       "    }\n",
       "\n",
       "    .dataframe tbody tr th {\n",
       "        vertical-align: top;\n",
       "    }\n",
       "\n",
       "    .dataframe thead th {\n",
       "        text-align: right;\n",
       "    }\n",
       "</style>\n",
       "<table border=\"1\" class=\"dataframe\">\n",
       "  <thead>\n",
       "    <tr style=\"text-align: right;\">\n",
       "      <th></th>\n",
       "      <th>dezinf</th>\n",
       "      <th>title_lemmas</th>\n",
       "      <th>text_lemmas</th>\n",
       "      <th>prediction</th>\n",
       "    </tr>\n",
       "  </thead>\n",
       "  <tbody>\n",
       "    <tr>\n",
       "      <th>\"33417\"</th>\n",
       "      <td>0</td>\n",
       "      <td>[szlovákia, bocsánat, kér, zsidó, állampolgár,...</td>\n",
       "      <td>[szlovák, kormány, bocsánat, kér, szerda, holo...</td>\n",
       "      <td>0</td>\n",
       "    </tr>\n",
       "    <tr>\n",
       "      <th>\"34330\"</th>\n",
       "      <td>0</td>\n",
       "      <td>[milan, koronavírusos, rangadó]</td>\n",
       "      <td>[juventus, ac, milan, hiányzó, koronavírus, já...</td>\n",
       "      <td>0</td>\n",
       "    </tr>\n",
       "    <tr>\n",
       "      <th>\"12114\"</th>\n",
       "      <td>0</td>\n",
       "      <td>[gyógyszerész, kap, bruttó, forintos, juttatás]</td>\n",
       "      <td>[magyar, gyógyszerészi, kamara, elnök, közlemé...</td>\n",
       "      <td>0</td>\n",
       "    </tr>\n",
       "    <tr>\n",
       "      <th>\"39202\"</th>\n",
       "      <td>0</td>\n",
       "      <td>[astrazenec, vakcina, érkezik, magyarország]</td>\n",
       "      <td>[február, csütörtök, megérkezik, haza, astraze...</td>\n",
       "      <td>1</td>\n",
       "    </tr>\n",
       "    <tr>\n",
       "      <th>\"2103\"</th>\n",
       "      <td>0</td>\n",
       "      <td>[eddigi, komoly, helytállás, tanúsít, rendvéde...</td>\n",
       "      <td>[eddigi, komoly, helytállás, tanúsítaniu, rend...</td>\n",
       "      <td>0</td>\n",
       "    </tr>\n",
       "  </tbody>\n",
       "</table>\n",
       "</div>"
      ],
      "text/plain": [
       "         dezinf                                       title_lemmas  \\\n",
       "\"33417\"       0  [szlovákia, bocsánat, kér, zsidó, állampolgár,...   \n",
       "\"34330\"       0                    [milan, koronavírusos, rangadó]   \n",
       "\"12114\"       0    [gyógyszerész, kap, bruttó, forintos, juttatás]   \n",
       "\"39202\"       0       [astrazenec, vakcina, érkezik, magyarország]   \n",
       "\"2103\"        0  [eddigi, komoly, helytállás, tanúsít, rendvéde...   \n",
       "\n",
       "                                               text_lemmas  prediction  \n",
       "\"33417\"  [szlovák, kormány, bocsánat, kér, szerda, holo...           0  \n",
       "\"34330\"  [juventus, ac, milan, hiányzó, koronavírus, já...           0  \n",
       "\"12114\"  [magyar, gyógyszerészi, kamara, elnök, közlemé...           0  \n",
       "\"39202\"  [február, csütörtök, megérkezik, haza, astraze...           1  \n",
       "\"2103\"   [eddigi, komoly, helytállás, tanúsítaniu, rend...           0  "
      ]
     },
     "execution_count": 198,
     "metadata": {},
     "output_type": "execute_result"
    }
   ],
   "source": [
    "data_under.head()"
   ]
  }
 ],
 "metadata": {
  "kernelspec": {
   "display_name": "Python 3",
   "language": "python",
   "name": "python3"
  },
  "language_info": {
   "codemirror_mode": {
    "name": "ipython",
    "version": 3
   },
   "file_extension": ".py",
   "mimetype": "text/x-python",
   "name": "python",
   "nbconvert_exporter": "python",
   "pygments_lexer": "ipython3",
   "version": "3.7.6"
  }
 },
 "nbformat": 4,
 "nbformat_minor": 4
}
