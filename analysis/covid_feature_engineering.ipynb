{
 "cells": [
  {
   "cell_type": "markdown",
   "metadata": {},
   "source": [
    "# Feature Enginering Notebook\n",
    "\n",
    "Python scripts for extract valuable features for the further modelling from the articles title and text.\n",
    "\n",
    "Table of Content:\n",
    "* **1. Import required packages**\n",
    "* **2. Import files**\n",
    "* **3. Follow up text removal**\n",
    "* **4. Exploratory Analysis**\n",
    "* **5. Feature Engineering**\n",
    "* 5.1 Extract information from the title \n",
    "* *5.1.1 Word count of the titles*\n",
    "* *5.1.2 Average word length of the title*\n",
    "* *5.1.3 Count of exclamation mark in the title*\n",
    "* *5.1.4 Count of question mark in the title*\n",
    "* *5.1.5 Count of stop words in the title*\n",
    "* *5.1.6 Count of capital words in the title*\n",
    "* *5.1.7 Count of numeric values in the title*\n",
    "* 5.2 Extract information from the article\n",
    "* *5.2.1 Word count of the text*\n",
    "* *5.2.2 Average word length of the text*\n",
    "* *5.2.3 Count of question mark in the text*\n",
    "* *5.2.4 Count of exclamation mark in the text*\n",
    "* *5.2.5 Count of stop words in the text*\n",
    "* *5.2.6 Count of capital words in the text*\n",
    "* *5.2.7 Count of numeric values in the text*\n",
    "* **6. More data cleanings for the creation of NLP based variables**\n",
    "* **7. Create NLP based features**\n",
    "* *7.1 Title tokenization*\n",
    "* *7.2 Text tokenization*\n",
    "* *7.3 Title lemmatization*\n",
    "* *7.4 Text lemmatization*\n",
    "* *7.5 Part of Speach Tagging (PoS)*\n",
    "* 7.5.1 PoS on title\n",
    "* 7.5.2 PoS on text\n",
    "* *7.6 Create normalized features*\n",
    "* **8. Check the list of created features**\n",
    "* **9. Named Entity Recognition (Ner)**\n",
    "* *9.1 Create the NER dictionary for the titles*\n",
    "* 9.1.1 Create the Person list for each document\n",
    "* 9.1.2 Create the Organization list for each document\n",
    "* 9.1.3 Create the Location list for each document\n",
    "* *9.2 Create the NER dictionary for the texts*\n",
    "* 9.2.1 Create the Person list for each document\n",
    "* 9.2.2 Create the Organization list for each document\n",
    "* 9.2.3 Create the Location list for each document\n",
    "* **10. Sentiment Analysis**\n",
    "* *10.1 Polarity Analysis*\n",
    "* 10.1.1 Polarity analysis on title lemmas\n",
    "* 10.1.2 Polarity analysis on text lemmas\n",
    "* **11. Save the created dataframe**"
   ]
  },
  {
   "cell_type": "markdown",
   "metadata": {},
   "source": [
    "### 1. Import required packages"
   ]
  },
  {
   "cell_type": "code",
   "execution_count": 1,
   "metadata": {},
   "outputs": [],
   "source": [
    "import pandas as pd\n",
    "import numpy as np\n",
    "\n",
    "# data manipulating:\n",
    "import unicodedata\n",
    "import re ## Import required packages\n",
    "from datetime import datetime"
   ]
  },
  {
   "cell_type": "code",
   "execution_count": 2,
   "metadata": {},
   "outputs": [],
   "source": [
    "import plotly.express as px"
   ]
  },
  {
   "cell_type": "code",
   "execution_count": 2,
   "metadata": {},
   "outputs": [
    {
     "name": "stderr",
     "output_type": "stream",
     "text": [
      "C:\\Users\\molna\\anaconda3\\lib\\site-packages\\spacy\\util.py:275: UserWarning: [W031] Model 'hu_core_ud_lg' (0.3.1) requires spaCy v2.1 and is incompatible with the current spaCy version (2.3.5). This may lead to unexpected results or runtime errors. To resolve this, download a newer compatible model or retrain your custom model with the current spaCy version. For more details and available updates, run: python -m spacy validate\n",
      "  warnings.warn(warn_msg)\n"
     ]
    }
   ],
   "source": [
    "# NLP based packages:\n",
    "import spacy\n",
    "import hu_core_ud_lg as hu\n",
    "nlp = hu.load()\n",
    "\n",
    "from nltk.tokenize import TweetTokenizer\n",
    "tknzr = TweetTokenizer()"
   ]
  },
  {
   "cell_type": "code",
   "execution_count": 3,
   "metadata": {},
   "outputs": [],
   "source": [
    "import warnings\n",
    "warnings.filterwarnings('ignore')"
   ]
  },
  {
   "cell_type": "markdown",
   "metadata": {},
   "source": [
    "### 2. Import files"
   ]
  },
  {
   "cell_type": "markdown",
   "metadata": {},
   "source": [
    "Import the merged fake news and mainstream news dataframe"
   ]
  },
  {
   "cell_type": "code",
   "execution_count": 4,
   "metadata": {},
   "outputs": [],
   "source": [
    "abt_covid = pd.read_pickle('C:/Users/molna/Desktop/Szakdolgozat/adatok/abt_covid_base.pkl')"
   ]
  },
  {
   "cell_type": "code",
   "execution_count": 32,
   "metadata": {},
   "outputs": [
    {
     "data": {
      "text/html": [
       "<div>\n",
       "<style scoped>\n",
       "    .dataframe tbody tr th:only-of-type {\n",
       "        vertical-align: middle;\n",
       "    }\n",
       "\n",
       "    .dataframe tbody tr th {\n",
       "        vertical-align: top;\n",
       "    }\n",
       "\n",
       "    .dataframe thead th {\n",
       "        text-align: right;\n",
       "    }\n",
       "</style>\n",
       "<table border=\"1\" class=\"dataframe\">\n",
       "  <thead>\n",
       "    <tr style=\"text-align: right;\">\n",
       "      <th></th>\n",
       "      <th>title</th>\n",
       "      <th>date</th>\n",
       "      <th>text</th>\n",
       "      <th>source</th>\n",
       "      <th>dezinf</th>\n",
       "    </tr>\n",
       "  </thead>\n",
       "  <tbody>\n",
       "    <tr>\n",
       "      <th>\"56\"</th>\n",
       "      <td>4000 szexstreamer adatai kerültek nyilvánosságra</td>\n",
       "      <td>2020-01-21</td>\n",
       "      <td>A vpnMentor biztonságtechnikai kutatói 875 ez...</td>\n",
       "      <td>index.hu</td>\n",
       "      <td>0</td>\n",
       "    </tr>\n",
       "    <tr>\n",
       "      <th>\"70\"</th>\n",
       "      <td>Ukrán állampolgárok adatai szivárogtak ki egy ...</td>\n",
       "      <td>2020-01-21</td>\n",
       "      <td>Újabb kiberbiztonsági probléma Ukrajnában: a ...</td>\n",
       "      <td>index.hu</td>\n",
       "      <td>0</td>\n",
       "    </tr>\n",
       "    <tr>\n",
       "      <th>\"132\"</th>\n",
       "      <td>Kell-e rettegnünk az új kínai tüdőgyulladástól?</td>\n",
       "      <td>2020-01-21</td>\n",
       "      <td>Bár egy rövid ideig úgy tűnt, hogy a kínaiakna...</td>\n",
       "      <td>index.hu</td>\n",
       "      <td>0</td>\n",
       "    </tr>\n",
       "    <tr>\n",
       "      <th>\"135\"</th>\n",
       "      <td>Hamarosan bejelenthetik a halálos kínai tüdőgy...</td>\n",
       "      <td>2020-01-21</td>\n",
       "      <td>Szövetségi források szerint helyi idő szerint...</td>\n",
       "      <td>index.hu</td>\n",
       "      <td>0</td>\n",
       "    </tr>\n",
       "    <tr>\n",
       "      <th>\"141\"</th>\n",
       "      <td>Schobert: Roppant büszke vagyok a beszédemre, ...</td>\n",
       "      <td>2020-01-21</td>\n",
       "      <td>Az ATV Egyenes Beszéd című műsorának keddi ve...</td>\n",
       "      <td>index.hu</td>\n",
       "      <td>0</td>\n",
       "    </tr>\n",
       "  </tbody>\n",
       "</table>\n",
       "</div>"
      ],
      "text/plain": [
       "                                                   title        date  \\\n",
       "\"56\"    4000 szexstreamer adatai kerültek nyilvánosságra  2020-01-21   \n",
       "\"70\"   Ukrán állampolgárok adatai szivárogtak ki egy ...  2020-01-21   \n",
       "\"132\"    Kell-e rettegnünk az új kínai tüdőgyulladástól?  2020-01-21   \n",
       "\"135\"  Hamarosan bejelenthetik a halálos kínai tüdőgy...  2020-01-21   \n",
       "\"141\"  Schobert: Roppant büszke vagyok a beszédemre, ...  2020-01-21   \n",
       "\n",
       "                                                    text    source  dezinf  \n",
       "\"56\"    A vpnMentor biztonságtechnikai kutatói 875 ez...  index.hu       0  \n",
       "\"70\"    Újabb kiberbiztonsági probléma Ukrajnában: a ...  index.hu       0  \n",
       "\"132\"  Bár egy rövid ideig úgy tűnt, hogy a kínaiakna...  index.hu       0  \n",
       "\"135\"   Szövetségi források szerint helyi idő szerint...  index.hu       0  \n",
       "\"141\"   Az ATV Egyenes Beszéd című műsorának keddi ve...  index.hu       0  "
      ]
     },
     "execution_count": 32,
     "metadata": {},
     "output_type": "execute_result"
    }
   ],
   "source": [
    "abt_covid.head()"
   ]
  },
  {
   "cell_type": "markdown",
   "metadata": {},
   "source": [
    "Import the hungarian stop word list"
   ]
  },
  {
   "cell_type": "code",
   "execution_count": 13,
   "metadata": {},
   "outputs": [],
   "source": [
    "with open(\"C:/Users/molna/Szakdolgozat/nlp_utils/stop_words.txt\", \"r\", encoding='utf-8') as f:\n",
    "    stop = [i for line in f for i in line.split('\\n')]\n",
    "    stop = list(filter(None, stop))"
   ]
  },
  {
   "cell_type": "code",
   "execution_count": 14,
   "metadata": {},
   "outputs": [
    {
     "data": {
      "text/plain": [
       "['ahogy', 'ahol', 'aki', 'akik']"
      ]
     },
     "execution_count": 14,
     "metadata": {},
     "output_type": "execute_result"
    }
   ],
   "source": [
    "stop[1:5]"
   ]
  },
  {
   "cell_type": "markdown",
   "metadata": {},
   "source": [
    "Import the hungarian negative word list"
   ]
  },
  {
   "cell_type": "code",
   "execution_count": 9,
   "metadata": {},
   "outputs": [],
   "source": [
    "with open(\"C:/Users/molna/Szakdolgozat/nlp_utils/neg.txt\", \"r\", encoding='utf-8') as f:\n",
    "    neg = [i for line in f for i in line.split('\\n')]\n",
    "    neg = list(filter(None, neg))"
   ]
  },
  {
   "cell_type": "code",
   "execution_count": 12,
   "metadata": {},
   "outputs": [
    {
     "data": {
      "text/plain": [
       "['abajgat', 'abajgós', 'abajog', 'aberrált', 'abnormális']"
      ]
     },
     "execution_count": 12,
     "metadata": {},
     "output_type": "execute_result"
    }
   ],
   "source": [
    "neg[0:5]"
   ]
  },
  {
   "cell_type": "markdown",
   "metadata": {},
   "source": [
    "Import the hungarian positive word list"
   ]
  },
  {
   "cell_type": "code",
   "execution_count": 10,
   "metadata": {},
   "outputs": [],
   "source": [
    "with open(\"C:/Users/molna/Szakdolgozat/nlp_utils/pos.txt\", \"r\", encoding='utf-8') as f:\n",
    "    pos = [i for line in f for i in line.split('\\n')]\n",
    "    pos = list(filter(None, pos))"
   ]
  },
  {
   "cell_type": "code",
   "execution_count": 15,
   "metadata": {},
   "outputs": [
    {
     "data": {
      "text/plain": [
       "['adakozó', 'adottság', 'aduász', 'affinitás']"
      ]
     },
     "execution_count": 15,
     "metadata": {},
     "output_type": "execute_result"
    }
   ],
   "source": [
    "pos[1:5]"
   ]
  },
  {
   "cell_type": "markdown",
   "metadata": {},
   "source": [
    "### 3. Follow-up text removal"
   ]
  },
  {
   "cell_type": "code",
   "execution_count": 35,
   "metadata": {},
   "outputs": [],
   "source": [
    "abt_covid = abt_covid[abt_covid['text'] != '']"
   ]
  },
  {
   "cell_type": "code",
   "execution_count": 36,
   "metadata": {},
   "outputs": [],
   "source": [
    "abt_covid = abt_covid[abt_covid['text'] != 'None']"
   ]
  },
  {
   "cell_type": "code",
   "execution_count": 37,
   "metadata": {},
   "outputs": [],
   "source": [
    "abt_covid = abt_covid[abt_covid['text'] != ' ']"
   ]
  },
  {
   "cell_type": "code",
   "execution_count": 38,
   "metadata": {},
   "outputs": [],
   "source": [
    "abt_covid = abt_covid[abt_covid['text'] !=  '  ']"
   ]
  },
  {
   "cell_type": "code",
   "execution_count": 47,
   "metadata": {},
   "outputs": [],
   "source": [
    "abt_covid = abt_covid[abt_covid.text != \"........... ...........\"]"
   ]
  },
  {
   "cell_type": "markdown",
   "metadata": {},
   "source": [
    "### 4. Exploratory Analysis"
   ]
  },
  {
   "cell_type": "code",
   "execution_count": 42,
   "metadata": {},
   "outputs": [],
   "source": [
    "df_count = abt_covid.groupby(['source'])['text'].count().reset_index().sort_values(by=[\"text\"])"
   ]
  },
  {
   "cell_type": "code",
   "execution_count": 43,
   "metadata": {
    "scrolled": true
   },
   "outputs": [
    {
     "data": {
      "text/html": [
       "<div>\n",
       "<style scoped>\n",
       "    .dataframe tbody tr th:only-of-type {\n",
       "        vertical-align: middle;\n",
       "    }\n",
       "\n",
       "    .dataframe tbody tr th {\n",
       "        vertical-align: top;\n",
       "    }\n",
       "\n",
       "    .dataframe thead th {\n",
       "        text-align: right;\n",
       "    }\n",
       "</style>\n",
       "<table border=\"1\" class=\"dataframe\">\n",
       "  <thead>\n",
       "    <tr style=\"text-align: right;\">\n",
       "      <th></th>\n",
       "      <th>source</th>\n",
       "      <th>text</th>\n",
       "    </tr>\n",
       "  </thead>\n",
       "  <tbody>\n",
       "    <tr>\n",
       "      <th>10</th>\n",
       "      <td>vilagfigyelo.com</td>\n",
       "      <td>120</td>\n",
       "    </tr>\n",
       "    <tr>\n",
       "      <th>3</th>\n",
       "      <td>fokusz.online</td>\n",
       "      <td>202</td>\n",
       "    </tr>\n",
       "    <tr>\n",
       "      <th>0</th>\n",
       "      <td>alternativhirek.com</td>\n",
       "      <td>207</td>\n",
       "    </tr>\n",
       "    <tr>\n",
       "      <th>1</th>\n",
       "      <td>avilagtitkai.com</td>\n",
       "      <td>399</td>\n",
       "    </tr>\n",
       "    <tr>\n",
       "      <th>8</th>\n",
       "      <td>titkokszigete.hu</td>\n",
       "      <td>1738</td>\n",
       "    </tr>\n",
       "    <tr>\n",
       "      <th>9</th>\n",
       "      <td>tudasfaja.com</td>\n",
       "      <td>1762</td>\n",
       "    </tr>\n",
       "    <tr>\n",
       "      <th>5</th>\n",
       "      <td>kimondottigazsagok.com</td>\n",
       "      <td>2088</td>\n",
       "    </tr>\n",
       "    <tr>\n",
       "      <th>2</th>\n",
       "      <td>eztnezdmeg.com</td>\n",
       "      <td>3285</td>\n",
       "    </tr>\n",
       "    <tr>\n",
       "      <th>6</th>\n",
       "      <td>minden-egyben.com</td>\n",
       "      <td>3475</td>\n",
       "    </tr>\n",
       "    <tr>\n",
       "      <th>7</th>\n",
       "      <td>origo.hu</td>\n",
       "      <td>23762</td>\n",
       "    </tr>\n",
       "    <tr>\n",
       "      <th>4</th>\n",
       "      <td>index.hu</td>\n",
       "      <td>26596</td>\n",
       "    </tr>\n",
       "  </tbody>\n",
       "</table>\n",
       "</div>"
      ],
      "text/plain": [
       "                    source   text\n",
       "10        vilagfigyelo.com    120\n",
       "3            fokusz.online    202\n",
       "0      alternativhirek.com    207\n",
       "1         avilagtitkai.com    399\n",
       "8         titkokszigete.hu   1738\n",
       "9            tudasfaja.com   1762\n",
       "5   kimondottigazsagok.com   2088\n",
       "2           eztnezdmeg.com   3285\n",
       "6        minden-egyben.com   3475\n",
       "7                 origo.hu  23762\n",
       "4                 index.hu  26596"
      ]
     },
     "execution_count": 43,
     "metadata": {},
     "output_type": "execute_result"
    }
   ],
   "source": [
    "df_count"
   ]
  },
  {
   "cell_type": "code",
   "execution_count": 44,
   "metadata": {
    "scrolled": true
   },
   "outputs": [
    {
     "data": {
      "application/vnd.plotly.v1+json": {
       "config": {
        "plotlyServerURL": "https://plot.ly"
       },
       "data": [
        {
         "alignmentgroup": "True",
         "hovertemplate": "text=%{text}<br>source=%{y}<extra></extra>",
         "legendgroup": "",
         "marker": {
          "color": "#636efa"
         },
         "name": "",
         "offsetgroup": "",
         "orientation": "h",
         "showlegend": false,
         "text": [
          120,
          202,
          207,
          399,
          1738,
          1762,
          2088,
          3285,
          3475,
          23762,
          26596
         ],
         "textposition": "outside",
         "texttemplate": "%{text:.2s}",
         "type": "bar",
         "x": [
          120,
          202,
          207,
          399,
          1738,
          1762,
          2088,
          3285,
          3475,
          23762,
          26596
         ],
         "xaxis": "x",
         "y": [
          "vilagfigyelo.com",
          "fokusz.online",
          "alternativhirek.com",
          "avilagtitkai.com",
          "titkokszigete.hu",
          "tudasfaja.com",
          "kimondottigazsagok.com",
          "eztnezdmeg.com",
          "minden-egyben.com",
          "origo.hu",
          "index.hu"
         ],
         "yaxis": "y"
        }
       ],
       "layout": {
        "barmode": "relative",
        "legend": {
         "tracegroupgap": 0
        },
        "margin": {
         "t": 60
        },
        "template": {
         "data": {
          "bar": [
           {
            "error_x": {
             "color": "#2a3f5f"
            },
            "error_y": {
             "color": "#2a3f5f"
            },
            "marker": {
             "line": {
              "color": "#E5ECF6",
              "width": 0.5
             }
            },
            "type": "bar"
           }
          ],
          "barpolar": [
           {
            "marker": {
             "line": {
              "color": "#E5ECF6",
              "width": 0.5
             }
            },
            "type": "barpolar"
           }
          ],
          "carpet": [
           {
            "aaxis": {
             "endlinecolor": "#2a3f5f",
             "gridcolor": "white",
             "linecolor": "white",
             "minorgridcolor": "white",
             "startlinecolor": "#2a3f5f"
            },
            "baxis": {
             "endlinecolor": "#2a3f5f",
             "gridcolor": "white",
             "linecolor": "white",
             "minorgridcolor": "white",
             "startlinecolor": "#2a3f5f"
            },
            "type": "carpet"
           }
          ],
          "choropleth": [
           {
            "colorbar": {
             "outlinewidth": 0,
             "ticks": ""
            },
            "type": "choropleth"
           }
          ],
          "contour": [
           {
            "colorbar": {
             "outlinewidth": 0,
             "ticks": ""
            },
            "colorscale": [
             [
              0,
              "#0d0887"
             ],
             [
              0.1111111111111111,
              "#46039f"
             ],
             [
              0.2222222222222222,
              "#7201a8"
             ],
             [
              0.3333333333333333,
              "#9c179e"
             ],
             [
              0.4444444444444444,
              "#bd3786"
             ],
             [
              0.5555555555555556,
              "#d8576b"
             ],
             [
              0.6666666666666666,
              "#ed7953"
             ],
             [
              0.7777777777777778,
              "#fb9f3a"
             ],
             [
              0.8888888888888888,
              "#fdca26"
             ],
             [
              1,
              "#f0f921"
             ]
            ],
            "type": "contour"
           }
          ],
          "contourcarpet": [
           {
            "colorbar": {
             "outlinewidth": 0,
             "ticks": ""
            },
            "type": "contourcarpet"
           }
          ],
          "heatmap": [
           {
            "colorbar": {
             "outlinewidth": 0,
             "ticks": ""
            },
            "colorscale": [
             [
              0,
              "#0d0887"
             ],
             [
              0.1111111111111111,
              "#46039f"
             ],
             [
              0.2222222222222222,
              "#7201a8"
             ],
             [
              0.3333333333333333,
              "#9c179e"
             ],
             [
              0.4444444444444444,
              "#bd3786"
             ],
             [
              0.5555555555555556,
              "#d8576b"
             ],
             [
              0.6666666666666666,
              "#ed7953"
             ],
             [
              0.7777777777777778,
              "#fb9f3a"
             ],
             [
              0.8888888888888888,
              "#fdca26"
             ],
             [
              1,
              "#f0f921"
             ]
            ],
            "type": "heatmap"
           }
          ],
          "heatmapgl": [
           {
            "colorbar": {
             "outlinewidth": 0,
             "ticks": ""
            },
            "colorscale": [
             [
              0,
              "#0d0887"
             ],
             [
              0.1111111111111111,
              "#46039f"
             ],
             [
              0.2222222222222222,
              "#7201a8"
             ],
             [
              0.3333333333333333,
              "#9c179e"
             ],
             [
              0.4444444444444444,
              "#bd3786"
             ],
             [
              0.5555555555555556,
              "#d8576b"
             ],
             [
              0.6666666666666666,
              "#ed7953"
             ],
             [
              0.7777777777777778,
              "#fb9f3a"
             ],
             [
              0.8888888888888888,
              "#fdca26"
             ],
             [
              1,
              "#f0f921"
             ]
            ],
            "type": "heatmapgl"
           }
          ],
          "histogram": [
           {
            "marker": {
             "colorbar": {
              "outlinewidth": 0,
              "ticks": ""
             }
            },
            "type": "histogram"
           }
          ],
          "histogram2d": [
           {
            "colorbar": {
             "outlinewidth": 0,
             "ticks": ""
            },
            "colorscale": [
             [
              0,
              "#0d0887"
             ],
             [
              0.1111111111111111,
              "#46039f"
             ],
             [
              0.2222222222222222,
              "#7201a8"
             ],
             [
              0.3333333333333333,
              "#9c179e"
             ],
             [
              0.4444444444444444,
              "#bd3786"
             ],
             [
              0.5555555555555556,
              "#d8576b"
             ],
             [
              0.6666666666666666,
              "#ed7953"
             ],
             [
              0.7777777777777778,
              "#fb9f3a"
             ],
             [
              0.8888888888888888,
              "#fdca26"
             ],
             [
              1,
              "#f0f921"
             ]
            ],
            "type": "histogram2d"
           }
          ],
          "histogram2dcontour": [
           {
            "colorbar": {
             "outlinewidth": 0,
             "ticks": ""
            },
            "colorscale": [
             [
              0,
              "#0d0887"
             ],
             [
              0.1111111111111111,
              "#46039f"
             ],
             [
              0.2222222222222222,
              "#7201a8"
             ],
             [
              0.3333333333333333,
              "#9c179e"
             ],
             [
              0.4444444444444444,
              "#bd3786"
             ],
             [
              0.5555555555555556,
              "#d8576b"
             ],
             [
              0.6666666666666666,
              "#ed7953"
             ],
             [
              0.7777777777777778,
              "#fb9f3a"
             ],
             [
              0.8888888888888888,
              "#fdca26"
             ],
             [
              1,
              "#f0f921"
             ]
            ],
            "type": "histogram2dcontour"
           }
          ],
          "mesh3d": [
           {
            "colorbar": {
             "outlinewidth": 0,
             "ticks": ""
            },
            "type": "mesh3d"
           }
          ],
          "parcoords": [
           {
            "line": {
             "colorbar": {
              "outlinewidth": 0,
              "ticks": ""
             }
            },
            "type": "parcoords"
           }
          ],
          "pie": [
           {
            "automargin": true,
            "type": "pie"
           }
          ],
          "scatter": [
           {
            "marker": {
             "colorbar": {
              "outlinewidth": 0,
              "ticks": ""
             }
            },
            "type": "scatter"
           }
          ],
          "scatter3d": [
           {
            "line": {
             "colorbar": {
              "outlinewidth": 0,
              "ticks": ""
             }
            },
            "marker": {
             "colorbar": {
              "outlinewidth": 0,
              "ticks": ""
             }
            },
            "type": "scatter3d"
           }
          ],
          "scattercarpet": [
           {
            "marker": {
             "colorbar": {
              "outlinewidth": 0,
              "ticks": ""
             }
            },
            "type": "scattercarpet"
           }
          ],
          "scattergeo": [
           {
            "marker": {
             "colorbar": {
              "outlinewidth": 0,
              "ticks": ""
             }
            },
            "type": "scattergeo"
           }
          ],
          "scattergl": [
           {
            "marker": {
             "colorbar": {
              "outlinewidth": 0,
              "ticks": ""
             }
            },
            "type": "scattergl"
           }
          ],
          "scattermapbox": [
           {
            "marker": {
             "colorbar": {
              "outlinewidth": 0,
              "ticks": ""
             }
            },
            "type": "scattermapbox"
           }
          ],
          "scatterpolar": [
           {
            "marker": {
             "colorbar": {
              "outlinewidth": 0,
              "ticks": ""
             }
            },
            "type": "scatterpolar"
           }
          ],
          "scatterpolargl": [
           {
            "marker": {
             "colorbar": {
              "outlinewidth": 0,
              "ticks": ""
             }
            },
            "type": "scatterpolargl"
           }
          ],
          "scatterternary": [
           {
            "marker": {
             "colorbar": {
              "outlinewidth": 0,
              "ticks": ""
             }
            },
            "type": "scatterternary"
           }
          ],
          "surface": [
           {
            "colorbar": {
             "outlinewidth": 0,
             "ticks": ""
            },
            "colorscale": [
             [
              0,
              "#0d0887"
             ],
             [
              0.1111111111111111,
              "#46039f"
             ],
             [
              0.2222222222222222,
              "#7201a8"
             ],
             [
              0.3333333333333333,
              "#9c179e"
             ],
             [
              0.4444444444444444,
              "#bd3786"
             ],
             [
              0.5555555555555556,
              "#d8576b"
             ],
             [
              0.6666666666666666,
              "#ed7953"
             ],
             [
              0.7777777777777778,
              "#fb9f3a"
             ],
             [
              0.8888888888888888,
              "#fdca26"
             ],
             [
              1,
              "#f0f921"
             ]
            ],
            "type": "surface"
           }
          ],
          "table": [
           {
            "cells": {
             "fill": {
              "color": "#EBF0F8"
             },
             "line": {
              "color": "white"
             }
            },
            "header": {
             "fill": {
              "color": "#C8D4E3"
             },
             "line": {
              "color": "white"
             }
            },
            "type": "table"
           }
          ]
         },
         "layout": {
          "annotationdefaults": {
           "arrowcolor": "#2a3f5f",
           "arrowhead": 0,
           "arrowwidth": 1
          },
          "coloraxis": {
           "colorbar": {
            "outlinewidth": 0,
            "ticks": ""
           }
          },
          "colorscale": {
           "diverging": [
            [
             0,
             "#8e0152"
            ],
            [
             0.1,
             "#c51b7d"
            ],
            [
             0.2,
             "#de77ae"
            ],
            [
             0.3,
             "#f1b6da"
            ],
            [
             0.4,
             "#fde0ef"
            ],
            [
             0.5,
             "#f7f7f7"
            ],
            [
             0.6,
             "#e6f5d0"
            ],
            [
             0.7,
             "#b8e186"
            ],
            [
             0.8,
             "#7fbc41"
            ],
            [
             0.9,
             "#4d9221"
            ],
            [
             1,
             "#276419"
            ]
           ],
           "sequential": [
            [
             0,
             "#0d0887"
            ],
            [
             0.1111111111111111,
             "#46039f"
            ],
            [
             0.2222222222222222,
             "#7201a8"
            ],
            [
             0.3333333333333333,
             "#9c179e"
            ],
            [
             0.4444444444444444,
             "#bd3786"
            ],
            [
             0.5555555555555556,
             "#d8576b"
            ],
            [
             0.6666666666666666,
             "#ed7953"
            ],
            [
             0.7777777777777778,
             "#fb9f3a"
            ],
            [
             0.8888888888888888,
             "#fdca26"
            ],
            [
             1,
             "#f0f921"
            ]
           ],
           "sequentialminus": [
            [
             0,
             "#0d0887"
            ],
            [
             0.1111111111111111,
             "#46039f"
            ],
            [
             0.2222222222222222,
             "#7201a8"
            ],
            [
             0.3333333333333333,
             "#9c179e"
            ],
            [
             0.4444444444444444,
             "#bd3786"
            ],
            [
             0.5555555555555556,
             "#d8576b"
            ],
            [
             0.6666666666666666,
             "#ed7953"
            ],
            [
             0.7777777777777778,
             "#fb9f3a"
            ],
            [
             0.8888888888888888,
             "#fdca26"
            ],
            [
             1,
             "#f0f921"
            ]
           ]
          },
          "colorway": [
           "#636efa",
           "#EF553B",
           "#00cc96",
           "#ab63fa",
           "#FFA15A",
           "#19d3f3",
           "#FF6692",
           "#B6E880",
           "#FF97FF",
           "#FECB52"
          ],
          "font": {
           "color": "#2a3f5f"
          },
          "geo": {
           "bgcolor": "white",
           "lakecolor": "white",
           "landcolor": "#E5ECF6",
           "showlakes": true,
           "showland": true,
           "subunitcolor": "white"
          },
          "hoverlabel": {
           "align": "left"
          },
          "hovermode": "closest",
          "mapbox": {
           "style": "light"
          },
          "paper_bgcolor": "white",
          "plot_bgcolor": "#E5ECF6",
          "polar": {
           "angularaxis": {
            "gridcolor": "white",
            "linecolor": "white",
            "ticks": ""
           },
           "bgcolor": "#E5ECF6",
           "radialaxis": {
            "gridcolor": "white",
            "linecolor": "white",
            "ticks": ""
           }
          },
          "scene": {
           "xaxis": {
            "backgroundcolor": "#E5ECF6",
            "gridcolor": "white",
            "gridwidth": 2,
            "linecolor": "white",
            "showbackground": true,
            "ticks": "",
            "zerolinecolor": "white"
           },
           "yaxis": {
            "backgroundcolor": "#E5ECF6",
            "gridcolor": "white",
            "gridwidth": 2,
            "linecolor": "white",
            "showbackground": true,
            "ticks": "",
            "zerolinecolor": "white"
           },
           "zaxis": {
            "backgroundcolor": "#E5ECF6",
            "gridcolor": "white",
            "gridwidth": 2,
            "linecolor": "white",
            "showbackground": true,
            "ticks": "",
            "zerolinecolor": "white"
           }
          },
          "shapedefaults": {
           "line": {
            "color": "#2a3f5f"
           }
          },
          "ternary": {
           "aaxis": {
            "gridcolor": "white",
            "linecolor": "white",
            "ticks": ""
           },
           "baxis": {
            "gridcolor": "white",
            "linecolor": "white",
            "ticks": ""
           },
           "bgcolor": "#E5ECF6",
           "caxis": {
            "gridcolor": "white",
            "linecolor": "white",
            "ticks": ""
           }
          },
          "title": {
           "x": 0.05
          },
          "xaxis": {
           "automargin": true,
           "gridcolor": "white",
           "linecolor": "white",
           "ticks": "",
           "title": {
            "standoff": 15
           },
           "zerolinecolor": "white",
           "zerolinewidth": 2
          },
          "yaxis": {
           "automargin": true,
           "gridcolor": "white",
           "linecolor": "white",
           "ticks": "",
           "title": {
            "standoff": 15
           },
           "zerolinecolor": "white",
           "zerolinewidth": 2
          }
         }
        },
        "uniformtext": {
         "minsize": 8,
         "mode": "hide"
        },
        "xaxis": {
         "anchor": "y",
         "domain": [
          0,
          1
         ],
         "title": {
          "text": "text"
         }
        },
        "yaxis": {
         "anchor": "x",
         "domain": [
          0,
          1
         ],
         "title": {
          "text": "source"
         }
        }
       }
      },
      "text/html": [
       "<div>\n",
       "        \n",
       "        \n",
       "            <div id=\"2038ae27-c2b5-4b43-a2be-65f8ca1d0011\" class=\"plotly-graph-div\" style=\"height:525px; width:100%;\"></div>\n",
       "            <script type=\"text/javascript\">\n",
       "                require([\"plotly\"], function(Plotly) {\n",
       "                    window.PLOTLYENV=window.PLOTLYENV || {};\n",
       "                    \n",
       "                if (document.getElementById(\"2038ae27-c2b5-4b43-a2be-65f8ca1d0011\")) {\n",
       "                    Plotly.newPlot(\n",
       "                        '2038ae27-c2b5-4b43-a2be-65f8ca1d0011',\n",
       "                        [{\"alignmentgroup\": \"True\", \"hovertemplate\": \"text=%{text}<br>source=%{y}<extra></extra>\", \"legendgroup\": \"\", \"marker\": {\"color\": \"#636efa\"}, \"name\": \"\", \"offsetgroup\": \"\", \"orientation\": \"h\", \"showlegend\": false, \"text\": [120.0, 202.0, 207.0, 399.0, 1738.0, 1762.0, 2088.0, 3285.0, 3475.0, 23762.0, 26596.0], \"textposition\": \"outside\", \"texttemplate\": \"%{text:.2s}\", \"type\": \"bar\", \"x\": [120, 202, 207, 399, 1738, 1762, 2088, 3285, 3475, 23762, 26596], \"xaxis\": \"x\", \"y\": [\"vilagfigyelo.com\", \"fokusz.online\", \"alternativhirek.com\", \"avilagtitkai.com\", \"titkokszigete.hu\", \"tudasfaja.com\", \"kimondottigazsagok.com\", \"eztnezdmeg.com\", \"minden-egyben.com\", \"origo.hu\", \"index.hu\"], \"yaxis\": \"y\"}],\n",
       "                        {\"barmode\": \"relative\", \"legend\": {\"tracegroupgap\": 0}, \"margin\": {\"t\": 60}, \"template\": {\"data\": {\"bar\": [{\"error_x\": {\"color\": \"#2a3f5f\"}, \"error_y\": {\"color\": \"#2a3f5f\"}, \"marker\": {\"line\": {\"color\": \"#E5ECF6\", \"width\": 0.5}}, \"type\": \"bar\"}], \"barpolar\": [{\"marker\": {\"line\": {\"color\": \"#E5ECF6\", \"width\": 0.5}}, \"type\": \"barpolar\"}], \"carpet\": [{\"aaxis\": {\"endlinecolor\": \"#2a3f5f\", \"gridcolor\": \"white\", \"linecolor\": \"white\", \"minorgridcolor\": \"white\", \"startlinecolor\": \"#2a3f5f\"}, \"baxis\": {\"endlinecolor\": \"#2a3f5f\", \"gridcolor\": \"white\", \"linecolor\": \"white\", \"minorgridcolor\": \"white\", \"startlinecolor\": \"#2a3f5f\"}, \"type\": \"carpet\"}], \"choropleth\": [{\"colorbar\": {\"outlinewidth\": 0, \"ticks\": \"\"}, \"type\": \"choropleth\"}], \"contour\": [{\"colorbar\": {\"outlinewidth\": 0, \"ticks\": \"\"}, \"colorscale\": [[0.0, \"#0d0887\"], [0.1111111111111111, \"#46039f\"], [0.2222222222222222, \"#7201a8\"], [0.3333333333333333, \"#9c179e\"], [0.4444444444444444, \"#bd3786\"], [0.5555555555555556, \"#d8576b\"], [0.6666666666666666, \"#ed7953\"], [0.7777777777777778, \"#fb9f3a\"], [0.8888888888888888, \"#fdca26\"], [1.0, \"#f0f921\"]], \"type\": \"contour\"}], \"contourcarpet\": [{\"colorbar\": {\"outlinewidth\": 0, \"ticks\": \"\"}, \"type\": \"contourcarpet\"}], \"heatmap\": [{\"colorbar\": {\"outlinewidth\": 0, \"ticks\": \"\"}, \"colorscale\": [[0.0, \"#0d0887\"], [0.1111111111111111, \"#46039f\"], [0.2222222222222222, \"#7201a8\"], [0.3333333333333333, \"#9c179e\"], [0.4444444444444444, \"#bd3786\"], [0.5555555555555556, \"#d8576b\"], [0.6666666666666666, \"#ed7953\"], [0.7777777777777778, \"#fb9f3a\"], [0.8888888888888888, \"#fdca26\"], [1.0, \"#f0f921\"]], \"type\": \"heatmap\"}], \"heatmapgl\": [{\"colorbar\": {\"outlinewidth\": 0, \"ticks\": \"\"}, \"colorscale\": [[0.0, \"#0d0887\"], [0.1111111111111111, \"#46039f\"], [0.2222222222222222, \"#7201a8\"], [0.3333333333333333, \"#9c179e\"], [0.4444444444444444, \"#bd3786\"], [0.5555555555555556, \"#d8576b\"], [0.6666666666666666, \"#ed7953\"], [0.7777777777777778, \"#fb9f3a\"], [0.8888888888888888, \"#fdca26\"], [1.0, \"#f0f921\"]], \"type\": \"heatmapgl\"}], \"histogram\": [{\"marker\": {\"colorbar\": {\"outlinewidth\": 0, \"ticks\": \"\"}}, \"type\": \"histogram\"}], \"histogram2d\": [{\"colorbar\": {\"outlinewidth\": 0, \"ticks\": \"\"}, \"colorscale\": [[0.0, \"#0d0887\"], [0.1111111111111111, \"#46039f\"], [0.2222222222222222, \"#7201a8\"], [0.3333333333333333, \"#9c179e\"], [0.4444444444444444, \"#bd3786\"], [0.5555555555555556, \"#d8576b\"], [0.6666666666666666, \"#ed7953\"], [0.7777777777777778, \"#fb9f3a\"], [0.8888888888888888, \"#fdca26\"], [1.0, \"#f0f921\"]], \"type\": \"histogram2d\"}], \"histogram2dcontour\": [{\"colorbar\": {\"outlinewidth\": 0, \"ticks\": \"\"}, \"colorscale\": [[0.0, \"#0d0887\"], [0.1111111111111111, \"#46039f\"], [0.2222222222222222, \"#7201a8\"], [0.3333333333333333, \"#9c179e\"], [0.4444444444444444, \"#bd3786\"], [0.5555555555555556, \"#d8576b\"], [0.6666666666666666, \"#ed7953\"], [0.7777777777777778, \"#fb9f3a\"], [0.8888888888888888, \"#fdca26\"], [1.0, \"#f0f921\"]], \"type\": \"histogram2dcontour\"}], \"mesh3d\": [{\"colorbar\": {\"outlinewidth\": 0, \"ticks\": \"\"}, \"type\": \"mesh3d\"}], \"parcoords\": [{\"line\": {\"colorbar\": {\"outlinewidth\": 0, \"ticks\": \"\"}}, \"type\": \"parcoords\"}], \"pie\": [{\"automargin\": true, \"type\": \"pie\"}], \"scatter\": [{\"marker\": {\"colorbar\": {\"outlinewidth\": 0, \"ticks\": \"\"}}, \"type\": \"scatter\"}], \"scatter3d\": [{\"line\": {\"colorbar\": {\"outlinewidth\": 0, \"ticks\": \"\"}}, \"marker\": {\"colorbar\": {\"outlinewidth\": 0, \"ticks\": \"\"}}, \"type\": \"scatter3d\"}], \"scattercarpet\": [{\"marker\": {\"colorbar\": {\"outlinewidth\": 0, \"ticks\": \"\"}}, \"type\": \"scattercarpet\"}], \"scattergeo\": [{\"marker\": {\"colorbar\": {\"outlinewidth\": 0, \"ticks\": \"\"}}, \"type\": \"scattergeo\"}], \"scattergl\": [{\"marker\": {\"colorbar\": {\"outlinewidth\": 0, \"ticks\": \"\"}}, \"type\": \"scattergl\"}], \"scattermapbox\": [{\"marker\": {\"colorbar\": {\"outlinewidth\": 0, \"ticks\": \"\"}}, \"type\": \"scattermapbox\"}], \"scatterpolar\": [{\"marker\": {\"colorbar\": {\"outlinewidth\": 0, \"ticks\": \"\"}}, \"type\": \"scatterpolar\"}], \"scatterpolargl\": [{\"marker\": {\"colorbar\": {\"outlinewidth\": 0, \"ticks\": \"\"}}, \"type\": \"scatterpolargl\"}], \"scatterternary\": [{\"marker\": {\"colorbar\": {\"outlinewidth\": 0, \"ticks\": \"\"}}, \"type\": \"scatterternary\"}], \"surface\": [{\"colorbar\": {\"outlinewidth\": 0, \"ticks\": \"\"}, \"colorscale\": [[0.0, \"#0d0887\"], [0.1111111111111111, \"#46039f\"], [0.2222222222222222, \"#7201a8\"], [0.3333333333333333, \"#9c179e\"], [0.4444444444444444, \"#bd3786\"], [0.5555555555555556, \"#d8576b\"], [0.6666666666666666, \"#ed7953\"], [0.7777777777777778, \"#fb9f3a\"], [0.8888888888888888, \"#fdca26\"], [1.0, \"#f0f921\"]], \"type\": \"surface\"}], \"table\": [{\"cells\": {\"fill\": {\"color\": \"#EBF0F8\"}, \"line\": {\"color\": \"white\"}}, \"header\": {\"fill\": {\"color\": \"#C8D4E3\"}, \"line\": {\"color\": \"white\"}}, \"type\": \"table\"}]}, \"layout\": {\"annotationdefaults\": {\"arrowcolor\": \"#2a3f5f\", \"arrowhead\": 0, \"arrowwidth\": 1}, \"coloraxis\": {\"colorbar\": {\"outlinewidth\": 0, \"ticks\": \"\"}}, \"colorscale\": {\"diverging\": [[0, \"#8e0152\"], [0.1, \"#c51b7d\"], [0.2, \"#de77ae\"], [0.3, \"#f1b6da\"], [0.4, \"#fde0ef\"], [0.5, \"#f7f7f7\"], [0.6, \"#e6f5d0\"], [0.7, \"#b8e186\"], [0.8, \"#7fbc41\"], [0.9, \"#4d9221\"], [1, \"#276419\"]], \"sequential\": [[0.0, \"#0d0887\"], [0.1111111111111111, \"#46039f\"], [0.2222222222222222, \"#7201a8\"], [0.3333333333333333, \"#9c179e\"], [0.4444444444444444, \"#bd3786\"], [0.5555555555555556, \"#d8576b\"], [0.6666666666666666, \"#ed7953\"], [0.7777777777777778, \"#fb9f3a\"], [0.8888888888888888, \"#fdca26\"], [1.0, \"#f0f921\"]], \"sequentialminus\": [[0.0, \"#0d0887\"], [0.1111111111111111, \"#46039f\"], [0.2222222222222222, \"#7201a8\"], [0.3333333333333333, \"#9c179e\"], [0.4444444444444444, \"#bd3786\"], [0.5555555555555556, \"#d8576b\"], [0.6666666666666666, \"#ed7953\"], [0.7777777777777778, \"#fb9f3a\"], [0.8888888888888888, \"#fdca26\"], [1.0, \"#f0f921\"]]}, \"colorway\": [\"#636efa\", \"#EF553B\", \"#00cc96\", \"#ab63fa\", \"#FFA15A\", \"#19d3f3\", \"#FF6692\", \"#B6E880\", \"#FF97FF\", \"#FECB52\"], \"font\": {\"color\": \"#2a3f5f\"}, \"geo\": {\"bgcolor\": \"white\", \"lakecolor\": \"white\", \"landcolor\": \"#E5ECF6\", \"showlakes\": true, \"showland\": true, \"subunitcolor\": \"white\"}, \"hoverlabel\": {\"align\": \"left\"}, \"hovermode\": \"closest\", \"mapbox\": {\"style\": \"light\"}, \"paper_bgcolor\": \"white\", \"plot_bgcolor\": \"#E5ECF6\", \"polar\": {\"angularaxis\": {\"gridcolor\": \"white\", \"linecolor\": \"white\", \"ticks\": \"\"}, \"bgcolor\": \"#E5ECF6\", \"radialaxis\": {\"gridcolor\": \"white\", \"linecolor\": \"white\", \"ticks\": \"\"}}, \"scene\": {\"xaxis\": {\"backgroundcolor\": \"#E5ECF6\", \"gridcolor\": \"white\", \"gridwidth\": 2, \"linecolor\": \"white\", \"showbackground\": true, \"ticks\": \"\", \"zerolinecolor\": \"white\"}, \"yaxis\": {\"backgroundcolor\": \"#E5ECF6\", \"gridcolor\": \"white\", \"gridwidth\": 2, \"linecolor\": \"white\", \"showbackground\": true, \"ticks\": \"\", \"zerolinecolor\": \"white\"}, \"zaxis\": {\"backgroundcolor\": \"#E5ECF6\", \"gridcolor\": \"white\", \"gridwidth\": 2, \"linecolor\": \"white\", \"showbackground\": true, \"ticks\": \"\", \"zerolinecolor\": \"white\"}}, \"shapedefaults\": {\"line\": {\"color\": \"#2a3f5f\"}}, \"ternary\": {\"aaxis\": {\"gridcolor\": \"white\", \"linecolor\": \"white\", \"ticks\": \"\"}, \"baxis\": {\"gridcolor\": \"white\", \"linecolor\": \"white\", \"ticks\": \"\"}, \"bgcolor\": \"#E5ECF6\", \"caxis\": {\"gridcolor\": \"white\", \"linecolor\": \"white\", \"ticks\": \"\"}}, \"title\": {\"x\": 0.05}, \"xaxis\": {\"automargin\": true, \"gridcolor\": \"white\", \"linecolor\": \"white\", \"ticks\": \"\", \"title\": {\"standoff\": 15}, \"zerolinecolor\": \"white\", \"zerolinewidth\": 2}, \"yaxis\": {\"automargin\": true, \"gridcolor\": \"white\", \"linecolor\": \"white\", \"ticks\": \"\", \"title\": {\"standoff\": 15}, \"zerolinecolor\": \"white\", \"zerolinewidth\": 2}}}, \"uniformtext\": {\"minsize\": 8, \"mode\": \"hide\"}, \"xaxis\": {\"anchor\": \"y\", \"domain\": [0.0, 1.0], \"title\": {\"text\": \"text\"}}, \"yaxis\": {\"anchor\": \"x\", \"domain\": [0.0, 1.0], \"title\": {\"text\": \"source\"}}},\n",
       "                        {\"responsive\": true}\n",
       "                    ).then(function(){\n",
       "                            \n",
       "var gd = document.getElementById('2038ae27-c2b5-4b43-a2be-65f8ca1d0011');\n",
       "var x = new MutationObserver(function (mutations, observer) {{\n",
       "        var display = window.getComputedStyle(gd).display;\n",
       "        if (!display || display === 'none') {{\n",
       "            console.log([gd, 'removed!']);\n",
       "            Plotly.purge(gd);\n",
       "            observer.disconnect();\n",
       "        }}\n",
       "}});\n",
       "\n",
       "// Listen for the removal of the full notebook cells\n",
       "var notebookContainer = gd.closest('#notebook-container');\n",
       "if (notebookContainer) {{\n",
       "    x.observe(notebookContainer, {childList: true});\n",
       "}}\n",
       "\n",
       "// Listen for the clearing of the current output cell\n",
       "var outputEl = gd.closest('.output');\n",
       "if (outputEl) {{\n",
       "    x.observe(outputEl, {childList: true});\n",
       "}}\n",
       "\n",
       "                        })\n",
       "                };\n",
       "                });\n",
       "            </script>\n",
       "        </div>"
      ]
     },
     "metadata": {},
     "output_type": "display_data"
    }
   ],
   "source": [
    "fig = px.bar(df_count, x=\"text\", y=\"source\", text=\"text\", orientation='h')\n",
    "fig.update_traces(texttemplate='%{text:.2s}', textposition='outside')\n",
    "fig.update_layout(uniformtext_minsize=8, uniformtext_mode='hide')\n",
    "fig.show()"
   ]
  },
  {
   "cell_type": "code",
   "execution_count": 46,
   "metadata": {},
   "outputs": [],
   "source": [
    "df_count_2 = abt_covid.groupby(['dezinf'])['text'].count().reset_index().sort_values(by=[\"text\"])"
   ]
  },
  {
   "cell_type": "code",
   "execution_count": 47,
   "metadata": {
    "scrolled": true
   },
   "outputs": [
    {
     "data": {
      "application/vnd.plotly.v1+json": {
       "config": {
        "plotlyServerURL": "https://plot.ly"
       },
       "data": [
        {
         "alignmentgroup": "True",
         "hovertemplate": "text=%{text}<br>dezinf=%{y}<extra></extra>",
         "legendgroup": "",
         "marker": {
          "color": "#636efa"
         },
         "name": "",
         "offsetgroup": "",
         "orientation": "h",
         "showlegend": false,
         "text": [
          13276,
          50358
         ],
         "textposition": "outside",
         "texttemplate": "%{text:.2s}",
         "type": "bar",
         "x": [
          13276,
          50358
         ],
         "xaxis": "x",
         "y": [
          1,
          0
         ],
         "yaxis": "y"
        }
       ],
       "layout": {
        "barmode": "relative",
        "legend": {
         "tracegroupgap": 0
        },
        "margin": {
         "t": 60
        },
        "template": {
         "data": {
          "bar": [
           {
            "error_x": {
             "color": "#2a3f5f"
            },
            "error_y": {
             "color": "#2a3f5f"
            },
            "marker": {
             "line": {
              "color": "#E5ECF6",
              "width": 0.5
             }
            },
            "type": "bar"
           }
          ],
          "barpolar": [
           {
            "marker": {
             "line": {
              "color": "#E5ECF6",
              "width": 0.5
             }
            },
            "type": "barpolar"
           }
          ],
          "carpet": [
           {
            "aaxis": {
             "endlinecolor": "#2a3f5f",
             "gridcolor": "white",
             "linecolor": "white",
             "minorgridcolor": "white",
             "startlinecolor": "#2a3f5f"
            },
            "baxis": {
             "endlinecolor": "#2a3f5f",
             "gridcolor": "white",
             "linecolor": "white",
             "minorgridcolor": "white",
             "startlinecolor": "#2a3f5f"
            },
            "type": "carpet"
           }
          ],
          "choropleth": [
           {
            "colorbar": {
             "outlinewidth": 0,
             "ticks": ""
            },
            "type": "choropleth"
           }
          ],
          "contour": [
           {
            "colorbar": {
             "outlinewidth": 0,
             "ticks": ""
            },
            "colorscale": [
             [
              0,
              "#0d0887"
             ],
             [
              0.1111111111111111,
              "#46039f"
             ],
             [
              0.2222222222222222,
              "#7201a8"
             ],
             [
              0.3333333333333333,
              "#9c179e"
             ],
             [
              0.4444444444444444,
              "#bd3786"
             ],
             [
              0.5555555555555556,
              "#d8576b"
             ],
             [
              0.6666666666666666,
              "#ed7953"
             ],
             [
              0.7777777777777778,
              "#fb9f3a"
             ],
             [
              0.8888888888888888,
              "#fdca26"
             ],
             [
              1,
              "#f0f921"
             ]
            ],
            "type": "contour"
           }
          ],
          "contourcarpet": [
           {
            "colorbar": {
             "outlinewidth": 0,
             "ticks": ""
            },
            "type": "contourcarpet"
           }
          ],
          "heatmap": [
           {
            "colorbar": {
             "outlinewidth": 0,
             "ticks": ""
            },
            "colorscale": [
             [
              0,
              "#0d0887"
             ],
             [
              0.1111111111111111,
              "#46039f"
             ],
             [
              0.2222222222222222,
              "#7201a8"
             ],
             [
              0.3333333333333333,
              "#9c179e"
             ],
             [
              0.4444444444444444,
              "#bd3786"
             ],
             [
              0.5555555555555556,
              "#d8576b"
             ],
             [
              0.6666666666666666,
              "#ed7953"
             ],
             [
              0.7777777777777778,
              "#fb9f3a"
             ],
             [
              0.8888888888888888,
              "#fdca26"
             ],
             [
              1,
              "#f0f921"
             ]
            ],
            "type": "heatmap"
           }
          ],
          "heatmapgl": [
           {
            "colorbar": {
             "outlinewidth": 0,
             "ticks": ""
            },
            "colorscale": [
             [
              0,
              "#0d0887"
             ],
             [
              0.1111111111111111,
              "#46039f"
             ],
             [
              0.2222222222222222,
              "#7201a8"
             ],
             [
              0.3333333333333333,
              "#9c179e"
             ],
             [
              0.4444444444444444,
              "#bd3786"
             ],
             [
              0.5555555555555556,
              "#d8576b"
             ],
             [
              0.6666666666666666,
              "#ed7953"
             ],
             [
              0.7777777777777778,
              "#fb9f3a"
             ],
             [
              0.8888888888888888,
              "#fdca26"
             ],
             [
              1,
              "#f0f921"
             ]
            ],
            "type": "heatmapgl"
           }
          ],
          "histogram": [
           {
            "marker": {
             "colorbar": {
              "outlinewidth": 0,
              "ticks": ""
             }
            },
            "type": "histogram"
           }
          ],
          "histogram2d": [
           {
            "colorbar": {
             "outlinewidth": 0,
             "ticks": ""
            },
            "colorscale": [
             [
              0,
              "#0d0887"
             ],
             [
              0.1111111111111111,
              "#46039f"
             ],
             [
              0.2222222222222222,
              "#7201a8"
             ],
             [
              0.3333333333333333,
              "#9c179e"
             ],
             [
              0.4444444444444444,
              "#bd3786"
             ],
             [
              0.5555555555555556,
              "#d8576b"
             ],
             [
              0.6666666666666666,
              "#ed7953"
             ],
             [
              0.7777777777777778,
              "#fb9f3a"
             ],
             [
              0.8888888888888888,
              "#fdca26"
             ],
             [
              1,
              "#f0f921"
             ]
            ],
            "type": "histogram2d"
           }
          ],
          "histogram2dcontour": [
           {
            "colorbar": {
             "outlinewidth": 0,
             "ticks": ""
            },
            "colorscale": [
             [
              0,
              "#0d0887"
             ],
             [
              0.1111111111111111,
              "#46039f"
             ],
             [
              0.2222222222222222,
              "#7201a8"
             ],
             [
              0.3333333333333333,
              "#9c179e"
             ],
             [
              0.4444444444444444,
              "#bd3786"
             ],
             [
              0.5555555555555556,
              "#d8576b"
             ],
             [
              0.6666666666666666,
              "#ed7953"
             ],
             [
              0.7777777777777778,
              "#fb9f3a"
             ],
             [
              0.8888888888888888,
              "#fdca26"
             ],
             [
              1,
              "#f0f921"
             ]
            ],
            "type": "histogram2dcontour"
           }
          ],
          "mesh3d": [
           {
            "colorbar": {
             "outlinewidth": 0,
             "ticks": ""
            },
            "type": "mesh3d"
           }
          ],
          "parcoords": [
           {
            "line": {
             "colorbar": {
              "outlinewidth": 0,
              "ticks": ""
             }
            },
            "type": "parcoords"
           }
          ],
          "pie": [
           {
            "automargin": true,
            "type": "pie"
           }
          ],
          "scatter": [
           {
            "marker": {
             "colorbar": {
              "outlinewidth": 0,
              "ticks": ""
             }
            },
            "type": "scatter"
           }
          ],
          "scatter3d": [
           {
            "line": {
             "colorbar": {
              "outlinewidth": 0,
              "ticks": ""
             }
            },
            "marker": {
             "colorbar": {
              "outlinewidth": 0,
              "ticks": ""
             }
            },
            "type": "scatter3d"
           }
          ],
          "scattercarpet": [
           {
            "marker": {
             "colorbar": {
              "outlinewidth": 0,
              "ticks": ""
             }
            },
            "type": "scattercarpet"
           }
          ],
          "scattergeo": [
           {
            "marker": {
             "colorbar": {
              "outlinewidth": 0,
              "ticks": ""
             }
            },
            "type": "scattergeo"
           }
          ],
          "scattergl": [
           {
            "marker": {
             "colorbar": {
              "outlinewidth": 0,
              "ticks": ""
             }
            },
            "type": "scattergl"
           }
          ],
          "scattermapbox": [
           {
            "marker": {
             "colorbar": {
              "outlinewidth": 0,
              "ticks": ""
             }
            },
            "type": "scattermapbox"
           }
          ],
          "scatterpolar": [
           {
            "marker": {
             "colorbar": {
              "outlinewidth": 0,
              "ticks": ""
             }
            },
            "type": "scatterpolar"
           }
          ],
          "scatterpolargl": [
           {
            "marker": {
             "colorbar": {
              "outlinewidth": 0,
              "ticks": ""
             }
            },
            "type": "scatterpolargl"
           }
          ],
          "scatterternary": [
           {
            "marker": {
             "colorbar": {
              "outlinewidth": 0,
              "ticks": ""
             }
            },
            "type": "scatterternary"
           }
          ],
          "surface": [
           {
            "colorbar": {
             "outlinewidth": 0,
             "ticks": ""
            },
            "colorscale": [
             [
              0,
              "#0d0887"
             ],
             [
              0.1111111111111111,
              "#46039f"
             ],
             [
              0.2222222222222222,
              "#7201a8"
             ],
             [
              0.3333333333333333,
              "#9c179e"
             ],
             [
              0.4444444444444444,
              "#bd3786"
             ],
             [
              0.5555555555555556,
              "#d8576b"
             ],
             [
              0.6666666666666666,
              "#ed7953"
             ],
             [
              0.7777777777777778,
              "#fb9f3a"
             ],
             [
              0.8888888888888888,
              "#fdca26"
             ],
             [
              1,
              "#f0f921"
             ]
            ],
            "type": "surface"
           }
          ],
          "table": [
           {
            "cells": {
             "fill": {
              "color": "#EBF0F8"
             },
             "line": {
              "color": "white"
             }
            },
            "header": {
             "fill": {
              "color": "#C8D4E3"
             },
             "line": {
              "color": "white"
             }
            },
            "type": "table"
           }
          ]
         },
         "layout": {
          "annotationdefaults": {
           "arrowcolor": "#2a3f5f",
           "arrowhead": 0,
           "arrowwidth": 1
          },
          "coloraxis": {
           "colorbar": {
            "outlinewidth": 0,
            "ticks": ""
           }
          },
          "colorscale": {
           "diverging": [
            [
             0,
             "#8e0152"
            ],
            [
             0.1,
             "#c51b7d"
            ],
            [
             0.2,
             "#de77ae"
            ],
            [
             0.3,
             "#f1b6da"
            ],
            [
             0.4,
             "#fde0ef"
            ],
            [
             0.5,
             "#f7f7f7"
            ],
            [
             0.6,
             "#e6f5d0"
            ],
            [
             0.7,
             "#b8e186"
            ],
            [
             0.8,
             "#7fbc41"
            ],
            [
             0.9,
             "#4d9221"
            ],
            [
             1,
             "#276419"
            ]
           ],
           "sequential": [
            [
             0,
             "#0d0887"
            ],
            [
             0.1111111111111111,
             "#46039f"
            ],
            [
             0.2222222222222222,
             "#7201a8"
            ],
            [
             0.3333333333333333,
             "#9c179e"
            ],
            [
             0.4444444444444444,
             "#bd3786"
            ],
            [
             0.5555555555555556,
             "#d8576b"
            ],
            [
             0.6666666666666666,
             "#ed7953"
            ],
            [
             0.7777777777777778,
             "#fb9f3a"
            ],
            [
             0.8888888888888888,
             "#fdca26"
            ],
            [
             1,
             "#f0f921"
            ]
           ],
           "sequentialminus": [
            [
             0,
             "#0d0887"
            ],
            [
             0.1111111111111111,
             "#46039f"
            ],
            [
             0.2222222222222222,
             "#7201a8"
            ],
            [
             0.3333333333333333,
             "#9c179e"
            ],
            [
             0.4444444444444444,
             "#bd3786"
            ],
            [
             0.5555555555555556,
             "#d8576b"
            ],
            [
             0.6666666666666666,
             "#ed7953"
            ],
            [
             0.7777777777777778,
             "#fb9f3a"
            ],
            [
             0.8888888888888888,
             "#fdca26"
            ],
            [
             1,
             "#f0f921"
            ]
           ]
          },
          "colorway": [
           "#636efa",
           "#EF553B",
           "#00cc96",
           "#ab63fa",
           "#FFA15A",
           "#19d3f3",
           "#FF6692",
           "#B6E880",
           "#FF97FF",
           "#FECB52"
          ],
          "font": {
           "color": "#2a3f5f"
          },
          "geo": {
           "bgcolor": "white",
           "lakecolor": "white",
           "landcolor": "#E5ECF6",
           "showlakes": true,
           "showland": true,
           "subunitcolor": "white"
          },
          "hoverlabel": {
           "align": "left"
          },
          "hovermode": "closest",
          "mapbox": {
           "style": "light"
          },
          "paper_bgcolor": "white",
          "plot_bgcolor": "#E5ECF6",
          "polar": {
           "angularaxis": {
            "gridcolor": "white",
            "linecolor": "white",
            "ticks": ""
           },
           "bgcolor": "#E5ECF6",
           "radialaxis": {
            "gridcolor": "white",
            "linecolor": "white",
            "ticks": ""
           }
          },
          "scene": {
           "xaxis": {
            "backgroundcolor": "#E5ECF6",
            "gridcolor": "white",
            "gridwidth": 2,
            "linecolor": "white",
            "showbackground": true,
            "ticks": "",
            "zerolinecolor": "white"
           },
           "yaxis": {
            "backgroundcolor": "#E5ECF6",
            "gridcolor": "white",
            "gridwidth": 2,
            "linecolor": "white",
            "showbackground": true,
            "ticks": "",
            "zerolinecolor": "white"
           },
           "zaxis": {
            "backgroundcolor": "#E5ECF6",
            "gridcolor": "white",
            "gridwidth": 2,
            "linecolor": "white",
            "showbackground": true,
            "ticks": "",
            "zerolinecolor": "white"
           }
          },
          "shapedefaults": {
           "line": {
            "color": "#2a3f5f"
           }
          },
          "ternary": {
           "aaxis": {
            "gridcolor": "white",
            "linecolor": "white",
            "ticks": ""
           },
           "baxis": {
            "gridcolor": "white",
            "linecolor": "white",
            "ticks": ""
           },
           "bgcolor": "#E5ECF6",
           "caxis": {
            "gridcolor": "white",
            "linecolor": "white",
            "ticks": ""
           }
          },
          "title": {
           "x": 0.05
          },
          "xaxis": {
           "automargin": true,
           "gridcolor": "white",
           "linecolor": "white",
           "ticks": "",
           "title": {
            "standoff": 15
           },
           "zerolinecolor": "white",
           "zerolinewidth": 2
          },
          "yaxis": {
           "automargin": true,
           "gridcolor": "white",
           "linecolor": "white",
           "ticks": "",
           "title": {
            "standoff": 15
           },
           "zerolinecolor": "white",
           "zerolinewidth": 2
          }
         }
        },
        "uniformtext": {
         "minsize": 8,
         "mode": "hide"
        },
        "xaxis": {
         "anchor": "y",
         "domain": [
          0,
          1
         ],
         "title": {
          "text": "text"
         }
        },
        "yaxis": {
         "anchor": "x",
         "domain": [
          0,
          1
         ],
         "title": {
          "text": "dezinf"
         }
        }
       }
      },
      "text/html": [
       "<div>\n",
       "        \n",
       "        \n",
       "            <div id=\"5a832cb7-c43c-4663-b6fd-97ea7d3917ed\" class=\"plotly-graph-div\" style=\"height:525px; width:100%;\"></div>\n",
       "            <script type=\"text/javascript\">\n",
       "                require([\"plotly\"], function(Plotly) {\n",
       "                    window.PLOTLYENV=window.PLOTLYENV || {};\n",
       "                    \n",
       "                if (document.getElementById(\"5a832cb7-c43c-4663-b6fd-97ea7d3917ed\")) {\n",
       "                    Plotly.newPlot(\n",
       "                        '5a832cb7-c43c-4663-b6fd-97ea7d3917ed',\n",
       "                        [{\"alignmentgroup\": \"True\", \"hovertemplate\": \"text=%{text}<br>dezinf=%{y}<extra></extra>\", \"legendgroup\": \"\", \"marker\": {\"color\": \"#636efa\"}, \"name\": \"\", \"offsetgroup\": \"\", \"orientation\": \"h\", \"showlegend\": false, \"text\": [13276.0, 50358.0], \"textposition\": \"outside\", \"texttemplate\": \"%{text:.2s}\", \"type\": \"bar\", \"x\": [13276, 50358], \"xaxis\": \"x\", \"y\": [1, 0], \"yaxis\": \"y\"}],\n",
       "                        {\"barmode\": \"relative\", \"legend\": {\"tracegroupgap\": 0}, \"margin\": {\"t\": 60}, \"template\": {\"data\": {\"bar\": [{\"error_x\": {\"color\": \"#2a3f5f\"}, \"error_y\": {\"color\": \"#2a3f5f\"}, \"marker\": {\"line\": {\"color\": \"#E5ECF6\", \"width\": 0.5}}, \"type\": \"bar\"}], \"barpolar\": [{\"marker\": {\"line\": {\"color\": \"#E5ECF6\", \"width\": 0.5}}, \"type\": \"barpolar\"}], \"carpet\": [{\"aaxis\": {\"endlinecolor\": \"#2a3f5f\", \"gridcolor\": \"white\", \"linecolor\": \"white\", \"minorgridcolor\": \"white\", \"startlinecolor\": \"#2a3f5f\"}, \"baxis\": {\"endlinecolor\": \"#2a3f5f\", \"gridcolor\": \"white\", \"linecolor\": \"white\", \"minorgridcolor\": \"white\", \"startlinecolor\": \"#2a3f5f\"}, \"type\": \"carpet\"}], \"choropleth\": [{\"colorbar\": {\"outlinewidth\": 0, \"ticks\": \"\"}, \"type\": \"choropleth\"}], \"contour\": [{\"colorbar\": {\"outlinewidth\": 0, \"ticks\": \"\"}, \"colorscale\": [[0.0, \"#0d0887\"], [0.1111111111111111, \"#46039f\"], [0.2222222222222222, \"#7201a8\"], [0.3333333333333333, \"#9c179e\"], [0.4444444444444444, \"#bd3786\"], [0.5555555555555556, \"#d8576b\"], [0.6666666666666666, \"#ed7953\"], [0.7777777777777778, \"#fb9f3a\"], [0.8888888888888888, \"#fdca26\"], [1.0, \"#f0f921\"]], \"type\": \"contour\"}], \"contourcarpet\": [{\"colorbar\": {\"outlinewidth\": 0, \"ticks\": \"\"}, \"type\": \"contourcarpet\"}], \"heatmap\": [{\"colorbar\": {\"outlinewidth\": 0, \"ticks\": \"\"}, \"colorscale\": [[0.0, \"#0d0887\"], [0.1111111111111111, \"#46039f\"], [0.2222222222222222, \"#7201a8\"], [0.3333333333333333, \"#9c179e\"], [0.4444444444444444, \"#bd3786\"], [0.5555555555555556, \"#d8576b\"], [0.6666666666666666, \"#ed7953\"], [0.7777777777777778, \"#fb9f3a\"], [0.8888888888888888, \"#fdca26\"], [1.0, \"#f0f921\"]], \"type\": \"heatmap\"}], \"heatmapgl\": [{\"colorbar\": {\"outlinewidth\": 0, \"ticks\": \"\"}, \"colorscale\": [[0.0, \"#0d0887\"], [0.1111111111111111, \"#46039f\"], [0.2222222222222222, \"#7201a8\"], [0.3333333333333333, \"#9c179e\"], [0.4444444444444444, \"#bd3786\"], [0.5555555555555556, \"#d8576b\"], [0.6666666666666666, \"#ed7953\"], [0.7777777777777778, \"#fb9f3a\"], [0.8888888888888888, \"#fdca26\"], [1.0, \"#f0f921\"]], \"type\": \"heatmapgl\"}], \"histogram\": [{\"marker\": {\"colorbar\": {\"outlinewidth\": 0, \"ticks\": \"\"}}, \"type\": \"histogram\"}], \"histogram2d\": [{\"colorbar\": {\"outlinewidth\": 0, \"ticks\": \"\"}, \"colorscale\": [[0.0, \"#0d0887\"], [0.1111111111111111, \"#46039f\"], [0.2222222222222222, \"#7201a8\"], [0.3333333333333333, \"#9c179e\"], [0.4444444444444444, \"#bd3786\"], [0.5555555555555556, \"#d8576b\"], [0.6666666666666666, \"#ed7953\"], [0.7777777777777778, \"#fb9f3a\"], [0.8888888888888888, \"#fdca26\"], [1.0, \"#f0f921\"]], \"type\": \"histogram2d\"}], \"histogram2dcontour\": [{\"colorbar\": {\"outlinewidth\": 0, \"ticks\": \"\"}, \"colorscale\": [[0.0, \"#0d0887\"], [0.1111111111111111, \"#46039f\"], [0.2222222222222222, \"#7201a8\"], [0.3333333333333333, \"#9c179e\"], [0.4444444444444444, \"#bd3786\"], [0.5555555555555556, \"#d8576b\"], [0.6666666666666666, \"#ed7953\"], [0.7777777777777778, \"#fb9f3a\"], [0.8888888888888888, \"#fdca26\"], [1.0, \"#f0f921\"]], \"type\": \"histogram2dcontour\"}], \"mesh3d\": [{\"colorbar\": {\"outlinewidth\": 0, \"ticks\": \"\"}, \"type\": \"mesh3d\"}], \"parcoords\": [{\"line\": {\"colorbar\": {\"outlinewidth\": 0, \"ticks\": \"\"}}, \"type\": \"parcoords\"}], \"pie\": [{\"automargin\": true, \"type\": \"pie\"}], \"scatter\": [{\"marker\": {\"colorbar\": {\"outlinewidth\": 0, \"ticks\": \"\"}}, \"type\": \"scatter\"}], \"scatter3d\": [{\"line\": {\"colorbar\": {\"outlinewidth\": 0, \"ticks\": \"\"}}, \"marker\": {\"colorbar\": {\"outlinewidth\": 0, \"ticks\": \"\"}}, \"type\": \"scatter3d\"}], \"scattercarpet\": [{\"marker\": {\"colorbar\": {\"outlinewidth\": 0, \"ticks\": \"\"}}, \"type\": \"scattercarpet\"}], \"scattergeo\": [{\"marker\": {\"colorbar\": {\"outlinewidth\": 0, \"ticks\": \"\"}}, \"type\": \"scattergeo\"}], \"scattergl\": [{\"marker\": {\"colorbar\": {\"outlinewidth\": 0, \"ticks\": \"\"}}, \"type\": \"scattergl\"}], \"scattermapbox\": [{\"marker\": {\"colorbar\": {\"outlinewidth\": 0, \"ticks\": \"\"}}, \"type\": \"scattermapbox\"}], \"scatterpolar\": [{\"marker\": {\"colorbar\": {\"outlinewidth\": 0, \"ticks\": \"\"}}, \"type\": \"scatterpolar\"}], \"scatterpolargl\": [{\"marker\": {\"colorbar\": {\"outlinewidth\": 0, \"ticks\": \"\"}}, \"type\": \"scatterpolargl\"}], \"scatterternary\": [{\"marker\": {\"colorbar\": {\"outlinewidth\": 0, \"ticks\": \"\"}}, \"type\": \"scatterternary\"}], \"surface\": [{\"colorbar\": {\"outlinewidth\": 0, \"ticks\": \"\"}, \"colorscale\": [[0.0, \"#0d0887\"], [0.1111111111111111, \"#46039f\"], [0.2222222222222222, \"#7201a8\"], [0.3333333333333333, \"#9c179e\"], [0.4444444444444444, \"#bd3786\"], [0.5555555555555556, \"#d8576b\"], [0.6666666666666666, \"#ed7953\"], [0.7777777777777778, \"#fb9f3a\"], [0.8888888888888888, \"#fdca26\"], [1.0, \"#f0f921\"]], \"type\": \"surface\"}], \"table\": [{\"cells\": {\"fill\": {\"color\": \"#EBF0F8\"}, \"line\": {\"color\": \"white\"}}, \"header\": {\"fill\": {\"color\": \"#C8D4E3\"}, \"line\": {\"color\": \"white\"}}, \"type\": \"table\"}]}, \"layout\": {\"annotationdefaults\": {\"arrowcolor\": \"#2a3f5f\", \"arrowhead\": 0, \"arrowwidth\": 1}, \"coloraxis\": {\"colorbar\": {\"outlinewidth\": 0, \"ticks\": \"\"}}, \"colorscale\": {\"diverging\": [[0, \"#8e0152\"], [0.1, \"#c51b7d\"], [0.2, \"#de77ae\"], [0.3, \"#f1b6da\"], [0.4, \"#fde0ef\"], [0.5, \"#f7f7f7\"], [0.6, \"#e6f5d0\"], [0.7, \"#b8e186\"], [0.8, \"#7fbc41\"], [0.9, \"#4d9221\"], [1, \"#276419\"]], \"sequential\": [[0.0, \"#0d0887\"], [0.1111111111111111, \"#46039f\"], [0.2222222222222222, \"#7201a8\"], [0.3333333333333333, \"#9c179e\"], [0.4444444444444444, \"#bd3786\"], [0.5555555555555556, \"#d8576b\"], [0.6666666666666666, \"#ed7953\"], [0.7777777777777778, \"#fb9f3a\"], [0.8888888888888888, \"#fdca26\"], [1.0, \"#f0f921\"]], \"sequentialminus\": [[0.0, \"#0d0887\"], [0.1111111111111111, \"#46039f\"], [0.2222222222222222, \"#7201a8\"], [0.3333333333333333, \"#9c179e\"], [0.4444444444444444, \"#bd3786\"], [0.5555555555555556, \"#d8576b\"], [0.6666666666666666, \"#ed7953\"], [0.7777777777777778, \"#fb9f3a\"], [0.8888888888888888, \"#fdca26\"], [1.0, \"#f0f921\"]]}, \"colorway\": [\"#636efa\", \"#EF553B\", \"#00cc96\", \"#ab63fa\", \"#FFA15A\", \"#19d3f3\", \"#FF6692\", \"#B6E880\", \"#FF97FF\", \"#FECB52\"], \"font\": {\"color\": \"#2a3f5f\"}, \"geo\": {\"bgcolor\": \"white\", \"lakecolor\": \"white\", \"landcolor\": \"#E5ECF6\", \"showlakes\": true, \"showland\": true, \"subunitcolor\": \"white\"}, \"hoverlabel\": {\"align\": \"left\"}, \"hovermode\": \"closest\", \"mapbox\": {\"style\": \"light\"}, \"paper_bgcolor\": \"white\", \"plot_bgcolor\": \"#E5ECF6\", \"polar\": {\"angularaxis\": {\"gridcolor\": \"white\", \"linecolor\": \"white\", \"ticks\": \"\"}, \"bgcolor\": \"#E5ECF6\", \"radialaxis\": {\"gridcolor\": \"white\", \"linecolor\": \"white\", \"ticks\": \"\"}}, \"scene\": {\"xaxis\": {\"backgroundcolor\": \"#E5ECF6\", \"gridcolor\": \"white\", \"gridwidth\": 2, \"linecolor\": \"white\", \"showbackground\": true, \"ticks\": \"\", \"zerolinecolor\": \"white\"}, \"yaxis\": {\"backgroundcolor\": \"#E5ECF6\", \"gridcolor\": \"white\", \"gridwidth\": 2, \"linecolor\": \"white\", \"showbackground\": true, \"ticks\": \"\", \"zerolinecolor\": \"white\"}, \"zaxis\": {\"backgroundcolor\": \"#E5ECF6\", \"gridcolor\": \"white\", \"gridwidth\": 2, \"linecolor\": \"white\", \"showbackground\": true, \"ticks\": \"\", \"zerolinecolor\": \"white\"}}, \"shapedefaults\": {\"line\": {\"color\": \"#2a3f5f\"}}, \"ternary\": {\"aaxis\": {\"gridcolor\": \"white\", \"linecolor\": \"white\", \"ticks\": \"\"}, \"baxis\": {\"gridcolor\": \"white\", \"linecolor\": \"white\", \"ticks\": \"\"}, \"bgcolor\": \"#E5ECF6\", \"caxis\": {\"gridcolor\": \"white\", \"linecolor\": \"white\", \"ticks\": \"\"}}, \"title\": {\"x\": 0.05}, \"xaxis\": {\"automargin\": true, \"gridcolor\": \"white\", \"linecolor\": \"white\", \"ticks\": \"\", \"title\": {\"standoff\": 15}, \"zerolinecolor\": \"white\", \"zerolinewidth\": 2}, \"yaxis\": {\"automargin\": true, \"gridcolor\": \"white\", \"linecolor\": \"white\", \"ticks\": \"\", \"title\": {\"standoff\": 15}, \"zerolinecolor\": \"white\", \"zerolinewidth\": 2}}}, \"uniformtext\": {\"minsize\": 8, \"mode\": \"hide\"}, \"xaxis\": {\"anchor\": \"y\", \"domain\": [0.0, 1.0], \"title\": {\"text\": \"text\"}}, \"yaxis\": {\"anchor\": \"x\", \"domain\": [0.0, 1.0], \"title\": {\"text\": \"dezinf\"}}},\n",
       "                        {\"responsive\": true}\n",
       "                    ).then(function(){\n",
       "                            \n",
       "var gd = document.getElementById('5a832cb7-c43c-4663-b6fd-97ea7d3917ed');\n",
       "var x = new MutationObserver(function (mutations, observer) {{\n",
       "        var display = window.getComputedStyle(gd).display;\n",
       "        if (!display || display === 'none') {{\n",
       "            console.log([gd, 'removed!']);\n",
       "            Plotly.purge(gd);\n",
       "            observer.disconnect();\n",
       "        }}\n",
       "}});\n",
       "\n",
       "// Listen for the removal of the full notebook cells\n",
       "var notebookContainer = gd.closest('#notebook-container');\n",
       "if (notebookContainer) {{\n",
       "    x.observe(notebookContainer, {childList: true});\n",
       "}}\n",
       "\n",
       "// Listen for the clearing of the current output cell\n",
       "var outputEl = gd.closest('.output');\n",
       "if (outputEl) {{\n",
       "    x.observe(outputEl, {childList: true});\n",
       "}}\n",
       "\n",
       "                        })\n",
       "                };\n",
       "                });\n",
       "            </script>\n",
       "        </div>"
      ]
     },
     "metadata": {},
     "output_type": "display_data"
    }
   ],
   "source": [
    "fig = px.bar(df_count_2, x=\"text\", y=\"dezinf\", text=\"text\", orientation='h')\n",
    "fig.update_traces(texttemplate='%{text:.2s}', textposition='outside')\n",
    "fig.update_layout(uniformtext_minsize=8, uniformtext_mode='hide')\n",
    "fig.show()"
   ]
  },
  {
   "cell_type": "markdown",
   "metadata": {},
   "source": [
    "### 5. Feature engineering"
   ]
  },
  {
   "cell_type": "markdown",
   "metadata": {},
   "source": [
    "### 5.1 Extract information from the title "
   ]
  },
  {
   "cell_type": "markdown",
   "metadata": {},
   "source": [
    "#### 5.1.1 Word count of the titles"
   ]
  },
  {
   "cell_type": "code",
   "execution_count": 48,
   "metadata": {},
   "outputs": [
    {
     "data": {
      "text/html": [
       "<div>\n",
       "<style scoped>\n",
       "    .dataframe tbody tr th:only-of-type {\n",
       "        vertical-align: middle;\n",
       "    }\n",
       "\n",
       "    .dataframe tbody tr th {\n",
       "        vertical-align: top;\n",
       "    }\n",
       "\n",
       "    .dataframe thead th {\n",
       "        text-align: right;\n",
       "    }\n",
       "</style>\n",
       "<table border=\"1\" class=\"dataframe\">\n",
       "  <thead>\n",
       "    <tr style=\"text-align: right;\">\n",
       "      <th></th>\n",
       "      <th>title</th>\n",
       "      <th>title_word_cnt</th>\n",
       "    </tr>\n",
       "  </thead>\n",
       "  <tbody>\n",
       "    <tr>\n",
       "      <th>\"56\"</th>\n",
       "      <td>4000 szexstreamer adatai kerültek nyilvánosságra</td>\n",
       "      <td>5</td>\n",
       "    </tr>\n",
       "    <tr>\n",
       "      <th>\"70\"</th>\n",
       "      <td>Ukrán állampolgárok adatai szivárogtak ki egy ...</td>\n",
       "      <td>8</td>\n",
       "    </tr>\n",
       "  </tbody>\n",
       "</table>\n",
       "</div>"
      ],
      "text/plain": [
       "                                                  title  title_word_cnt\n",
       "\"56\"   4000 szexstreamer adatai kerültek nyilvánosságra               5\n",
       "\"70\"  Ukrán állampolgárok adatai szivárogtak ki egy ...               8"
      ]
     },
     "execution_count": 48,
     "metadata": {},
     "output_type": "execute_result"
    }
   ],
   "source": [
    "abt_covid['title_word_cnt'] = abt_covid.title.apply(lambda x: len(str(x).split(\" \"))) \n",
    "abt_covid[['title', 'title_word_cnt']][0:2]"
   ]
  },
  {
   "cell_type": "markdown",
   "metadata": {},
   "source": [
    "#### 5.1.2 Average word length of the title"
   ]
  },
  {
   "cell_type": "code",
   "execution_count": 49,
   "metadata": {},
   "outputs": [
    {
     "data": {
      "text/html": [
       "<div>\n",
       "<style scoped>\n",
       "    .dataframe tbody tr th:only-of-type {\n",
       "        vertical-align: middle;\n",
       "    }\n",
       "\n",
       "    .dataframe tbody tr th {\n",
       "        vertical-align: top;\n",
       "    }\n",
       "\n",
       "    .dataframe thead th {\n",
       "        text-align: right;\n",
       "    }\n",
       "</style>\n",
       "<table border=\"1\" class=\"dataframe\">\n",
       "  <thead>\n",
       "    <tr style=\"text-align: right;\">\n",
       "      <th></th>\n",
       "      <th>title</th>\n",
       "      <th>title_avg_word</th>\n",
       "    </tr>\n",
       "  </thead>\n",
       "  <tbody>\n",
       "    <tr>\n",
       "      <th>\"56\"</th>\n",
       "      <td>4000 szexstreamer adatai kerültek nyilvánosságra</td>\n",
       "      <td>8.800</td>\n",
       "    </tr>\n",
       "    <tr>\n",
       "      <th>\"70\"</th>\n",
       "      <td>Ukrán állampolgárok adatai szivárogtak ki egy ...</td>\n",
       "      <td>7.125</td>\n",
       "    </tr>\n",
       "  </tbody>\n",
       "</table>\n",
       "</div>"
      ],
      "text/plain": [
       "                                                  title  title_avg_word\n",
       "\"56\"   4000 szexstreamer adatai kerültek nyilvánosságra           8.800\n",
       "\"70\"  Ukrán állampolgárok adatai szivárogtak ki egy ...           7.125"
      ]
     },
     "execution_count": 49,
     "metadata": {},
     "output_type": "execute_result"
    }
   ],
   "source": [
    "def avg_word(sentence):\n",
    "  words = sentence.split()\n",
    "  return (sum(len(word) for word in words)/len(words))\n",
    "\n",
    "abt_covid['title_avg_word'] = abt_covid['title'].apply(lambda x: avg_word(x))\n",
    "abt_covid[['title', 'title_avg_word']][0:2]"
   ]
  },
  {
   "cell_type": "markdown",
   "metadata": {},
   "source": [
    "#### 5.1.3 Count of exclamation mark in the title"
   ]
  },
  {
   "cell_type": "code",
   "execution_count": 50,
   "metadata": {},
   "outputs": [
    {
     "data": {
      "text/html": [
       "<div>\n",
       "<style scoped>\n",
       "    .dataframe tbody tr th:only-of-type {\n",
       "        vertical-align: middle;\n",
       "    }\n",
       "\n",
       "    .dataframe tbody tr th {\n",
       "        vertical-align: top;\n",
       "    }\n",
       "\n",
       "    .dataframe thead th {\n",
       "        text-align: right;\n",
       "    }\n",
       "</style>\n",
       "<table border=\"1\" class=\"dataframe\">\n",
       "  <thead>\n",
       "    <tr style=\"text-align: right;\">\n",
       "      <th></th>\n",
       "      <th>title</th>\n",
       "      <th>title_exclam_num</th>\n",
       "    </tr>\n",
       "  </thead>\n",
       "  <tbody>\n",
       "    <tr>\n",
       "      <th>\"1200\"</th>\n",
       "      <td>FONTOS!!! TUDJON RÓLA! VESZÉLY!!!! Tombol a já...</td>\n",
       "      <td>11</td>\n",
       "    </tr>\n",
       "    <tr>\n",
       "      <th>\"6673\"</th>\n",
       "      <td>Figyelem! Most érkezett!!! ITT VAN A KANYARÓ B...</td>\n",
       "      <td>10</td>\n",
       "    </tr>\n",
       "  </tbody>\n",
       "</table>\n",
       "</div>"
      ],
      "text/plain": [
       "                                                    title  title_exclam_num\n",
       "\"1200\"  FONTOS!!! TUDJON RÓLA! VESZÉLY!!!! Tombol a já...                11\n",
       "\"6673\"  Figyelem! Most érkezett!!! ITT VAN A KANYARÓ B...                10"
      ]
     },
     "execution_count": 50,
     "metadata": {},
     "output_type": "execute_result"
    }
   ],
   "source": [
    "abt_covid['title_exclam_num'] = abt_covid['title'].str.count('\\\\!')\n",
    "abt_covid[['title', 'title_exclam_num']].sort_values(by=[\"title_exclam_num\"], ascending=False)[0:2]"
   ]
  },
  {
   "cell_type": "markdown",
   "metadata": {},
   "source": [
    "#### 5.1.4 Count of question mark in the title"
   ]
  },
  {
   "cell_type": "code",
   "execution_count": 51,
   "metadata": {},
   "outputs": [
    {
     "data": {
      "text/html": [
       "<div>\n",
       "<style scoped>\n",
       "    .dataframe tbody tr th:only-of-type {\n",
       "        vertical-align: middle;\n",
       "    }\n",
       "\n",
       "    .dataframe tbody tr th {\n",
       "        vertical-align: top;\n",
       "    }\n",
       "\n",
       "    .dataframe thead th {\n",
       "        text-align: right;\n",
       "    }\n",
       "</style>\n",
       "<table border=\"1\" class=\"dataframe\">\n",
       "  <thead>\n",
       "    <tr style=\"text-align: right;\">\n",
       "      <th></th>\n",
       "      <th>title</th>\n",
       "      <th>title_ques_num</th>\n",
       "    </tr>\n",
       "  </thead>\n",
       "  <tbody>\n",
       "    <tr>\n",
       "      <th>\"2604\"</th>\n",
       "      <td>KISZIVÁRGOTT!!! Jön a nagy bejelentés? TÉNYLEG...</td>\n",
       "      <td>5</td>\n",
       "    </tr>\n",
       "    <tr>\n",
       "      <th>\"2535\"</th>\n",
       "      <td>NEE!!Ez egy agyrém! Erre kérik az iskolás korú...</td>\n",
       "      <td>4</td>\n",
       "    </tr>\n",
       "  </tbody>\n",
       "</table>\n",
       "</div>"
      ],
      "text/plain": [
       "                                                    title  title_ques_num\n",
       "\"2604\"  KISZIVÁRGOTT!!! Jön a nagy bejelentés? TÉNYLEG...               5\n",
       "\"2535\"  NEE!!Ez egy agyrém! Erre kérik az iskolás korú...               4"
      ]
     },
     "execution_count": 51,
     "metadata": {},
     "output_type": "execute_result"
    }
   ],
   "source": [
    "abt_covid['title_ques_num'] = abt_covid['title'].str.count('\\\\?')\n",
    "abt_covid[['title', 'title_ques_num']].sort_values(by=[\"title_ques_num\"], ascending=False)[0:2]"
   ]
  },
  {
   "cell_type": "markdown",
   "metadata": {},
   "source": [
    "#### 5.1.5 Count of stop words in the title"
   ]
  },
  {
   "cell_type": "code",
   "execution_count": 52,
   "metadata": {},
   "outputs": [
    {
     "data": {
      "text/html": [
       "<div>\n",
       "<style scoped>\n",
       "    .dataframe tbody tr th:only-of-type {\n",
       "        vertical-align: middle;\n",
       "    }\n",
       "\n",
       "    .dataframe tbody tr th {\n",
       "        vertical-align: top;\n",
       "    }\n",
       "\n",
       "    .dataframe thead th {\n",
       "        text-align: right;\n",
       "    }\n",
       "</style>\n",
       "<table border=\"1\" class=\"dataframe\">\n",
       "  <thead>\n",
       "    <tr style=\"text-align: right;\">\n",
       "      <th></th>\n",
       "      <th>title</th>\n",
       "      <th>title_stop_cnt</th>\n",
       "    </tr>\n",
       "  </thead>\n",
       "  <tbody>\n",
       "    <tr>\n",
       "      <th>\"56\"</th>\n",
       "      <td>4000 szexstreamer adatai kerültek nyilvánosságra</td>\n",
       "      <td>0</td>\n",
       "    </tr>\n",
       "    <tr>\n",
       "      <th>\"70\"</th>\n",
       "      <td>Ukrán állampolgárok adatai szivárogtak ki egy ...</td>\n",
       "      <td>2</td>\n",
       "    </tr>\n",
       "    <tr>\n",
       "      <th>\"132\"</th>\n",
       "      <td>Kell-e rettegnünk az új kínai tüdőgyulladástól?</td>\n",
       "      <td>2</td>\n",
       "    </tr>\n",
       "  </tbody>\n",
       "</table>\n",
       "</div>"
      ],
      "text/plain": [
       "                                                   title  title_stop_cnt\n",
       "\"56\"    4000 szexstreamer adatai kerültek nyilvánosságra               0\n",
       "\"70\"   Ukrán állampolgárok adatai szivárogtak ki egy ...               2\n",
       "\"132\"    Kell-e rettegnünk az új kínai tüdőgyulladástól?               2"
      ]
     },
     "execution_count": 52,
     "metadata": {},
     "output_type": "execute_result"
    }
   ],
   "source": [
    "abt_covid['title_stop_cnt'] = abt_covid['title'].apply(lambda x: len([x for x in x.split() if x in stop]))\n",
    "abt_covid[['title', 'title_stop_cnt']].head(3)"
   ]
  },
  {
   "cell_type": "markdown",
   "metadata": {},
   "source": [
    "#### 5.1.6 Count of capital words in the title"
   ]
  },
  {
   "cell_type": "code",
   "execution_count": 53,
   "metadata": {
    "scrolled": true
   },
   "outputs": [
    {
     "data": {
      "text/html": [
       "<div>\n",
       "<style scoped>\n",
       "    .dataframe tbody tr th:only-of-type {\n",
       "        vertical-align: middle;\n",
       "    }\n",
       "\n",
       "    .dataframe tbody tr th {\n",
       "        vertical-align: top;\n",
       "    }\n",
       "\n",
       "    .dataframe thead th {\n",
       "        text-align: right;\n",
       "    }\n",
       "</style>\n",
       "<table border=\"1\" class=\"dataframe\">\n",
       "  <thead>\n",
       "    <tr style=\"text-align: right;\">\n",
       "      <th></th>\n",
       "      <th>title</th>\n",
       "      <th>title_cnt_upper</th>\n",
       "    </tr>\n",
       "  </thead>\n",
       "  <tbody>\n",
       "    <tr>\n",
       "      <th>\"2387\"</th>\n",
       "      <td>Ma reggel jelentették be ,sok az új fertőzött ...</td>\n",
       "      <td>23</td>\n",
       "    </tr>\n",
       "    <tr>\n",
       "      <th>\"992\"</th>\n",
       "      <td>ITT A ROSSZ HÍR! Koronavírus – ezekben a magya...</td>\n",
       "      <td>23</td>\n",
       "    </tr>\n",
       "    <tr>\n",
       "      <th>\"1340\"</th>\n",
       "      <td>ÚJ ADAT! MOST JELENTETTÉK BE! EKKOR LEHET VÉGL...</td>\n",
       "      <td>21</td>\n",
       "    </tr>\n",
       "  </tbody>\n",
       "</table>\n",
       "</div>"
      ],
      "text/plain": [
       "                                                    title  title_cnt_upper\n",
       "\"2387\"  Ma reggel jelentették be ,sok az új fertőzött ...               23\n",
       "\"992\"   ITT A ROSSZ HÍR! Koronavírus – ezekben a magya...               23\n",
       "\"1340\"  ÚJ ADAT! MOST JELENTETTÉK BE! EKKOR LEHET VÉGL...               21"
      ]
     },
     "execution_count": 53,
     "metadata": {},
     "output_type": "execute_result"
    }
   ],
   "source": [
    "abt_covid['title_cnt_upper'] = abt_covid.title.apply(lambda x: len([x for x in x.split() if x.isupper()]))\n",
    "abt_covid[['title', 'title_cnt_upper']].sort_values(by=[\"title_cnt_upper\"], ascending=False)[0:3]"
   ]
  },
  {
   "cell_type": "markdown",
   "metadata": {},
   "source": [
    "#### 5.1.7 Count of numeric values in the title"
   ]
  },
  {
   "cell_type": "code",
   "execution_count": 70,
   "metadata": {},
   "outputs": [
    {
     "data": {
      "text/html": [
       "<div>\n",
       "<style scoped>\n",
       "    .dataframe tbody tr th:only-of-type {\n",
       "        vertical-align: middle;\n",
       "    }\n",
       "\n",
       "    .dataframe tbody tr th {\n",
       "        vertical-align: top;\n",
       "    }\n",
       "\n",
       "    .dataframe thead th {\n",
       "        text-align: right;\n",
       "    }\n",
       "</style>\n",
       "<table border=\"1\" class=\"dataframe\">\n",
       "  <thead>\n",
       "    <tr style=\"text-align: right;\">\n",
       "      <th></th>\n",
       "      <th>title</th>\n",
       "      <th>title_cnt_num</th>\n",
       "      <th>source</th>\n",
       "    </tr>\n",
       "  </thead>\n",
       "  <tbody>\n",
       "    <tr>\n",
       "      <th>\"279\"</th>\n",
       "      <td>Fizetés emelést kaptak a képviselők .Kövér Lás...</td>\n",
       "      <td>22</td>\n",
       "      <td>minden-egyben.com</td>\n",
       "    </tr>\n",
       "    <tr>\n",
       "      <th>\"2131\"</th>\n",
       "      <td>Megszólalt a WHO: Lehet, hogy a vírus sosem ...</td>\n",
       "      <td>20</td>\n",
       "      <td>eztnezdmeg.com</td>\n",
       "    </tr>\n",
       "    <tr>\n",
       "      <th>\"17\"</th>\n",
       "      <td>Megszólalt a WHO: Lehet, hogy a vírus sosem ...</td>\n",
       "      <td>20</td>\n",
       "      <td>eztnezdmeg.com</td>\n",
       "    </tr>\n",
       "  </tbody>\n",
       "</table>\n",
       "</div>"
      ],
      "text/plain": [
       "                                                    title  title_cnt_num  \\\n",
       "\"279\"   Fizetés emelést kaptak a képviselők .Kövér Lás...             22   \n",
       "\"2131\"    Megszólalt a WHO: Lehet, hogy a vírus sosem ...             20   \n",
       "\"17\"      Megszólalt a WHO: Lehet, hogy a vírus sosem ...             20   \n",
       "\n",
       "                   source  \n",
       "\"279\"   minden-egyben.com  \n",
       "\"2131\"     eztnezdmeg.com  \n",
       "\"17\"       eztnezdmeg.com  "
      ]
     },
     "execution_count": 70,
     "metadata": {},
     "output_type": "execute_result"
    }
   ],
   "source": [
    "abt_covid['title_cnt_num'] = abt_covid['title'].str.count('[0-9]')\n",
    "abt_covid[['title', 'title_cnt_num', 'source']].sort_values(by=[\"title_cnt_num\"], ascending=False)[0:3]"
   ]
  },
  {
   "cell_type": "markdown",
   "metadata": {},
   "source": [
    "### 5.2 Extract information from the article"
   ]
  },
  {
   "cell_type": "markdown",
   "metadata": {},
   "source": [
    "#### 5.2.1 Word count of the text"
   ]
  },
  {
   "cell_type": "code",
   "execution_count": 54,
   "metadata": {
    "scrolled": true
   },
   "outputs": [
    {
     "data": {
      "text/html": [
       "<div>\n",
       "<style scoped>\n",
       "    .dataframe tbody tr th:only-of-type {\n",
       "        vertical-align: middle;\n",
       "    }\n",
       "\n",
       "    .dataframe tbody tr th {\n",
       "        vertical-align: top;\n",
       "    }\n",
       "\n",
       "    .dataframe thead th {\n",
       "        text-align: right;\n",
       "    }\n",
       "</style>\n",
       "<table border=\"1\" class=\"dataframe\">\n",
       "  <thead>\n",
       "    <tr style=\"text-align: right;\">\n",
       "      <th></th>\n",
       "      <th>text</th>\n",
       "      <th>text_word_cnt</th>\n",
       "    </tr>\n",
       "  </thead>\n",
       "  <tbody>\n",
       "    <tr>\n",
       "      <th>\"56\"</th>\n",
       "      <td>A vpnMentor biztonságtechnikai kutatói 875 ez...</td>\n",
       "      <td>224</td>\n",
       "    </tr>\n",
       "    <tr>\n",
       "      <th>\"70\"</th>\n",
       "      <td>Újabb kiberbiztonsági probléma Ukrajnában: a ...</td>\n",
       "      <td>172</td>\n",
       "    </tr>\n",
       "  </tbody>\n",
       "</table>\n",
       "</div>"
      ],
      "text/plain": [
       "                                                   text  text_word_cnt\n",
       "\"56\"   A vpnMentor biztonságtechnikai kutatói 875 ez...            224\n",
       "\"70\"   Újabb kiberbiztonsági probléma Ukrajnában: a ...            172"
      ]
     },
     "execution_count": 54,
     "metadata": {},
     "output_type": "execute_result"
    }
   ],
   "source": [
    "abt_covid['text_word_cnt'] = abt_covid.text.apply(lambda x: len(str(x).split(\" \"))) \n",
    "abt_covid[['text', 'text_word_cnt']][0:2]"
   ]
  },
  {
   "cell_type": "markdown",
   "metadata": {},
   "source": [
    "#### 5.2.2 Average word length of the text"
   ]
  },
  {
   "cell_type": "code",
   "execution_count": 55,
   "metadata": {},
   "outputs": [
    {
     "data": {
      "text/html": [
       "<div>\n",
       "<style scoped>\n",
       "    .dataframe tbody tr th:only-of-type {\n",
       "        vertical-align: middle;\n",
       "    }\n",
       "\n",
       "    .dataframe tbody tr th {\n",
       "        vertical-align: top;\n",
       "    }\n",
       "\n",
       "    .dataframe thead th {\n",
       "        text-align: right;\n",
       "    }\n",
       "</style>\n",
       "<table border=\"1\" class=\"dataframe\">\n",
       "  <thead>\n",
       "    <tr style=\"text-align: right;\">\n",
       "      <th></th>\n",
       "      <th>text</th>\n",
       "      <th>text_avg_word</th>\n",
       "    </tr>\n",
       "  </thead>\n",
       "  <tbody>\n",
       "    <tr>\n",
       "      <th>\"56\"</th>\n",
       "      <td>A vpnMentor biztonságtechnikai kutatói 875 ez...</td>\n",
       "      <td>6.628959</td>\n",
       "    </tr>\n",
       "    <tr>\n",
       "      <th>\"70\"</th>\n",
       "      <td>Újabb kiberbiztonsági probléma Ukrajnában: a ...</td>\n",
       "      <td>7.136095</td>\n",
       "    </tr>\n",
       "  </tbody>\n",
       "</table>\n",
       "</div>"
      ],
      "text/plain": [
       "                                                   text  text_avg_word\n",
       "\"56\"   A vpnMentor biztonságtechnikai kutatói 875 ez...       6.628959\n",
       "\"70\"   Újabb kiberbiztonsági probléma Ukrajnában: a ...       7.136095"
      ]
     },
     "execution_count": 55,
     "metadata": {},
     "output_type": "execute_result"
    }
   ],
   "source": [
    "def avg_word(sentence):\n",
    "  words = sentence.split()\n",
    "  return (sum(len(word) for word in words)/len(words))\n",
    "\n",
    "abt_covid['text_avg_word'] = abt_covid['text'].apply(lambda x: avg_word(x))\n",
    "abt_covid[['text', 'text_avg_word']][0:2]"
   ]
  },
  {
   "cell_type": "markdown",
   "metadata": {},
   "source": [
    "#### 5.2.3 Count of question mark in the text"
   ]
  },
  {
   "cell_type": "code",
   "execution_count": 57,
   "metadata": {},
   "outputs": [
    {
     "data": {
      "text/html": [
       "<div>\n",
       "<style scoped>\n",
       "    .dataframe tbody tr th:only-of-type {\n",
       "        vertical-align: middle;\n",
       "    }\n",
       "\n",
       "    .dataframe tbody tr th {\n",
       "        vertical-align: top;\n",
       "    }\n",
       "\n",
       "    .dataframe thead th {\n",
       "        text-align: right;\n",
       "    }\n",
       "</style>\n",
       "<table border=\"1\" class=\"dataframe\">\n",
       "  <thead>\n",
       "    <tr style=\"text-align: right;\">\n",
       "      <th></th>\n",
       "      <th>title</th>\n",
       "      <th>text_ques_num</th>\n",
       "    </tr>\n",
       "  </thead>\n",
       "  <tbody>\n",
       "    <tr>\n",
       "      <th>\"82037\"</th>\n",
       "      <td>Most a nem létező negyedik hullámról terjeszt ...</td>\n",
       "      <td>202</td>\n",
       "    </tr>\n",
       "    <tr>\n",
       "      <th>\"71745\"</th>\n",
       "      <td>A baloldal minden eszközzel megpróbálja elbizo...</td>\n",
       "      <td>129</td>\n",
       "    </tr>\n",
       "  </tbody>\n",
       "</table>\n",
       "</div>"
      ],
      "text/plain": [
       "                                                     title  text_ques_num\n",
       "\"82037\"  Most a nem létező negyedik hullámról terjeszt ...            202\n",
       "\"71745\"  A baloldal minden eszközzel megpróbálja elbizo...            129"
      ]
     },
     "execution_count": 57,
     "metadata": {},
     "output_type": "execute_result"
    }
   ],
   "source": [
    "abt_covid['text_ques_num'] = abt_covid['text'].str.count('\\\\?')\n",
    "abt_covid[['title', 'text_ques_num']].sort_values(by=[\"text_ques_num\"], ascending=False)[0:2]"
   ]
  },
  {
   "cell_type": "markdown",
   "metadata": {},
   "source": [
    "#### 5.2.4 Count of exclamation mark in the text"
   ]
  },
  {
   "cell_type": "code",
   "execution_count": 58,
   "metadata": {},
   "outputs": [
    {
     "data": {
      "text/html": [
       "<div>\n",
       "<style scoped>\n",
       "    .dataframe tbody tr th:only-of-type {\n",
       "        vertical-align: middle;\n",
       "    }\n",
       "\n",
       "    .dataframe tbody tr th {\n",
       "        vertical-align: top;\n",
       "    }\n",
       "\n",
       "    .dataframe thead th {\n",
       "        text-align: right;\n",
       "    }\n",
       "</style>\n",
       "<table border=\"1\" class=\"dataframe\">\n",
       "  <thead>\n",
       "    <tr style=\"text-align: right;\">\n",
       "      <th></th>\n",
       "      <th>title</th>\n",
       "      <th>text_exclam_num</th>\n",
       "    </tr>\n",
       "  </thead>\n",
       "  <tbody>\n",
       "    <tr>\n",
       "      <th>\"82037\"</th>\n",
       "      <td>Most a nem létező negyedik hullámról terjeszt ...</td>\n",
       "      <td>370</td>\n",
       "    </tr>\n",
       "    <tr>\n",
       "      <th>\"71745\"</th>\n",
       "      <td>A baloldal minden eszközzel megpróbálja elbizo...</td>\n",
       "      <td>258</td>\n",
       "    </tr>\n",
       "  </tbody>\n",
       "</table>\n",
       "</div>"
      ],
      "text/plain": [
       "                                                     title  text_exclam_num\n",
       "\"82037\"  Most a nem létező negyedik hullámról terjeszt ...              370\n",
       "\"71745\"  A baloldal minden eszközzel megpróbálja elbizo...              258"
      ]
     },
     "execution_count": 58,
     "metadata": {},
     "output_type": "execute_result"
    }
   ],
   "source": [
    "abt_covid['text_exclam_num'] = abt_covid['text'].str.count('\\\\!')\n",
    "abt_covid[['title', 'text_exclam_num']].sort_values(by=[\"text_exclam_num\"], ascending=False)[0:2]"
   ]
  },
  {
   "cell_type": "markdown",
   "metadata": {},
   "source": [
    "#### 5.2.5 Count of stop words in the text"
   ]
  },
  {
   "cell_type": "code",
   "execution_count": 59,
   "metadata": {},
   "outputs": [
    {
     "data": {
      "text/html": [
       "<div>\n",
       "<style scoped>\n",
       "    .dataframe tbody tr th:only-of-type {\n",
       "        vertical-align: middle;\n",
       "    }\n",
       "\n",
       "    .dataframe tbody tr th {\n",
       "        vertical-align: top;\n",
       "    }\n",
       "\n",
       "    .dataframe thead th {\n",
       "        text-align: right;\n",
       "    }\n",
       "</style>\n",
       "<table border=\"1\" class=\"dataframe\">\n",
       "  <thead>\n",
       "    <tr style=\"text-align: right;\">\n",
       "      <th></th>\n",
       "      <th>title</th>\n",
       "      <th>text_stop_cnt</th>\n",
       "    </tr>\n",
       "  </thead>\n",
       "  <tbody>\n",
       "    <tr>\n",
       "      <th>\"56\"</th>\n",
       "      <td>4000 szexstreamer adatai kerültek nyilvánosságra</td>\n",
       "      <td>67</td>\n",
       "    </tr>\n",
       "    <tr>\n",
       "      <th>\"70\"</th>\n",
       "      <td>Ukrán állampolgárok adatai szivárogtak ki egy ...</td>\n",
       "      <td>48</td>\n",
       "    </tr>\n",
       "    <tr>\n",
       "      <th>\"132\"</th>\n",
       "      <td>Kell-e rettegnünk az új kínai tüdőgyulladástól?</td>\n",
       "      <td>439</td>\n",
       "    </tr>\n",
       "  </tbody>\n",
       "</table>\n",
       "</div>"
      ],
      "text/plain": [
       "                                                   title  text_stop_cnt\n",
       "\"56\"    4000 szexstreamer adatai kerültek nyilvánosságra             67\n",
       "\"70\"   Ukrán állampolgárok adatai szivárogtak ki egy ...             48\n",
       "\"132\"    Kell-e rettegnünk az új kínai tüdőgyulladástól?            439"
      ]
     },
     "execution_count": 59,
     "metadata": {},
     "output_type": "execute_result"
    }
   ],
   "source": [
    "abt_covid['text_stop_cnt'] = abt_covid['text'].apply(lambda x: len([x for x in x.split() if x in stop]))\n",
    "abt_covid[['title', 'text_stop_cnt']].head(3)"
   ]
  },
  {
   "cell_type": "markdown",
   "metadata": {},
   "source": [
    "#### 5.2.6 Count of capital words in the text"
   ]
  },
  {
   "cell_type": "code",
   "execution_count": 60,
   "metadata": {},
   "outputs": [
    {
     "data": {
      "text/html": [
       "<div>\n",
       "<style scoped>\n",
       "    .dataframe tbody tr th:only-of-type {\n",
       "        vertical-align: middle;\n",
       "    }\n",
       "\n",
       "    .dataframe tbody tr th {\n",
       "        vertical-align: top;\n",
       "    }\n",
       "\n",
       "    .dataframe thead th {\n",
       "        text-align: right;\n",
       "    }\n",
       "</style>\n",
       "<table border=\"1\" class=\"dataframe\">\n",
       "  <thead>\n",
       "    <tr style=\"text-align: right;\">\n",
       "      <th></th>\n",
       "      <th>title</th>\n",
       "      <th>text_cnt_upper</th>\n",
       "    </tr>\n",
       "  </thead>\n",
       "  <tbody>\n",
       "    <tr>\n",
       "      <th>\"82037\"</th>\n",
       "      <td>Most a nem létező negyedik hullámról terjeszt ...</td>\n",
       "      <td>900</td>\n",
       "    </tr>\n",
       "    <tr>\n",
       "      <th>\"71745\"</th>\n",
       "      <td>A baloldal minden eszközzel megpróbálja elbizo...</td>\n",
       "      <td>820</td>\n",
       "    </tr>\n",
       "    <tr>\n",
       "      <th>\"89043\"</th>\n",
       "      <td>Az oltásellenes baloldal újra az életmentő kel...</td>\n",
       "      <td>566</td>\n",
       "    </tr>\n",
       "  </tbody>\n",
       "</table>\n",
       "</div>"
      ],
      "text/plain": [
       "                                                     title  text_cnt_upper\n",
       "\"82037\"  Most a nem létező negyedik hullámról terjeszt ...             900\n",
       "\"71745\"  A baloldal minden eszközzel megpróbálja elbizo...             820\n",
       "\"89043\"  Az oltásellenes baloldal újra az életmentő kel...             566"
      ]
     },
     "execution_count": 60,
     "metadata": {},
     "output_type": "execute_result"
    }
   ],
   "source": [
    "abt_covid['text_cnt_upper'] = abt_covid.text.apply(lambda x: len([x for x in x.split() if x.isupper()]))\n",
    "abt_covid[['title', 'text_cnt_upper']].sort_values(by=[\"text_cnt_upper\"], ascending=False)[0:3]"
   ]
  },
  {
   "cell_type": "markdown",
   "metadata": {},
   "source": [
    "#### 5.2.7 Count of numeric values in the text"
   ]
  },
  {
   "cell_type": "code",
   "execution_count": 68,
   "metadata": {},
   "outputs": [
    {
     "data": {
      "text/html": [
       "<div>\n",
       "<style scoped>\n",
       "    .dataframe tbody tr th:only-of-type {\n",
       "        vertical-align: middle;\n",
       "    }\n",
       "\n",
       "    .dataframe tbody tr th {\n",
       "        vertical-align: top;\n",
       "    }\n",
       "\n",
       "    .dataframe thead th {\n",
       "        text-align: right;\n",
       "    }\n",
       "</style>\n",
       "<table border=\"1\" class=\"dataframe\">\n",
       "  <thead>\n",
       "    <tr style=\"text-align: right;\">\n",
       "      <th></th>\n",
       "      <th>title</th>\n",
       "      <th>text_cnt_num</th>\n",
       "    </tr>\n",
       "  </thead>\n",
       "  <tbody>\n",
       "    <tr>\n",
       "      <th>\"82037\"</th>\n",
       "      <td>Most a nem létező negyedik hullámról terjeszt ...</td>\n",
       "      <td>7057</td>\n",
       "    </tr>\n",
       "    <tr>\n",
       "      <th>\"21550\"</th>\n",
       "      <td>Motorozás közben videózta magát, belehalt az I...</td>\n",
       "      <td>6144</td>\n",
       "    </tr>\n",
       "    <tr>\n",
       "      <th>\"3068\"</th>\n",
       "      <td>Gyász !33 évesen belehalt a covidba a híres te...</td>\n",
       "      <td>5702</td>\n",
       "    </tr>\n",
       "  </tbody>\n",
       "</table>\n",
       "</div>"
      ],
      "text/plain": [
       "                                                     title  text_cnt_num\n",
       "\"82037\"  Most a nem létező negyedik hullámról terjeszt ...          7057\n",
       "\"21550\"  Motorozás közben videózta magát, belehalt az I...          6144\n",
       "\"3068\"   Gyász !33 évesen belehalt a covidba a híres te...          5702"
      ]
     },
     "execution_count": 68,
     "metadata": {},
     "output_type": "execute_result"
    }
   ],
   "source": [
    "abt_covid['text_cnt_num'] = abt_covid['text'].str.count('[0-9]')\n",
    "abt_covid[['title', 'text_cnt_num']].sort_values(by=[\"text_cnt_num\"], ascending=False)[0:3]"
   ]
  },
  {
   "cell_type": "markdown",
   "metadata": {},
   "source": [
    "Check for the newly created features"
   ]
  },
  {
   "cell_type": "code",
   "execution_count": 92,
   "metadata": {},
   "outputs": [
    {
     "data": {
      "text/plain": [
       "Index(['title', 'date', 'text', 'source', 'dezinf', 'title_word_cnt',\n",
       "       'title_avg_word', 'title_exclam_num', 'title_ques_num',\n",
       "       'title_stop_cnt', 'title_cnt_upper', 'text_word_cnt', 'text_avg_word',\n",
       "       'text_ques_num', 'text_exclam_num', 'text_stop_cnt', 'text_cnt_upper',\n",
       "       'text_cnt_num', 'title_cnt_num', 'title_cleaned', 'text_cleaned',\n",
       "       'title_tokens', 'text_tokens', 'title_lemmas', 'text_lemmas',\n",
       "       'title_pos', 'text_pos', 'text_unique_lemma_ratio',\n",
       "       'title_cnt_unique_lemmas', 'title_stop_word_ratio',\n",
       "       'text_cnt_unique_lemmas', 'text_stop_word_ratio', 'title_noun_ratio',\n",
       "       'title_verb_ratio', 'title_propn_ratio', 'title_adj_ratio',\n",
       "       'text_noun_ratio', 'text_verb_ratio', 'text_propn_ratio',\n",
       "       'text_adj_ratio'],\n",
       "      dtype='object')"
      ]
     },
     "execution_count": 92,
     "metadata": {},
     "output_type": "execute_result"
    }
   ],
   "source": [
    "abt_covid.columns"
   ]
  },
  {
   "cell_type": "markdown",
   "metadata": {},
   "source": [
    "### 6. More data cleanings for the creation of NLP based variables\n",
    "* lowercasing, \n",
    "* remove signs,\n",
    "* remove stopwords, \n",
    "* remove numerical elements\n"
   ]
  },
  {
   "cell_type": "code",
   "execution_count": 64,
   "metadata": {},
   "outputs": [],
   "source": [
    "def text_cleaning(df: pd.DataFrame) -> pd.DataFrame:\n",
    "    \n",
    "    df['text_cleaned'] = df['text'].str.replace('-', ' ')\n",
    "    df['text_cleaned'] = df['text_cleaned'].str.replace('[^\\w\\s]', ' ')\n",
    "    df['text_cleaned'] = df['text_cleaned'].str.replace('\\d+', ' ') \n",
    "    \n",
    "    df['text_cleaned'] = df['text_cleaned'].str.lower()\n",
    "\n",
    "    df['text_cleaned'] = df['text_cleaned'].apply(lambda x: \" \".join(x for x in x.split() if x not in stop))\n",
    "\n",
    "    return df"
   ]
  },
  {
   "cell_type": "code",
   "execution_count": 65,
   "metadata": {},
   "outputs": [],
   "source": [
    "def title_cleaning(df: pd.DataFrame) -> pd.DataFrame:\n",
    "\n",
    "    df['title_cleaned'] = df['title'].str.replace('-', ' ')\n",
    "    df['title_cleaned'] = df['title_cleaned'].str.replace('[^\\w\\s]', '')\n",
    "    df['title_cleaned'] = df['title_cleaned'].str.replace('[0-9]', ' ')\n",
    "    \n",
    "    df['title_cleaned'] = df['title_cleaned'].str.lower()\n",
    "    df['title_cleaned'] = df['title_cleaned'].str.replace('\\xa0', ' ')\n",
    "\n",
    "    df['title_cleaned'] = df['title_cleaned'].apply(lambda x: \" \".join(x for x in x.split() if x not in stop))\n",
    "\n",
    "    return df"
   ]
  },
  {
   "cell_type": "code",
   "execution_count": 72,
   "metadata": {},
   "outputs": [],
   "source": [
    "abt_covid = title_cleaning(abt_covid)"
   ]
  },
  {
   "cell_type": "code",
   "execution_count": 74,
   "metadata": {},
   "outputs": [],
   "source": [
    "abt_covid = text_cleaning(abt_covid)"
   ]
  },
  {
   "cell_type": "markdown",
   "metadata": {},
   "source": [
    "Check for the newly created features"
   ]
  },
  {
   "cell_type": "code",
   "execution_count": 75,
   "metadata": {},
   "outputs": [
    {
     "data": {
      "text/plain": [
       "Index(['title', 'date', 'text', 'source', 'dezinf', 'title_word_cnt',\n",
       "       'title_avg_word', 'title_exclam_num', 'title_ques_num',\n",
       "       'title_stop_cnt', 'title_cnt_upper', 'text_word_cnt', 'text_avg_word',\n",
       "       'text_ques_num', 'text_exclam_num', 'text_stop_cnt', 'text_cnt_upper',\n",
       "       'text_cnt_num', 'title_cnt_num', 'title_cleaned', 'text_cleaned'],\n",
       "      dtype='object')"
      ]
     },
     "execution_count": 75,
     "metadata": {},
     "output_type": "execute_result"
    }
   ],
   "source": [
    "abt_covid.columns"
   ]
  },
  {
   "cell_type": "markdown",
   "metadata": {},
   "source": [
    "### 7. Create NLP based features"
   ]
  },
  {
   "cell_type": "markdown",
   "metadata": {},
   "source": [
    "### 7.1 Title tokenization"
   ]
  },
  {
   "cell_type": "code",
   "execution_count": 80,
   "metadata": {},
   "outputs": [],
   "source": [
    "abt_covid[\"title_tokens\"] = abt_covid[\"title_cleaned\"].apply(lambda x: tknzr.tokenize(x))"
   ]
  },
  {
   "cell_type": "code",
   "execution_count": 82,
   "metadata": {},
   "outputs": [
    {
     "data": {
      "text/html": [
       "<div>\n",
       "<style scoped>\n",
       "    .dataframe tbody tr th:only-of-type {\n",
       "        vertical-align: middle;\n",
       "    }\n",
       "\n",
       "    .dataframe tbody tr th {\n",
       "        vertical-align: top;\n",
       "    }\n",
       "\n",
       "    .dataframe thead th {\n",
       "        text-align: right;\n",
       "    }\n",
       "</style>\n",
       "<table border=\"1\" class=\"dataframe\">\n",
       "  <thead>\n",
       "    <tr style=\"text-align: right;\">\n",
       "      <th></th>\n",
       "      <th>title</th>\n",
       "      <th>title_tokens</th>\n",
       "    </tr>\n",
       "  </thead>\n",
       "  <tbody>\n",
       "    <tr>\n",
       "      <th>\"56\"</th>\n",
       "      <td>4000 szexstreamer adatai kerültek nyilvánosságra</td>\n",
       "      <td>[szexstreamer, adatai, kerültek, nyilvánosságra]</td>\n",
       "    </tr>\n",
       "    <tr>\n",
       "      <th>\"70\"</th>\n",
       "      <td>Ukrán állampolgárok adatai szivárogtak ki egy ...</td>\n",
       "      <td>[ukrán, állampolgárok, adatai, szivárogtak, ál...</td>\n",
       "    </tr>\n",
       "  </tbody>\n",
       "</table>\n",
       "</div>"
      ],
      "text/plain": [
       "                                                  title  \\\n",
       "\"56\"   4000 szexstreamer adatai kerültek nyilvánosságra   \n",
       "\"70\"  Ukrán állampolgárok adatai szivárogtak ki egy ...   \n",
       "\n",
       "                                           title_tokens  \n",
       "\"56\"   [szexstreamer, adatai, kerültek, nyilvánosságra]  \n",
       "\"70\"  [ukrán, állampolgárok, adatai, szivárogtak, ál...  "
      ]
     },
     "execution_count": 82,
     "metadata": {},
     "output_type": "execute_result"
    }
   ],
   "source": [
    "abt_covid[['title','title_tokens']][0:2]"
   ]
  },
  {
   "cell_type": "markdown",
   "metadata": {},
   "source": [
    "### 7.2 Text tokenization"
   ]
  },
  {
   "cell_type": "code",
   "execution_count": 83,
   "metadata": {},
   "outputs": [],
   "source": [
    "abt_covid[\"text_tokens\"] = abt_covid[\"text_cleaned\"].apply(lambda x: tknzr.tokenize(x))"
   ]
  },
  {
   "cell_type": "code",
   "execution_count": 84,
   "metadata": {
    "scrolled": true
   },
   "outputs": [
    {
     "data": {
      "text/html": [
       "<div>\n",
       "<style scoped>\n",
       "    .dataframe tbody tr th:only-of-type {\n",
       "        vertical-align: middle;\n",
       "    }\n",
       "\n",
       "    .dataframe tbody tr th {\n",
       "        vertical-align: top;\n",
       "    }\n",
       "\n",
       "    .dataframe thead th {\n",
       "        text-align: right;\n",
       "    }\n",
       "</style>\n",
       "<table border=\"1\" class=\"dataframe\">\n",
       "  <thead>\n",
       "    <tr style=\"text-align: right;\">\n",
       "      <th></th>\n",
       "      <th>text_cleaned</th>\n",
       "      <th>text_tokens</th>\n",
       "    </tr>\n",
       "  </thead>\n",
       "  <tbody>\n",
       "    <tr>\n",
       "      <th>\"56\"</th>\n",
       "      <td>vpnmentor biztonságtechnikai kutatói teljesen ...</td>\n",
       "      <td>[vpnmentor, biztonságtechnikai, kutatói, telje...</td>\n",
       "    </tr>\n",
       "    <tr>\n",
       "      <th>\"70\"</th>\n",
       "      <td>kiberbiztonsági probléma ukrajnában nemzetbizt...</td>\n",
       "      <td>[kiberbiztonsági, probléma, ukrajnában, nemzet...</td>\n",
       "    </tr>\n",
       "  </tbody>\n",
       "</table>\n",
       "</div>"
      ],
      "text/plain": [
       "                                           text_cleaned  \\\n",
       "\"56\"  vpnmentor biztonságtechnikai kutatói teljesen ...   \n",
       "\"70\"  kiberbiztonsági probléma ukrajnában nemzetbizt...   \n",
       "\n",
       "                                            text_tokens  \n",
       "\"56\"  [vpnmentor, biztonságtechnikai, kutatói, telje...  \n",
       "\"70\"  [kiberbiztonsági, probléma, ukrajnában, nemzet...  "
      ]
     },
     "execution_count": 84,
     "metadata": {},
     "output_type": "execute_result"
    }
   ],
   "source": [
    "abt_covid[['text_cleaned','text_tokens']][0:2]"
   ]
  },
  {
   "cell_type": "markdown",
   "metadata": {},
   "source": [
    "### 7.3 Title lemmatization"
   ]
  },
  {
   "cell_type": "code",
   "execution_count": 86,
   "metadata": {},
   "outputs": [],
   "source": [
    "abt_covid['title_lemmas'] = abt_covid['title_cleaned'].apply(lambda x: [i.lemma_ for i in nlp(x)])"
   ]
  },
  {
   "cell_type": "code",
   "execution_count": 87,
   "metadata": {},
   "outputs": [
    {
     "data": {
      "text/html": [
       "<div>\n",
       "<style scoped>\n",
       "    .dataframe tbody tr th:only-of-type {\n",
       "        vertical-align: middle;\n",
       "    }\n",
       "\n",
       "    .dataframe tbody tr th {\n",
       "        vertical-align: top;\n",
       "    }\n",
       "\n",
       "    .dataframe thead th {\n",
       "        text-align: right;\n",
       "    }\n",
       "</style>\n",
       "<table border=\"1\" class=\"dataframe\">\n",
       "  <thead>\n",
       "    <tr style=\"text-align: right;\">\n",
       "      <th></th>\n",
       "      <th>title</th>\n",
       "      <th>title_tokens</th>\n",
       "      <th>title_lemmas</th>\n",
       "    </tr>\n",
       "  </thead>\n",
       "  <tbody>\n",
       "    <tr>\n",
       "      <th>\"56\"</th>\n",
       "      <td>4000 szexstreamer adatai kerültek nyilvánosságra</td>\n",
       "      <td>[szexstreamer, adatai, kerültek, nyilvánosságra]</td>\n",
       "      <td>[szexstreamer, adat, kerül, nyilvánosság]</td>\n",
       "    </tr>\n",
       "    <tr>\n",
       "      <th>\"70\"</th>\n",
       "      <td>Ukrán állampolgárok adatai szivárogtak ki egy ...</td>\n",
       "      <td>[ukrán, állampolgárok, adatai, szivárogtak, ál...</td>\n",
       "      <td>[ukrán, állampolgár, adat, szivárog, állami, w...</td>\n",
       "    </tr>\n",
       "  </tbody>\n",
       "</table>\n",
       "</div>"
      ],
      "text/plain": [
       "                                                  title  \\\n",
       "\"56\"   4000 szexstreamer adatai kerültek nyilvánosságra   \n",
       "\"70\"  Ukrán állampolgárok adatai szivárogtak ki egy ...   \n",
       "\n",
       "                                           title_tokens  \\\n",
       "\"56\"   [szexstreamer, adatai, kerültek, nyilvánosságra]   \n",
       "\"70\"  [ukrán, állampolgárok, adatai, szivárogtak, ál...   \n",
       "\n",
       "                                           title_lemmas  \n",
       "\"56\"          [szexstreamer, adat, kerül, nyilvánosság]  \n",
       "\"70\"  [ukrán, állampolgár, adat, szivárog, állami, w...  "
      ]
     },
     "execution_count": 87,
     "metadata": {},
     "output_type": "execute_result"
    }
   ],
   "source": [
    "abt_covid[['title','title_tokens', 'title_lemmas']][0:2]"
   ]
  },
  {
   "cell_type": "markdown",
   "metadata": {},
   "source": [
    "### 7.4. Text lemmatization"
   ]
  },
  {
   "cell_type": "code",
   "execution_count": 88,
   "metadata": {},
   "outputs": [],
   "source": [
    "abt_covid['text_lemmas'] = abt_covid['text_cleaned'].apply(lambda x: [i.lemma_ for i in nlp(x)])"
   ]
  },
  {
   "cell_type": "code",
   "execution_count": 89,
   "metadata": {},
   "outputs": [
    {
     "data": {
      "text/html": [
       "<div>\n",
       "<style scoped>\n",
       "    .dataframe tbody tr th:only-of-type {\n",
       "        vertical-align: middle;\n",
       "    }\n",
       "\n",
       "    .dataframe tbody tr th {\n",
       "        vertical-align: top;\n",
       "    }\n",
       "\n",
       "    .dataframe thead th {\n",
       "        text-align: right;\n",
       "    }\n",
       "</style>\n",
       "<table border=\"1\" class=\"dataframe\">\n",
       "  <thead>\n",
       "    <tr style=\"text-align: right;\">\n",
       "      <th></th>\n",
       "      <th>text_cleaned</th>\n",
       "      <th>text_tokens</th>\n",
       "      <th>text_lemmas</th>\n",
       "    </tr>\n",
       "  </thead>\n",
       "  <tbody>\n",
       "    <tr>\n",
       "      <th>\"56\"</th>\n",
       "      <td>vpnmentor biztonságtechnikai kutatói teljesen ...</td>\n",
       "      <td>[vpnmentor, biztonságtechnikai, kutatói, telje...</td>\n",
       "      <td>[vpnmentor, biztonságtechnikai, kutatói, telje...</td>\n",
       "    </tr>\n",
       "    <tr>\n",
       "      <th>\"70\"</th>\n",
       "      <td>kiberbiztonsági probléma ukrajnában nemzetbizt...</td>\n",
       "      <td>[kiberbiztonsági, probléma, ukrajnában, nemzet...</td>\n",
       "      <td>[kiberbiztonsági, probléma, ukrajna, nemzetbiz...</td>\n",
       "    </tr>\n",
       "  </tbody>\n",
       "</table>\n",
       "</div>"
      ],
      "text/plain": [
       "                                           text_cleaned  \\\n",
       "\"56\"  vpnmentor biztonságtechnikai kutatói teljesen ...   \n",
       "\"70\"  kiberbiztonsági probléma ukrajnában nemzetbizt...   \n",
       "\n",
       "                                            text_tokens  \\\n",
       "\"56\"  [vpnmentor, biztonságtechnikai, kutatói, telje...   \n",
       "\"70\"  [kiberbiztonsági, probléma, ukrajnában, nemzet...   \n",
       "\n",
       "                                            text_lemmas  \n",
       "\"56\"  [vpnmentor, biztonságtechnikai, kutatói, telje...  \n",
       "\"70\"  [kiberbiztonsági, probléma, ukrajna, nemzetbiz...  "
      ]
     },
     "execution_count": 89,
     "metadata": {},
     "output_type": "execute_result"
    }
   ],
   "source": [
    "abt_covid[['text_cleaned','text_tokens', 'text_lemmas']][0:2]"
   ]
  },
  {
   "cell_type": "markdown",
   "metadata": {},
   "source": [
    "### 7.5 Part of Speach Tagging (PoS)"
   ]
  },
  {
   "cell_type": "markdown",
   "metadata": {},
   "source": [
    "* count distinct lemmas\n",
    "* count distinct lemmas / count all lemmas\n",
    "* ADJ: adjective - melléknév\n",
    "* ADV: adverb - határozószó\n",
    "* AUX: auxiliary verb - segédige\n",
    "* DET: determiner - határozószó\n",
    "* NOUN: noun - főnév\n",
    "* PRON: pronoun - névmás\n",
    "* PROPN: proper noun - tulajdonnév\n",
    "* VERB: verb - ige"
   ]
  },
  {
   "cell_type": "markdown",
   "metadata": {},
   "source": [
    "#### 7.5.1 PoS on title"
   ]
  },
  {
   "cell_type": "code",
   "execution_count": 14,
   "metadata": {},
   "outputs": [],
   "source": [
    "abt_covid['title_pos'] = abt_covid['title_cleaned'].apply(lambda x: [i.pos_ for i in nlp(x)])"
   ]
  },
  {
   "cell_type": "code",
   "execution_count": 15,
   "metadata": {},
   "outputs": [
    {
     "data": {
      "text/html": [
       "<div>\n",
       "<style scoped>\n",
       "    .dataframe tbody tr th:only-of-type {\n",
       "        vertical-align: middle;\n",
       "    }\n",
       "\n",
       "    .dataframe tbody tr th {\n",
       "        vertical-align: top;\n",
       "    }\n",
       "\n",
       "    .dataframe thead th {\n",
       "        text-align: right;\n",
       "    }\n",
       "</style>\n",
       "<table border=\"1\" class=\"dataframe\">\n",
       "  <thead>\n",
       "    <tr style=\"text-align: right;\">\n",
       "      <th></th>\n",
       "      <th>title_tokens</th>\n",
       "      <th>title_lemmas</th>\n",
       "      <th>title_pos</th>\n",
       "    </tr>\n",
       "  </thead>\n",
       "  <tbody>\n",
       "    <tr>\n",
       "      <th>\"646\"</th>\n",
       "      <td>[koronavírus, magyarországon, gyanús, esetet, ...</td>\n",
       "      <td>[koronavírus, magyarország, gyanús, eset, vizs...</td>\n",
       "      <td>[NOUN, ADJ, ADJ, NOUN, VERB]</td>\n",
       "    </tr>\n",
       "    <tr>\n",
       "      <th>\"667\"</th>\n",
       "      <td>[hordanak, szájmaszkot, kínában, győzi, korona...</td>\n",
       "      <td>[hord, szájmaszk, kína, győz, koronavírus]</td>\n",
       "      <td>[VERB, NOUN, NOUN, VERB, NOUN]</td>\n",
       "    </tr>\n",
       "    <tr>\n",
       "      <th>\"672\"</th>\n",
       "      <td>[koronavírus, kínában, ezrek, fertőződhettek, ...</td>\n",
       "      <td>[koronavírus, kína, ezrek, fertőződik, usa, ev...</td>\n",
       "      <td>[NOUN, NOUN, ADV, VERB, ADV, VERB, VERB, ADJ, ...</td>\n",
       "    </tr>\n",
       "    <tr>\n",
       "      <th>\"678\"</th>\n",
       "      <td>[kínait, kórházba, vinni, moszkvai, szállodából]</td>\n",
       "      <td>[kín, kórház, vinni, moszkvai, szálloda]</td>\n",
       "      <td>[NOUN, NOUN, ADJ, ADJ, NOUN]</td>\n",
       "    </tr>\n",
       "    <tr>\n",
       "      <th>\"683\"</th>\n",
       "      <td>[mennyire, képben, legfontosabb, történéseivel]</td>\n",
       "      <td>[mennyire, kép, fontos, történés]</td>\n",
       "      <td>[ADV, NOUN, ADJ, NOUN]</td>\n",
       "    </tr>\n",
       "  </tbody>\n",
       "</table>\n",
       "</div>"
      ],
      "text/plain": [
       "                                            title_tokens  \\\n",
       "\"646\"  [koronavírus, magyarországon, gyanús, esetet, ...   \n",
       "\"667\"  [hordanak, szájmaszkot, kínában, győzi, korona...   \n",
       "\"672\"  [koronavírus, kínában, ezrek, fertőződhettek, ...   \n",
       "\"678\"   [kínait, kórházba, vinni, moszkvai, szállodából]   \n",
       "\"683\"    [mennyire, képben, legfontosabb, történéseivel]   \n",
       "\n",
       "                                            title_lemmas  \\\n",
       "\"646\"  [koronavírus, magyarország, gyanús, eset, vizs...   \n",
       "\"667\"         [hord, szájmaszk, kína, győz, koronavírus]   \n",
       "\"672\"  [koronavírus, kína, ezrek, fertőződik, usa, ev...   \n",
       "\"678\"           [kín, kórház, vinni, moszkvai, szálloda]   \n",
       "\"683\"                  [mennyire, kép, fontos, történés]   \n",
       "\n",
       "                                               title_pos  \n",
       "\"646\"                       [NOUN, ADJ, ADJ, NOUN, VERB]  \n",
       "\"667\"                     [VERB, NOUN, NOUN, VERB, NOUN]  \n",
       "\"672\"  [NOUN, NOUN, ADV, VERB, ADV, VERB, VERB, ADJ, ...  \n",
       "\"678\"                       [NOUN, NOUN, ADJ, ADJ, NOUN]  \n",
       "\"683\"                             [ADV, NOUN, ADJ, NOUN]  "
      ]
     },
     "execution_count": 15,
     "metadata": {},
     "output_type": "execute_result"
    }
   ],
   "source": [
    "abt_covid[['title_tokens', 'title_lemmas', 'title_pos']][20:25]"
   ]
  },
  {
   "cell_type": "markdown",
   "metadata": {},
   "source": [
    "#### 7.5.2 PoS on text"
   ]
  },
  {
   "cell_type": "code",
   "execution_count": 17,
   "metadata": {},
   "outputs": [],
   "source": [
    "abt_covid['text_pos'] = abt_covid['text_cleaned'].apply(lambda x: [i.pos_ for i in nlp(x)])"
   ]
  },
  {
   "cell_type": "code",
   "execution_count": 19,
   "metadata": {},
   "outputs": [
    {
     "data": {
      "text/html": [
       "<div>\n",
       "<style scoped>\n",
       "    .dataframe tbody tr th:only-of-type {\n",
       "        vertical-align: middle;\n",
       "    }\n",
       "\n",
       "    .dataframe tbody tr th {\n",
       "        vertical-align: top;\n",
       "    }\n",
       "\n",
       "    .dataframe thead th {\n",
       "        text-align: right;\n",
       "    }\n",
       "</style>\n",
       "<table border=\"1\" class=\"dataframe\">\n",
       "  <thead>\n",
       "    <tr style=\"text-align: right;\">\n",
       "      <th></th>\n",
       "      <th>text_tokens</th>\n",
       "      <th>text_lemmas</th>\n",
       "      <th>title_pos</th>\n",
       "    </tr>\n",
       "  </thead>\n",
       "  <tbody>\n",
       "    <tr>\n",
       "      <th>\"646\"</th>\n",
       "      <td>[továbbra, sincs, magyar, érintettje, kínából,...</td>\n",
       "      <td>[továbbra, sincs, magyar, érintett, kíon, kiin...</td>\n",
       "      <td>[NOUN, ADJ, ADJ, NOUN, VERB]</td>\n",
       "    </tr>\n",
       "    <tr>\n",
       "      <th>\"667\"</th>\n",
       "      <td>[kínai, hatóságok, kérték, vuhan, lakóit, hord...</td>\n",
       "      <td>[kínai, hatóság, kér, vuhan, lakó, hordik, orv...</td>\n",
       "      <td>[VERB, NOUN, NOUN, VERB, NOUN]</td>\n",
       "    </tr>\n",
       "    <tr>\n",
       "      <th>\"672\"</th>\n",
       "      <td>[friss, országos, tisztifőorvos, közlése, tudo...</td>\n",
       "      <td>[friss, országos, tisztifőorvos, közlés, tudom...</td>\n",
       "      <td>[NOUN, NOUN, ADV, VERB, ADV, VERB, VERB, ADJ, ...</td>\n",
       "    </tr>\n",
       "    <tr>\n",
       "      <th>\"678\"</th>\n",
       "      <td>[kínai, vendég, pihen, volkovszkaja, szállóban...</td>\n",
       "      <td>[kínai, vendég, pihen, volkovszkaja, szálló, o...</td>\n",
       "      <td>[NOUN, NOUN, ADJ, ADJ, NOUN]</td>\n",
       "    </tr>\n",
       "    <tr>\n",
       "      <th>\"683\"</th>\n",
       "      <td>[hallott, schobert, norbi, ámokfutásáról, bork...</td>\n",
       "      <td>[hall, schobert, norbi, ámokfutás, borkai, sze...</td>\n",
       "      <td>[ADV, NOUN, ADJ, NOUN]</td>\n",
       "    </tr>\n",
       "  </tbody>\n",
       "</table>\n",
       "</div>"
      ],
      "text/plain": [
       "                                             text_tokens  \\\n",
       "\"646\"  [továbbra, sincs, magyar, érintettje, kínából,...   \n",
       "\"667\"  [kínai, hatóságok, kérték, vuhan, lakóit, hord...   \n",
       "\"672\"  [friss, országos, tisztifőorvos, közlése, tudo...   \n",
       "\"678\"  [kínai, vendég, pihen, volkovszkaja, szállóban...   \n",
       "\"683\"  [hallott, schobert, norbi, ámokfutásáról, bork...   \n",
       "\n",
       "                                             text_lemmas  \\\n",
       "\"646\"  [továbbra, sincs, magyar, érintett, kíon, kiin...   \n",
       "\"667\"  [kínai, hatóság, kér, vuhan, lakó, hordik, orv...   \n",
       "\"672\"  [friss, országos, tisztifőorvos, közlés, tudom...   \n",
       "\"678\"  [kínai, vendég, pihen, volkovszkaja, szálló, o...   \n",
       "\"683\"  [hall, schobert, norbi, ámokfutás, borkai, sze...   \n",
       "\n",
       "                                               title_pos  \n",
       "\"646\"                       [NOUN, ADJ, ADJ, NOUN, VERB]  \n",
       "\"667\"                     [VERB, NOUN, NOUN, VERB, NOUN]  \n",
       "\"672\"  [NOUN, NOUN, ADV, VERB, ADV, VERB, VERB, ADJ, ...  \n",
       "\"678\"                       [NOUN, NOUN, ADJ, ADJ, NOUN]  \n",
       "\"683\"                             [ADV, NOUN, ADJ, NOUN]  "
      ]
     },
     "execution_count": 19,
     "metadata": {},
     "output_type": "execute_result"
    }
   ],
   "source": [
    "abt_covid[['text_tokens', 'text_lemmas', 'title_pos']][20:25]"
   ]
  },
  {
   "cell_type": "markdown",
   "metadata": {},
   "source": [
    "### 7.6 Create normalized features"
   ]
  },
  {
   "cell_type": "markdown",
   "metadata": {},
   "source": [
    "The rate of distinct lemmas in the article text. "
   ]
  },
  {
   "cell_type": "code",
   "execution_count": 49,
   "metadata": {},
   "outputs": [],
   "source": [
    "abt_covid[\"text_unique_lemma_ratio\"] = abt_covid[\"text_lemmas\"].apply(lambda x: len(np.unique(x)) / len(x))"
   ]
  },
  {
   "cell_type": "markdown",
   "metadata": {},
   "source": [
    "The rate of stop words in the article title"
   ]
  },
  {
   "cell_type": "code",
   "execution_count": 55,
   "metadata": {},
   "outputs": [],
   "source": [
    "abt_covid[\"title_cnt_unique_lemmas\"] = abt_covid[\"title_lemmas\"].apply(lambda x: len(np.unique(x)))s"
   ]
  },
  {
   "cell_type": "code",
   "execution_count": 58,
   "metadata": {},
   "outputs": [],
   "source": [
    "abt_covid[\"title_stop_word_ratio\"] = abt_covid[\"title_stop_cnt\"] / abt_covid[\"title_cnt_unique_lemmas\"]"
   ]
  },
  {
   "cell_type": "markdown",
   "metadata": {},
   "source": [
    "The rate of stop words in the article text"
   ]
  },
  {
   "cell_type": "code",
   "execution_count": 60,
   "metadata": {},
   "outputs": [],
   "source": [
    "abt_covid[\"text_cnt_unique_lemmas\"] = abt_covid[\"text_lemmas\"].apply(lambda x: len(np.unique(x)))"
   ]
  },
  {
   "cell_type": "code",
   "execution_count": 62,
   "metadata": {},
   "outputs": [],
   "source": [
    "abt_covid[\"text_stop_word_ratio\"] = abt_covid[\"text_stop_cnt\"] / abt_covid[\"text_cnt_unique_lemmas\"]"
   ]
  },
  {
   "cell_type": "markdown",
   "metadata": {},
   "source": [
    "The rate of nouns in the article title"
   ]
  },
  {
   "cell_type": "code",
   "execution_count": 71,
   "metadata": {},
   "outputs": [],
   "source": [
    "abt_covid[\"title_noun_ratio\"] = abt_covid[\"title_pos\"].apply(lambda x: x.count(\"NOUN\") / len(x) if x.count(\"NOUN\") > 0 else 0)"
   ]
  },
  {
   "cell_type": "markdown",
   "metadata": {},
   "source": [
    "The rate of verbs in the article title"
   ]
  },
  {
   "cell_type": "code",
   "execution_count": 72,
   "metadata": {},
   "outputs": [],
   "source": [
    "abt_covid[\"title_verb_ratio\"] = abt_covid[\"title_pos\"].apply(lambda x: x.count(\"VERB\") / len(x) if x.count(\"VERB\") > 0 else 0)"
   ]
  },
  {
   "cell_type": "markdown",
   "metadata": {},
   "source": [
    "The rate of PROPNs in the article title"
   ]
  },
  {
   "cell_type": "code",
   "execution_count": 74,
   "metadata": {},
   "outputs": [],
   "source": [
    "abt_covid[\"title_propn_ratio\"] = abt_covid[\"title_pos\"].apply(lambda x: x.count(\"PROPN\") / len(x) if x.count(\"PROPN\") > 0 else 0)"
   ]
  },
  {
   "cell_type": "markdown",
   "metadata": {},
   "source": [
    "The rate of adjs in the article title"
   ]
  },
  {
   "cell_type": "code",
   "execution_count": 77,
   "metadata": {},
   "outputs": [],
   "source": [
    "abt_covid[\"title_adj_ratio\"] = abt_covid[\"title_pos\"].apply(lambda x: x.count(\"ADJ\") / len(x) if x.count(\"ADJ\") > 0 else 0)"
   ]
  },
  {
   "cell_type": "markdown",
   "metadata": {},
   "source": [
    "The rate of nouns in the article text"
   ]
  },
  {
   "cell_type": "code",
   "execution_count": 83,
   "metadata": {},
   "outputs": [],
   "source": [
    "abt_covid[\"text_noun_ratio\"] = abt_covid[\"text_pos\"].apply(lambda x: x.count(\"NOUN\") / len(x) if x.count(\"NOUN\") > 0 else 0)"
   ]
  },
  {
   "cell_type": "markdown",
   "metadata": {},
   "source": [
    "The rate of verbs in the article text"
   ]
  },
  {
   "cell_type": "code",
   "execution_count": 84,
   "metadata": {},
   "outputs": [],
   "source": [
    "abt_covid[\"text_verb_ratio\"] = abt_covid[\"text_pos\"].apply(lambda x: x.count(\"VERB\") / len(x) if x.count(\"VERB\") > 0 else 0)"
   ]
  },
  {
   "cell_type": "markdown",
   "metadata": {},
   "source": [
    "The rate of PROPNs in the article text"
   ]
  },
  {
   "cell_type": "code",
   "execution_count": 86,
   "metadata": {},
   "outputs": [],
   "source": [
    "abt_covid[\"text_propn_ratio\"] = abt_covid[\"text_pos\"].apply(lambda x: x.count(\"PROPN\") / len(x) if x.count(\"PROPN\") > 0 else 0)"
   ]
  },
  {
   "cell_type": "markdown",
   "metadata": {},
   "source": [
    "The rate of adjs in the article text"
   ]
  },
  {
   "cell_type": "code",
   "execution_count": 88,
   "metadata": {},
   "outputs": [],
   "source": [
    "abt_covid[\"text_adj_ratio\"] = abt_covid[\"text_pos\"].apply(lambda x: x.count(\"ADJ\") / len(x) if x.count(\"ADJ\") > 0 else 0)"
   ]
  },
  {
   "cell_type": "markdown",
   "metadata": {},
   "source": [
    "###  8. Check the list of created features"
   ]
  },
  {
   "cell_type": "code",
   "execution_count": 90,
   "metadata": {},
   "outputs": [
    {
     "data": {
      "text/plain": [
       "Index(['title', 'date', 'text', 'source', 'dezinf', 'title_word_cnt',\n",
       "       'title_avg_word', 'title_exclam_num', 'title_ques_num',\n",
       "       'title_stop_cnt', 'title_cnt_upper', 'text_word_cnt', 'text_avg_word',\n",
       "       'text_ques_num', 'text_exclam_num', 'text_stop_cnt', 'text_cnt_upper',\n",
       "       'text_cnt_num', 'title_cnt_num', 'title_cleaned', 'text_cleaned',\n",
       "       'title_tokens', 'text_tokens', 'title_lemmas', 'text_lemmas',\n",
       "       'title_pos', 'text_pos', 'text_unique_lemma_ratio',\n",
       "       'title_cnt_unique_lemmas', 'title_stop_word_ratio',\n",
       "       'text_cnt_unique_lemmas', 'text_stop_word_ratio', 'title_noun_ratio',\n",
       "       'title_verb_ratio', 'title_propn_ratio', 'title_adj_ratio',\n",
       "       'text_noun_ratio', 'text_verb_ratio', 'text_propn_ratio',\n",
       "       'text_adj_ratio'],\n",
       "      dtype='object')"
      ]
     },
     "execution_count": 90,
     "metadata": {},
     "output_type": "execute_result"
    }
   ],
   "source": [
    "abt_covid.columns"
   ]
  },
  {
   "cell_type": "markdown",
   "metadata": {},
   "source": [
    "### 9. Named Entity Recognition (Ner)"
   ]
  },
  {
   "cell_type": "markdown",
   "metadata": {},
   "source": [
    "### 9.1 Create the NER dictionary for the titles"
   ]
  },
  {
   "cell_type": "code",
   "execution_count": 95,
   "metadata": {},
   "outputs": [],
   "source": [
    "dic = {}\n",
    "lis = []\n",
    "for i in abt_covid[\"title\"]:\n",
    "    token = []\n",
    "    entit = []\n",
    "    doc = nlp(i)\n",
    "    for ent in doc.ents:\n",
    "        token.append(ent.text)\n",
    "        entit.append(ent.label_)\n",
    "    dic = dict(zip(token, entit))\n",
    "    lis.append(dic)"
   ]
  },
  {
   "cell_type": "markdown",
   "metadata": {},
   "source": [
    "#### 9.1.1 Create the Person list for each document"
   ]
  },
  {
   "cell_type": "code",
   "execution_count": 100,
   "metadata": {},
   "outputs": [],
   "source": [
    "per_list = []\n",
    "for i in range(0, len(lis)):\n",
    "    per_ent = {key:value for (key, value) in lis[i].items() if value == 'PER'}\n",
    "    per_ent = list(per_ent.keys())\n",
    "    \n",
    "    per_list.append(per_ent)"
   ]
  },
  {
   "cell_type": "code",
   "execution_count": 104,
   "metadata": {},
   "outputs": [],
   "source": [
    "abt_covid[\"title_ner_pers\"] = per_list"
   ]
  },
  {
   "cell_type": "markdown",
   "metadata": {},
   "source": [
    "#### 9.1.2 Create the Organization list for each document"
   ]
  },
  {
   "cell_type": "code",
   "execution_count": 105,
   "metadata": {},
   "outputs": [],
   "source": [
    "org_list = []\n",
    "for i in range(0, len(lis)):\n",
    "    org_ent = {key:value for (key, value) in lis[i].items() if value == 'ORG'}\n",
    "    org_ent = list(org_ent.keys())\n",
    "    \n",
    "    org_list.append(org_ent)"
   ]
  },
  {
   "cell_type": "code",
   "execution_count": 107,
   "metadata": {},
   "outputs": [],
   "source": [
    "abt_covid[\"title_ner_orgs\"] = org_list"
   ]
  },
  {
   "cell_type": "markdown",
   "metadata": {},
   "source": [
    "#### 9.1.3 Create the Location list for each document"
   ]
  },
  {
   "cell_type": "code",
   "execution_count": 108,
   "metadata": {},
   "outputs": [],
   "source": [
    "loc_list = []\n",
    "for i in range(0, len(lis)):\n",
    "    loc_ent = {key:value for (key, value) in lis[i].items() if value == 'LOC'}\n",
    "    loc_ent = list(loc_ent.keys())\n",
    "    \n",
    "    loc_list.append(loc_ent)"
   ]
  },
  {
   "cell_type": "code",
   "execution_count": 109,
   "metadata": {},
   "outputs": [],
   "source": [
    "abt_covid[\"title_ner_locs\"] = loc_list"
   ]
  },
  {
   "cell_type": "markdown",
   "metadata": {},
   "source": [
    "### 9.2 Create the NER dictionary for the texts\n"
   ]
  },
  {
   "cell_type": "code",
   "execution_count": 112,
   "metadata": {},
   "outputs": [],
   "source": [
    "dic = {}\n",
    "lis = []\n",
    "for i in abt_covid[\"text\"]:\n",
    "    token = []\n",
    "    entit = []\n",
    "    doc = nlp(i)\n",
    "    for ent in doc.ents:\n",
    "        token.append(ent.text)\n",
    "        entit.append(ent.label_)\n",
    "    dic = dict(zip(token, entit))\n",
    "    lis.append(dic)"
   ]
  },
  {
   "cell_type": "markdown",
   "metadata": {},
   "source": [
    "#### 9.2.1 Create the Person list for each document"
   ]
  },
  {
   "cell_type": "code",
   "execution_count": 114,
   "metadata": {},
   "outputs": [],
   "source": [
    "per_list = []\n",
    "for i in range(0, len(lis)):\n",
    "    per_ent = {key:value for (key, value) in lis[i].items() if value == 'PER'}\n",
    "    per_ent = list(per_ent.keys())\n",
    "    \n",
    "    per_list.append(per_ent)"
   ]
  },
  {
   "cell_type": "code",
   "execution_count": 116,
   "metadata": {},
   "outputs": [],
   "source": [
    "abt_covid[\"text_ner_pers\"] = per_list"
   ]
  },
  {
   "cell_type": "markdown",
   "metadata": {},
   "source": [
    "#### 9.2.2 Create the Organization list for each document"
   ]
  },
  {
   "cell_type": "code",
   "execution_count": 118,
   "metadata": {},
   "outputs": [],
   "source": [
    "org_list = []\n",
    "for i in range(0, len(lis)):\n",
    "    org_ent = {key:value for (key, value) in lis[i].items() if value == 'ORG'}\n",
    "    org_ent = list(org_ent.keys())\n",
    "    \n",
    "    org_list.append(org_ent)"
   ]
  },
  {
   "cell_type": "code",
   "execution_count": 119,
   "metadata": {},
   "outputs": [],
   "source": [
    "abt_covid[\"text_ner_orgs\"] = org_list"
   ]
  },
  {
   "cell_type": "markdown",
   "metadata": {},
   "source": [
    "#### 9.2.3 Create the Location list for each document"
   ]
  },
  {
   "cell_type": "code",
   "execution_count": 121,
   "metadata": {},
   "outputs": [],
   "source": [
    "loc_list = []\n",
    "for i in range(0, len(lis)):\n",
    "    loc_ent = {key:value for (key, value) in lis[i].items() if value == 'LOC'}\n",
    "    loc_ent = list(loc_ent.keys())\n",
    "    \n",
    "    loc_list.append(loc_ent)"
   ]
  },
  {
   "cell_type": "code",
   "execution_count": 122,
   "metadata": {},
   "outputs": [],
   "source": [
    "abt_covid[\"text_ner_locs\"] = loc_list"
   ]
  },
  {
   "cell_type": "markdown",
   "metadata": {},
   "source": [
    "### 10. Sentiment Analysis"
   ]
  },
  {
   "cell_type": "markdown",
   "metadata": {},
   "source": [
    "#### 10.1 Polarity Analysis\n",
    "\n",
    "The sentiment polarization function iterates through the document lemmas. If the lemma in negative word dictionary it returns with -1, if the lemma in the positive word dictionary it returns with 1. If the lemma not in the positive and negative dictionary, the lemma is neutral, so it returns with 0. I will apply the sentiment_polarizer function on title and text."
   ]
  },
  {
   "cell_type": "code",
   "execution_count": 16,
   "metadata": {},
   "outputs": [],
   "source": [
    "def sentiment_polarizer(df):\n",
    "    sent = []\n",
    "    for i in range(0, len(df)):\n",
    "        if str(df[i]) in pos: \n",
    "            sent.append(1)\n",
    "        elif str(df[i]) in neg: \n",
    "            sent.append(-1)\n",
    "        else:\n",
    "            sent.append(0)\n",
    "    return sent"
   ]
  },
  {
   "cell_type": "code",
   "execution_count": 22,
   "metadata": {},
   "outputs": [],
   "source": [
    "def polariser(senti_list):\n",
    "    \n",
    "    if sum(senti_list) > 0:\n",
    "        polarity = sum(senti_list) / len(senti_list)\n",
    "    else:\n",
    "        polarity = 0\n",
    "        \n",
    "    return polarity"
   ]
  },
  {
   "cell_type": "markdown",
   "metadata": {},
   "source": [
    "#### 10.1.1 Polarity analysis on title lemmas"
   ]
  },
  {
   "cell_type": "code",
   "execution_count": 17,
   "metadata": {},
   "outputs": [],
   "source": [
    "abt_covid[\"title_senti_list\"] = abt_covid[\"title_lemmas\"].apply(lambda x: sentiment_polarizer(x))"
   ]
  },
  {
   "cell_type": "code",
   "execution_count": 23,
   "metadata": {},
   "outputs": [],
   "source": [
    "abt_covid[\"title_polarity\"] = abt_covid[\"title_senti_list\"].apply(lambda x: polariser(x))"
   ]
  },
  {
   "cell_type": "code",
   "execution_count": 31,
   "metadata": {},
   "outputs": [
    {
     "data": {
      "text/html": [
       "<div>\n",
       "<style scoped>\n",
       "    .dataframe tbody tr th:only-of-type {\n",
       "        vertical-align: middle;\n",
       "    }\n",
       "\n",
       "    .dataframe tbody tr th {\n",
       "        vertical-align: top;\n",
       "    }\n",
       "\n",
       "    .dataframe thead th {\n",
       "        text-align: right;\n",
       "    }\n",
       "</style>\n",
       "<table border=\"1\" class=\"dataframe\">\n",
       "  <thead>\n",
       "    <tr style=\"text-align: right;\">\n",
       "      <th></th>\n",
       "      <th>title</th>\n",
       "      <th>date</th>\n",
       "      <th>text</th>\n",
       "      <th>source</th>\n",
       "      <th>dezinf</th>\n",
       "      <th>title_word_cnt</th>\n",
       "      <th>title_avg_word</th>\n",
       "      <th>title_exclam_num</th>\n",
       "      <th>title_ques_num</th>\n",
       "      <th>title_stop_cnt</th>\n",
       "      <th>...</th>\n",
       "      <th>text_propn_ratio</th>\n",
       "      <th>text_adj_ratio</th>\n",
       "      <th>title_ner_pers</th>\n",
       "      <th>title_ner_orgs</th>\n",
       "      <th>title_ner_locs</th>\n",
       "      <th>text_ner_pers</th>\n",
       "      <th>text_ner_orgs</th>\n",
       "      <th>text_ner_locs</th>\n",
       "      <th>title_senti_list</th>\n",
       "      <th>title_polarity</th>\n",
       "    </tr>\n",
       "  </thead>\n",
       "  <tbody>\n",
       "    <tr>\n",
       "      <th>\"21273\"</th>\n",
       "      <td>A megbízhatóság, a stabilitás nagyon fontos</td>\n",
       "      <td>2020.06.25. 08:07</td>\n",
       "      <td>Hollik István, a KDNP országgyűlési képviselőj...</td>\n",
       "      <td>origo.hu</td>\n",
       "      <td>0</td>\n",
       "      <td>6</td>\n",
       "      <td>6.333333</td>\n",
       "      <td>0</td>\n",
       "      <td>0</td>\n",
       "      <td>2</td>\n",
       "      <td>...</td>\n",
       "      <td>0.0</td>\n",
       "      <td>0.280000</td>\n",
       "      <td>[]</td>\n",
       "      <td>[]</td>\n",
       "      <td>[]</td>\n",
       "      <td>[Hollik István, Karácsony Gergely]</td>\n",
       "      <td>[KDNP, Fidesz, Heti Tv Pirkadat, Lánchíd, Fővá...</td>\n",
       "      <td>[Lánchídról, Magyarország]</td>\n",
       "      <td>[1, 1, 1]</td>\n",
       "      <td>1.0</td>\n",
       "    </tr>\n",
       "    <tr>\n",
       "      <th>\"5575\"</th>\n",
       "      <td>Nem vagyok szakember, de...</td>\n",
       "      <td>2020-04-01</td>\n",
       "      <td>2020 van, közhely, hogy sokaknak a közösségi ...</td>\n",
       "      <td>index.hu</td>\n",
       "      <td>0</td>\n",
       "      <td>4</td>\n",
       "      <td>6.000000</td>\n",
       "      <td>0</td>\n",
       "      <td>0</td>\n",
       "      <td>1</td>\n",
       "      <td>...</td>\n",
       "      <td>0.0</td>\n",
       "      <td>0.244318</td>\n",
       "      <td>[]</td>\n",
       "      <td>[]</td>\n",
       "      <td>[]</td>\n",
       "      <td>[Müller Viktor]</td>\n",
       "      <td>[Indexnek, ELTE Biológiai Intézetének, Index]</td>\n",
       "      <td>[]</td>\n",
       "      <td>[1]</td>\n",
       "      <td>1.0</td>\n",
       "    </tr>\n",
       "  </tbody>\n",
       "</table>\n",
       "<p>2 rows × 48 columns</p>\n",
       "</div>"
      ],
      "text/plain": [
       "                                               title               date  \\\n",
       "\"21273\"  A megbízhatóság, a stabilitás nagyon fontos  2020.06.25. 08:07   \n",
       "\"5575\"                   Nem vagyok szakember, de...         2020-04-01   \n",
       "\n",
       "                                                      text    source  dezinf  \\\n",
       "\"21273\"  Hollik István, a KDNP országgyűlési képviselőj...  origo.hu       0   \n",
       "\"5575\"    2020 van, közhely, hogy sokaknak a közösségi ...  index.hu       0   \n",
       "\n",
       "         title_word_cnt  title_avg_word  title_exclam_num  title_ques_num  \\\n",
       "\"21273\"               6        6.333333                 0               0   \n",
       "\"5575\"                4        6.000000                 0               0   \n",
       "\n",
       "         title_stop_cnt  ...  text_propn_ratio  text_adj_ratio  \\\n",
       "\"21273\"               2  ...               0.0        0.280000   \n",
       "\"5575\"                1  ...               0.0        0.244318   \n",
       "\n",
       "         title_ner_pers  title_ner_orgs  title_ner_locs  \\\n",
       "\"21273\"              []              []              []   \n",
       "\"5575\"               []              []              []   \n",
       "\n",
       "                              text_ner_pers  \\\n",
       "\"21273\"  [Hollik István, Karácsony Gergely]   \n",
       "\"5575\"                      [Müller Viktor]   \n",
       "\n",
       "                                             text_ner_orgs  \\\n",
       "\"21273\"  [KDNP, Fidesz, Heti Tv Pirkadat, Lánchíd, Fővá...   \n",
       "\"5575\"       [Indexnek, ELTE Biológiai Intézetének, Index]   \n",
       "\n",
       "                      text_ner_locs  title_senti_list title_polarity  \n",
       "\"21273\"  [Lánchídról, Magyarország]         [1, 1, 1]            1.0  \n",
       "\"5575\"                           []               [1]            1.0  \n",
       "\n",
       "[2 rows x 48 columns]"
      ]
     },
     "execution_count": 31,
     "metadata": {},
     "output_type": "execute_result"
    }
   ],
   "source": [
    "abt_covid[abt_covid[\"title_polarity\"] > 0].sort_values(by=[\"title_polarity\"], ascending = False).head(2)"
   ]
  },
  {
   "cell_type": "markdown",
   "metadata": {},
   "source": [
    "#### 10.1.2 Polarity analysis on text lemmas"
   ]
  },
  {
   "cell_type": "code",
   "execution_count": 32,
   "metadata": {},
   "outputs": [],
   "source": [
    "abt_covid[\"text_senti_list\"] = abt_covid[\"text_lemmas\"].apply(lambda x: sentiment_polarizer(x))"
   ]
  },
  {
   "cell_type": "code",
   "execution_count": 34,
   "metadata": {},
   "outputs": [],
   "source": [
    "abt_covid[\"text_polarity\"] = abt_covid[\"text_senti_list\"].apply(lambda x: polariser(x))"
   ]
  },
  {
   "cell_type": "code",
   "execution_count": 38,
   "metadata": {
    "scrolled": false
   },
   "outputs": [
    {
     "data": {
      "text/html": [
       "<div>\n",
       "<style scoped>\n",
       "    .dataframe tbody tr th:only-of-type {\n",
       "        vertical-align: middle;\n",
       "    }\n",
       "\n",
       "    .dataframe tbody tr th {\n",
       "        vertical-align: top;\n",
       "    }\n",
       "\n",
       "    .dataframe thead th {\n",
       "        text-align: right;\n",
       "    }\n",
       "</style>\n",
       "<table border=\"1\" class=\"dataframe\">\n",
       "  <thead>\n",
       "    <tr style=\"text-align: right;\">\n",
       "      <th></th>\n",
       "      <th>title</th>\n",
       "      <th>date</th>\n",
       "      <th>text</th>\n",
       "      <th>source</th>\n",
       "      <th>dezinf</th>\n",
       "      <th>title_word_cnt</th>\n",
       "      <th>title_avg_word</th>\n",
       "      <th>title_exclam_num</th>\n",
       "      <th>title_ques_num</th>\n",
       "      <th>title_stop_cnt</th>\n",
       "      <th>...</th>\n",
       "      <th>title_ner_pers</th>\n",
       "      <th>title_ner_orgs</th>\n",
       "      <th>title_ner_locs</th>\n",
       "      <th>text_ner_pers</th>\n",
       "      <th>text_ner_orgs</th>\n",
       "      <th>text_ner_locs</th>\n",
       "      <th>title_senti_list</th>\n",
       "      <th>title_polarity</th>\n",
       "      <th>text_senti_list</th>\n",
       "      <th>text_polarity</th>\n",
       "    </tr>\n",
       "  </thead>\n",
       "  <tbody>\n",
       "    <tr>\n",
       "      <th>\"77461\"</th>\n",
       "      <td>Orbán Viktor: Köszönjük!</td>\n",
       "      <td>2021.06.05. 20:20</td>\n",
       "      <td>A magyar kormányfő a közösségi oldalán közzéte...</td>\n",
       "      <td>origo.hu</td>\n",
       "      <td>0</td>\n",
       "      <td>3</td>\n",
       "      <td>7.333333</td>\n",
       "      <td>1</td>\n",
       "      <td>0</td>\n",
       "      <td>0</td>\n",
       "      <td>...</td>\n",
       "      <td>[Orbán Viktor, Köszönjük]</td>\n",
       "      <td>[]</td>\n",
       "      <td>[]</td>\n",
       "      <td>[]</td>\n",
       "      <td>[]</td>\n",
       "      <td>[]</td>\n",
       "      <td>[0, 0, 0]</td>\n",
       "      <td>0.0</td>\n",
       "      <td>[0, 0, 0, 0, 0, 1, 0, 0, 1, 0, 0, 0, 1, 0, 1, ...</td>\n",
       "      <td>0.222222</td>\n",
       "    </tr>\n",
       "    <tr>\n",
       "      <th>\"586\"</th>\n",
       "      <td>Hétfőn érkeznek meg kórházparancsnokok a kór...</td>\n",
       "      <td>2020-03-29</td>\n",
       "      <td>Hétfőtől kórházparancsnokok segítik a kórháza...</td>\n",
       "      <td>eztnezdmeg.com</td>\n",
       "      <td>1</td>\n",
       "      <td>8</td>\n",
       "      <td>7.666667</td>\n",
       "      <td>0</td>\n",
       "      <td>0</td>\n",
       "      <td>2</td>\n",
       "      <td>...</td>\n",
       "      <td>[]</td>\n",
       "      <td>[]</td>\n",
       "      <td>[]</td>\n",
       "      <td>[]</td>\n",
       "      <td>[]</td>\n",
       "      <td>[]</td>\n",
       "      <td>[0, 0, 0, 0]</td>\n",
       "      <td>0.0</td>\n",
       "      <td>[0, 0, 1, 0, 0]</td>\n",
       "      <td>0.200000</td>\n",
       "    </tr>\n",
       "    <tr>\n",
       "      <th>\"586\"</th>\n",
       "      <td>Hétfőn érkeznek meg kórházparancsnokok a kór...</td>\n",
       "      <td>2020-03-29</td>\n",
       "      <td>Hétfőtől kórházparancsnokok segítik a kórháza...</td>\n",
       "      <td>eztnezdmeg.com</td>\n",
       "      <td>1</td>\n",
       "      <td>8</td>\n",
       "      <td>7.666667</td>\n",
       "      <td>0</td>\n",
       "      <td>0</td>\n",
       "      <td>2</td>\n",
       "      <td>...</td>\n",
       "      <td>[]</td>\n",
       "      <td>[]</td>\n",
       "      <td>[]</td>\n",
       "      <td>[]</td>\n",
       "      <td>[]</td>\n",
       "      <td>[]</td>\n",
       "      <td>[0, 0, 0, 0]</td>\n",
       "      <td>0.0</td>\n",
       "      <td>[0, 0, 1, 0, 0]</td>\n",
       "      <td>0.200000</td>\n",
       "    </tr>\n",
       "    <tr>\n",
       "      <th>\"3878\"</th>\n",
       "      <td>Hétfőn érkeznek meg kórházparancsnokok a kór...</td>\n",
       "      <td>2020-03-29</td>\n",
       "      <td>Hétfőtől kórházparancsnokok segítik a kórháza...</td>\n",
       "      <td>eztnezdmeg.com</td>\n",
       "      <td>1</td>\n",
       "      <td>8</td>\n",
       "      <td>7.666667</td>\n",
       "      <td>0</td>\n",
       "      <td>0</td>\n",
       "      <td>2</td>\n",
       "      <td>...</td>\n",
       "      <td>[]</td>\n",
       "      <td>[]</td>\n",
       "      <td>[]</td>\n",
       "      <td>[]</td>\n",
       "      <td>[]</td>\n",
       "      <td>[]</td>\n",
       "      <td>[0, 0, 0, 0]</td>\n",
       "      <td>0.0</td>\n",
       "      <td>[0, 0, 1, 0, 0]</td>\n",
       "      <td>0.200000</td>\n",
       "    </tr>\n",
       "    <tr>\n",
       "      <th>\"1280\"</th>\n",
       "      <td>Ember száját nem hagyta még el olyan igazság, ...</td>\n",
       "      <td>2021.ápr.02.</td>\n",
       "      <td>Juszt László értelmes, őszinte ember. Úgy láts...</td>\n",
       "      <td>minden-egyben.com</td>\n",
       "      <td>1</td>\n",
       "      <td>23</td>\n",
       "      <td>5.000000</td>\n",
       "      <td>0</td>\n",
       "      <td>0</td>\n",
       "      <td>9</td>\n",
       "      <td>...</td>\n",
       "      <td>[Ember, Juszt László]</td>\n",
       "      <td>[]</td>\n",
       "      <td>[MindenegybenBlog]</td>\n",
       "      <td>[Juszt László]</td>\n",
       "      <td>[]</td>\n",
       "      <td>[]</td>\n",
       "      <td>[0, 0, 0, 0, 0, 0, 0, 0, 0]</td>\n",
       "      <td>0.0</td>\n",
       "      <td>[0, 0, 1, 1, 0, 0, 0, 0, 0, 0]</td>\n",
       "      <td>0.200000</td>\n",
       "    </tr>\n",
       "  </tbody>\n",
       "</table>\n",
       "<p>5 rows × 50 columns</p>\n",
       "</div>"
      ],
      "text/plain": [
       "                                                     title               date  \\\n",
       "\"77461\"                           Orbán Viktor: Köszönjük!  2021.06.05. 20:20   \n",
       "\"586\"      Hétfőn érkeznek meg kórházparancsnokok a kór...         2020-03-29   \n",
       "\"586\"      Hétfőn érkeznek meg kórházparancsnokok a kór...         2020-03-29   \n",
       "\"3878\"     Hétfőn érkeznek meg kórházparancsnokok a kór...         2020-03-29   \n",
       "\"1280\"   Ember száját nem hagyta még el olyan igazság, ...       2021.ápr.02.   \n",
       "\n",
       "                                                      text             source  \\\n",
       "\"77461\"  A magyar kormányfő a közösségi oldalán közzéte...           origo.hu   \n",
       "\"586\"     Hétfőtől kórházparancsnokok segítik a kórháza...     eztnezdmeg.com   \n",
       "\"586\"     Hétfőtől kórházparancsnokok segítik a kórháza...     eztnezdmeg.com   \n",
       "\"3878\"    Hétfőtől kórházparancsnokok segítik a kórháza...     eztnezdmeg.com   \n",
       "\"1280\"   Juszt László értelmes, őszinte ember. Úgy láts...  minden-egyben.com   \n",
       "\n",
       "         dezinf  title_word_cnt  title_avg_word  title_exclam_num  \\\n",
       "\"77461\"       0               3        7.333333                 1   \n",
       "\"586\"         1               8        7.666667                 0   \n",
       "\"586\"         1               8        7.666667                 0   \n",
       "\"3878\"        1               8        7.666667                 0   \n",
       "\"1280\"        1              23        5.000000                 0   \n",
       "\n",
       "         title_ques_num  title_stop_cnt  ...             title_ner_pers  \\\n",
       "\"77461\"               0               0  ...  [Orbán Viktor, Köszönjük]   \n",
       "\"586\"                 0               2  ...                         []   \n",
       "\"586\"                 0               2  ...                         []   \n",
       "\"3878\"                0               2  ...                         []   \n",
       "\"1280\"                0               9  ...      [Ember, Juszt László]   \n",
       "\n",
       "         title_ner_orgs      title_ner_locs   text_ner_pers  text_ner_orgs  \\\n",
       "\"77461\"              []                  []              []             []   \n",
       "\"586\"                []                  []              []             []   \n",
       "\"586\"                []                  []              []             []   \n",
       "\"3878\"               []                  []              []             []   \n",
       "\"1280\"               []  [MindenegybenBlog]  [Juszt László]             []   \n",
       "\n",
       "         text_ner_locs             title_senti_list  title_polarity  \\\n",
       "\"77461\"             []                    [0, 0, 0]             0.0   \n",
       "\"586\"               []                 [0, 0, 0, 0]             0.0   \n",
       "\"586\"               []                 [0, 0, 0, 0]             0.0   \n",
       "\"3878\"              []                 [0, 0, 0, 0]             0.0   \n",
       "\"1280\"              []  [0, 0, 0, 0, 0, 0, 0, 0, 0]             0.0   \n",
       "\n",
       "                                           text_senti_list text_polarity  \n",
       "\"77461\"  [0, 0, 0, 0, 0, 1, 0, 0, 1, 0, 0, 0, 1, 0, 1, ...      0.222222  \n",
       "\"586\"                                      [0, 0, 1, 0, 0]      0.200000  \n",
       "\"586\"                                      [0, 0, 1, 0, 0]      0.200000  \n",
       "\"3878\"                                     [0, 0, 1, 0, 0]      0.200000  \n",
       "\"1280\"                      [0, 0, 1, 1, 0, 0, 0, 0, 0, 0]      0.200000  \n",
       "\n",
       "[5 rows x 50 columns]"
      ]
     },
     "execution_count": 38,
     "metadata": {},
     "output_type": "execute_result"
    }
   ],
   "source": [
    "abt_covid[abt_covid[\"text_polarity\"] > 0].sort_values(by=[\"text_polarity\"], ascending = False).head(5)"
   ]
  },
  {
   "cell_type": "markdown",
   "metadata": {},
   "source": [
    "### 11. Save the created dataframe "
   ]
  },
  {
   "cell_type": "code",
   "execution_count": 39,
   "metadata": {},
   "outputs": [
    {
     "data": {
      "text/plain": [
       "Index(['title', 'date', 'text', 'source', 'dezinf', 'title_word_cnt',\n",
       "       'title_avg_word', 'title_exclam_num', 'title_ques_num',\n",
       "       'title_stop_cnt', 'title_cnt_upper', 'text_word_cnt', 'text_avg_word',\n",
       "       'text_ques_num', 'text_exclam_num', 'text_stop_cnt', 'text_cnt_upper',\n",
       "       'text_cnt_num', 'title_cnt_num', 'title_cleaned', 'text_cleaned',\n",
       "       'title_tokens', 'text_tokens', 'title_lemmas', 'text_lemmas',\n",
       "       'title_pos', 'text_pos', 'text_unique_lemma_ratio',\n",
       "       'title_cnt_unique_lemmas', 'title_stop_word_ratio',\n",
       "       'text_cnt_unique_lemmas', 'text_stop_word_ratio', 'title_noun_ratio',\n",
       "       'title_verb_ratio', 'title_propn_ratio', 'title_adj_ratio',\n",
       "       'text_noun_ratio', 'text_verb_ratio', 'text_propn_ratio',\n",
       "       'text_adj_ratio', 'title_ner_pers', 'title_ner_orgs', 'title_ner_locs',\n",
       "       'text_ner_pers', 'text_ner_orgs', 'text_ner_locs', 'title_senti_list',\n",
       "       'title_polarity', 'text_senti_list', 'text_polarity'],\n",
       "      dtype='object')"
      ]
     },
     "execution_count": 39,
     "metadata": {},
     "output_type": "execute_result"
    }
   ],
   "source": [
    "abt_covid.columns"
   ]
  },
  {
   "cell_type": "code",
   "execution_count": 40,
   "metadata": {},
   "outputs": [],
   "source": [
    "abt_covid.to_pickle('C:/Users/molna/Desktop/Szakdolgozat/adatok/abt_covid_featured.pkl')"
   ]
  }
 ],
 "metadata": {
  "kernelspec": {
   "display_name": "Python 3",
   "language": "python",
   "name": "python3"
  },
  "language_info": {
   "codemirror_mode": {
    "name": "ipython",
    "version": 3
   },
   "file_extension": ".py",
   "mimetype": "text/x-python",
   "name": "python",
   "nbconvert_exporter": "python",
   "pygments_lexer": "ipython3",
   "version": "3.7.6"
  }
 },
 "nbformat": 4,
 "nbformat_minor": 4
}
