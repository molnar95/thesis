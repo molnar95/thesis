{
 "cells": [
  {
   "cell_type": "markdown",
   "metadata": {},
   "source": [
    "## CBOW modelling\n",
    "\n",
    "This notebook contains CBOW modelling script on the collected mainstream and dezinformational.\n",
    "\n",
    "Table of Content:\n",
    "* **1. Import required packages**\n",
    "* **2. Import files**\n",
    "* 2.1 Separate mainstream and dezinformational articles"
   ]
  },
  {
   "cell_type": "markdown",
   "metadata": {},
   "source": [
    "### 1. Import required packages"
   ]
  },
  {
   "cell_type": "code",
   "execution_count": 1,
   "metadata": {},
   "outputs": [],
   "source": [
    "import pickle\n",
    "import pandas as pd\n",
    "import numpy as np\n",
    "\n",
    "from gensim.models import Word2Vec"
   ]
  },
  {
   "cell_type": "markdown",
   "metadata": {},
   "source": [
    "### 2. Import files"
   ]
  },
  {
   "cell_type": "code",
   "execution_count": 2,
   "metadata": {},
   "outputs": [
    {
     "name": "stdout",
     "output_type": "stream",
     "text": [
      "ABT table has 63633 rows and 50 columns\n"
     ]
    }
   ],
   "source": [
    "abt_covid = pd.read_pickle('C:/Users/molna/Desktop/Szakdolgozat/adatok/abt_covid_featured.pkl')\n",
    "\n",
    "print(\"ABT table has {} rows and {} columns\".format(len(abt_covid), len(abt_covid.columns)))"
   ]
  },
  {
   "cell_type": "code",
   "execution_count": 3,
   "metadata": {},
   "outputs": [
    {
     "data": {
      "text/plain": [
       "Index(['title', 'date', 'text', 'source', 'dezinf', 'title_word_cnt',\n",
       "       'title_avg_word', 'title_exclam_num', 'title_ques_num',\n",
       "       'title_stop_cnt', 'title_cnt_upper', 'text_word_cnt', 'text_avg_word',\n",
       "       'text_ques_num', 'text_exclam_num', 'text_stop_cnt', 'text_cnt_upper',\n",
       "       'text_cnt_num', 'title_cnt_num', 'title_cleaned', 'text_cleaned',\n",
       "       'title_tokens', 'text_tokens', 'title_lemmas', 'text_lemmas',\n",
       "       'title_pos', 'text_pos', 'text_unique_lemma_ratio',\n",
       "       'title_cnt_unique_lemmas', 'title_stop_word_ratio',\n",
       "       'text_cnt_unique_lemmas', 'text_stop_word_ratio', 'title_noun_ratio',\n",
       "       'title_verb_ratio', 'title_propn_ratio', 'title_adj_ratio',\n",
       "       'text_noun_ratio', 'text_verb_ratio', 'text_propn_ratio',\n",
       "       'text_adj_ratio', 'title_ner_pers', 'title_ner_orgs', 'title_ner_locs',\n",
       "       'text_ner_pers', 'text_ner_orgs', 'text_ner_locs', 'title_senti_list',\n",
       "       'title_polarity', 'text_senti_list', 'text_polarity'],\n",
       "      dtype='object')"
      ]
     },
     "execution_count": 3,
     "metadata": {},
     "output_type": "execute_result"
    }
   ],
   "source": [
    "abt_covid.columns"
   ]
  },
  {
   "cell_type": "markdown",
   "metadata": {},
   "source": [
    "### 2.1 Separate mainstream and dezinformational articles"
   ]
  },
  {
   "cell_type": "code",
   "execution_count": 4,
   "metadata": {},
   "outputs": [],
   "source": [
    "abt_covid_mainstream = abt_covid[abt_covid[\"dezinf\"] == 0]"
   ]
  },
  {
   "cell_type": "code",
   "execution_count": 5,
   "metadata": {},
   "outputs": [],
   "source": [
    "abt_covid_dezinf = abt_covid[abt_covid[\"dezinf\"] == 1]"
   ]
  },
  {
   "cell_type": "markdown",
   "metadata": {},
   "source": [
    "### 3. CBOW modelling on dezinformational articles"
   ]
  },
  {
   "cell_type": "code",
   "execution_count": 7,
   "metadata": {},
   "outputs": [],
   "source": [
    "CBOW_model_dezinf_title = Word2Vec(abt_covid_dezinf[\"title_lemmas\"], min_count=5, workers=3, window=9, sg=0)"
   ]
  },
  {
   "cell_type": "code",
   "execution_count": 10,
   "metadata": {},
   "outputs": [],
   "source": [
    "pickle.dump(CBOW_model_dezinf_title, open('C:/Users/molna/Desktop/Szakdolgozat/CBOW_model_dezinf_title.pk', 'wb'))"
   ]
  },
  {
   "cell_type": "code",
   "execution_count": 8,
   "metadata": {},
   "outputs": [],
   "source": [
    "CBOW_model_dezinf_article = Word2Vec(abt_covid_dezinf[\"text_lemmas\"], min_count=5, workers=3, window=9, sg=0)"
   ]
  },
  {
   "cell_type": "code",
   "execution_count": 11,
   "metadata": {},
   "outputs": [],
   "source": [
    "pickle.dump(CBOW_model_dezinf_article, open('C:/Users/molna/Desktop/Szakdolgozat/CBOW_model_dezinf_article.pk', 'wb'))"
   ]
  },
  {
   "cell_type": "markdown",
   "metadata": {},
   "source": [
    "#### 3.1 CBOW on articles title"
   ]
  },
  {
   "cell_type": "code",
   "execution_count": 20,
   "metadata": {},
   "outputs": [
    {
     "name": "stderr",
     "output_type": "stream",
     "text": [
      "C:\\Users\\molna\\anaconda3\\lib\\site-packages\\ipykernel_launcher.py:1: DeprecationWarning: Call to deprecated `most_similar` (Method will be removed in 4.0.0, use self.wv.most_similar() instead).\n",
      "  \"\"\"Entry point for launching an IPython kernel.\n"
     ]
    },
    {
     "data": {
      "text/plain": [
       "[('koronavírusos', 0.998615026473999),\n",
       " ('elhunyt', 0.996547520160675),\n",
       " ('hal', 0.9959557056427002),\n",
       " ('áldozat', 0.9955768585205078),\n",
       " ('érkezettsajnos', 0.9942648410797119),\n",
       " ('borzasztóan', 0.9934672117233276),\n",
       " ('dolog', 0.9933350086212158),\n",
       " ('szőrnyű', 0.9930605888366699),\n",
       " ('azonosít', 0.9927099347114563),\n",
       " ('rekord', 0.9924144744873047),\n",
       " ('gyógyult', 0.9921922087669373),\n",
       " ('krónikus', 0.9921479225158691),\n",
       " ('fő', 0.991748571395874),\n",
       " ('terhes', 0.9915972948074341),\n",
       " ('éjjel', 0.9912574291229248),\n",
       " ('itthon', 0.9907810688018799),\n",
       " ('ébred', 0.9907292127609253),\n",
       " ('meghal', 0.9904597401618958),\n",
       " ('nagyot', 0.9904000163078308),\n",
       " ('igazolt', 0.9903033971786499)]"
      ]
     },
     "execution_count": 20,
     "metadata": {},
     "output_type": "execute_result"
    }
   ],
   "source": [
    "CBOW_model_dezinf_title.most_similar(positive=[\"koronavírus\"], negative=[], topn=20, restrict_vocab=None, indexer=None)"
   ]
  },
  {
   "cell_type": "markdown",
   "metadata": {},
   "source": [
    "#### 3.2 CBOW on articles text"
   ]
  },
  {
   "cell_type": "code",
   "execution_count": 18,
   "metadata": {},
   "outputs": [
    {
     "name": "stderr",
     "output_type": "stream",
     "text": [
      "C:\\Users\\molna\\anaconda3\\lib\\site-packages\\ipykernel_launcher.py:1: DeprecationWarning: Call to deprecated `most_similar` (Method will be removed in 4.0.0, use self.wv.most_similar() instead).\n",
      "  \"\"\"Entry point for launching an IPython kernel.\n"
     ]
    },
    {
     "data": {
      "text/plain": [
       "[('vírus', 0.5537782311439514),\n",
       " ('kezdet', 0.5316112041473389),\n",
       " ('covi', 0.5142301321029663),\n",
       " ('megugrana', 0.4509262442588806),\n",
       " ('újrafertőződés', 0.44093799591064453),\n",
       " ('keletkezhet', 0.44069868326187134),\n",
       " ('szerotípus', 0.42996180057525635),\n",
       " ('stockholm', 0.4154028594493866),\n",
       " ('kanyaró', 0.41127607226371765),\n",
       " ('kitörés', 0.40510863065719604),\n",
       " ('megelőzhető', 0.402570903301239),\n",
       " ('tünetmentes', 0.39998534321784973),\n",
       " ('megjelenés', 0.3993462920188904),\n",
       " ('átesett', 0.3908366560935974),\n",
       " ('koronaívrus', 0.3870522379875183),\n",
       " ('brit', 0.38629311323165894),\n",
       " ('gyors', 0.3857772946357727),\n",
       " ('sars', 0.3842359185218811),\n",
       " ('potenciális', 0.3836808204650879),\n",
       " ('azonosít', 0.3825083374977112)]"
      ]
     },
     "execution_count": 18,
     "metadata": {},
     "output_type": "execute_result"
    }
   ],
   "source": [
    "CBOW_model_dezinf_article.most_similar(positive=[\"koronavírus\"], negative=[], topn=20, restrict_vocab=None, indexer=None)"
   ]
  },
  {
   "cell_type": "markdown",
   "metadata": {},
   "source": [
    "### 4. CBOW modelling on mainstream articles\n"
   ]
  },
  {
   "cell_type": "code",
   "execution_count": 21,
   "metadata": {},
   "outputs": [],
   "source": [
    "CBOW_model_main_title = Word2Vec(abt_covid_mainstream[\"title_lemmas\"], min_count=5, workers=3, window=9, sg=0)"
   ]
  },
  {
   "cell_type": "code",
   "execution_count": 22,
   "metadata": {},
   "outputs": [],
   "source": [
    "pickle.dump(CBOW_model_main_title, open('C:/Users/molna/Desktop/Szakdolgozat/CBOW_model_main_title.pk', 'wb'))"
   ]
  },
  {
   "cell_type": "code",
   "execution_count": 23,
   "metadata": {},
   "outputs": [],
   "source": [
    "CBOW_model_main_article = Word2Vec(abt_covid_mainstream[\"text_lemmas\"], min_count=5, workers=3, window=9, sg=0)"
   ]
  },
  {
   "cell_type": "code",
   "execution_count": 24,
   "metadata": {},
   "outputs": [],
   "source": [
    "pickle.dump(CBOW_model_main_article, open('C:/Users/molna/Desktop/Szakdolgozat/CBOW_model_main_article.pk', 'wb'))"
   ]
  },
  {
   "cell_type": "markdown",
   "metadata": {},
   "source": [
    "#### 3.1 CBOW on articles title"
   ]
  },
  {
   "cell_type": "code",
   "execution_count": 25,
   "metadata": {},
   "outputs": [
    {
     "name": "stderr",
     "output_type": "stream",
     "text": [
      "C:\\Users\\molna\\anaconda3\\lib\\site-packages\\ipykernel_launcher.py:1: DeprecationWarning: Call to deprecated `most_similar` (Method will be removed in 4.0.0, use self.wv.most_similar() instead).\n",
      "  \"\"\"Entry point for launching an IPython kernel.\n"
     ]
    },
    {
     "data": {
      "text/plain": [
       "[('vírus', 0.9704287052154541),\n",
       " ('szegénység', 0.9609699249267578),\n",
       " ('terjed', 0.9534137845039368),\n",
       " ('ütem', 0.9528130888938904),\n",
       " ('továbbra', 0.9489189386367798),\n",
       " ('gyors', 0.9471156001091003),\n",
       " ('mutáns', 0.9439229965209961),\n",
       " ('adat', 0.9431066513061523),\n",
       " ('lassul', 0.9425371289253235),\n",
       " ('szennyvíz', 0.9409483075141907),\n",
       " ('járványba', 0.9409302473068237),\n",
       " ('gyorsuló', 0.9408190846443176),\n",
       " ('elmúlt', 0.940660297870636),\n",
       " ('gyorsul', 0.940253496170044),\n",
       " ('áramfogyasztás', 0.9385579824447632),\n",
       " ('ukrajna', 0.9363289475440979),\n",
       " ('lelassul', 0.9362465739250183),\n",
       " ('azonosít', 0.9354507327079773),\n",
       " ('kitörés', 0.934977650642395),\n",
       " ('ő', 0.934356689453125)]"
      ]
     },
     "execution_count": 25,
     "metadata": {},
     "output_type": "execute_result"
    }
   ],
   "source": [
    "CBOW_model_main_title.most_similar(positive=[\"koronavírus\"], negative=[], topn=20, restrict_vocab=None, indexer=None)"
   ]
  },
  {
   "cell_type": "markdown",
   "metadata": {},
   "source": [
    "#### 3.2 CBOW on articles text"
   ]
  },
  {
   "cell_type": "code",
   "execution_count": 26,
   "metadata": {},
   "outputs": [
    {
     "name": "stderr",
     "output_type": "stream",
     "text": [
      "C:\\Users\\molna\\anaconda3\\lib\\site-packages\\ipykernel_launcher.py:1: DeprecationWarning: Call to deprecated `most_similar` (Method will be removed in 4.0.0, use self.wv.most_similar() instead).\n",
      "  \"\"\"Entry point for launching an IPython kernel.\n"
     ]
    },
    {
     "data": {
      "text/plain": [
       "[('covi', 0.6085655689239502),\n",
       " ('vírus', 0.5492939352989197),\n",
       " ('koronavírusos', 0.4433193504810333),\n",
       " ('kór', 0.42949536442756653),\n",
       " ('kezdet', 0.42572569847106934),\n",
       " ('tetőzésé', 0.41760849952697754),\n",
       " ('vírusvariáns', 0.38163506984710693),\n",
       " ('fellángolás', 0.37640005350112915),\n",
       " ('vírusváltozattal', 0.3734596371650696),\n",
       " ('kitörés', 0.3684489130973816),\n",
       " ('vírusfertőzés', 0.3671513795852661),\n",
       " ('regisztráltaka', 0.3649141788482666),\n",
       " ('fékezhető', 0.35908639430999756),\n",
       " ('vírustörzz', 0.3536154627799988),\n",
       " ('vírusváltozat', 0.35089975595474243),\n",
       " ('felkészülhess', 0.3466934561729431),\n",
       " ('elkerülte', 0.3461502194404602),\n",
       " ('esetleges', 0.3447743058204651),\n",
       " ('csúcspontján', 0.3434714078903198),\n",
       " ('tárki', 0.3424675166606903)]"
      ]
     },
     "execution_count": 26,
     "metadata": {},
     "output_type": "execute_result"
    }
   ],
   "source": [
    "CBOW_model_main_article.most_similar(positive=[\"koronavírus\"], negative=[], topn=20, restrict_vocab=None, indexer=None)"
   ]
  }
 ],
 "metadata": {
  "kernelspec": {
   "display_name": "Python 3",
   "language": "python",
   "name": "python3"
  },
  "language_info": {
   "codemirror_mode": {
    "name": "ipython",
    "version": 3
   },
   "file_extension": ".py",
   "mimetype": "text/x-python",
   "name": "python",
   "nbconvert_exporter": "python",
   "pygments_lexer": "ipython3",
   "version": "3.7.6"
  }
 },
 "nbformat": 4,
 "nbformat_minor": 4
}
